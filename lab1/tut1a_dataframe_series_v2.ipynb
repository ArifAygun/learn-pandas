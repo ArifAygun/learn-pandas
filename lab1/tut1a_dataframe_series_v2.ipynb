{
 "cells": [
  {
   "cell_type": "markdown",
   "metadata": {},
   "source": [
    "# Pandas\n",
    "\n",
    "* Manipulate & analyse ***tubular*** data\n",
    "* Data stuctures: ***DataFrame*** & ***Series***\n",
    "\n",
    "---"
   ]
  },
  {
   "cell_type": "code",
   "execution_count": 1,
   "metadata": {},
   "outputs": [
    {
     "name": "stdout",
     "output_type": "stream",
     "text": [
      "Requirement already satisfied: pandas in d:\\python310\\lib\\site-packages (1.4.2)\n",
      "Requirement already satisfied: python-dateutil>=2.8.1 in d:\\python310\\lib\\site-packages (from pandas) (2.8.2)\n",
      "Requirement already satisfied: pytz>=2020.1 in d:\\python310\\lib\\site-packages (from pandas) (2022.1)\n",
      "Requirement already satisfied: numpy>=1.21.0 in d:\\python310\\lib\\site-packages (from pandas) (1.22.4)\n",
      "Requirement already satisfied: six>=1.5 in d:\\python310\\lib\\site-packages (from python-dateutil>=2.8.1->pandas) (1.16.0)\n",
      "\n",
      "[notice] A new release of pip available: 22.1.2 -> 22.3\n",
      "[notice] To update, run: python.exe -m pip install --upgrade pip\n"
     ]
    }
   ],
   "source": [
    "!pip install pandas"
   ]
  },
  {
   "cell_type": "markdown",
   "metadata": {},
   "source": [
    "##### Import Packages\n"
   ]
  },
  {
   "cell_type": "code",
   "execution_count": 2,
   "metadata": {},
   "outputs": [
    {
     "data": {
      "text/plain": [
       "'1.3.2'"
      ]
     },
     "execution_count": 2,
     "metadata": {},
     "output_type": "execute_result"
    }
   ],
   "source": [
    "import pandas as pd\n",
    "import numpy as np\n",
    "\n",
    "#!pip install pandas\n",
    "pd.__version__"
   ]
  },
  {
   "cell_type": "markdown",
   "metadata": {},
   "source": [
    "# 1. Series\n",
    "* 1D-list structure\n",
    "* with ***index*** but no column\n",
    "* a column in a DataFrame"
   ]
  },
  {
   "cell_type": "code",
   "execution_count": 4,
   "metadata": {},
   "outputs": [
    {
     "data": {
      "text/plain": [
       "a       red\n",
       "b      blue\n",
       "c     green\n",
       "d    yellow\n",
       "dtype: object"
      ]
     },
     "execution_count": 4,
     "metadata": {},
     "output_type": "execute_result"
    }
   ],
   "source": [
    "# Create a Series using a list\n",
    "# ser = pd.Series(['red', 'blue', 'green', 'yellow'])\n",
    "ser = pd.Series(['red', 'blue', 'green', 'yellow'], index=['a', 'b', 'c', 'd'])\n",
    "\n",
    "# type(ser)\n",
    "ser"
   ]
  },
  {
   "cell_type": "code",
   "execution_count": 6,
   "metadata": {},
   "outputs": [
    {
     "data": {
      "text/plain": [
       "1"
      ]
     },
     "execution_count": 6,
     "metadata": {},
     "output_type": "execute_result"
    }
   ],
   "source": [
    "ser.ndim\n",
    "# ser.shape\n",
    "# ser.size # row \n",
    "\n",
    "# ser.index\n",
    "# ser.describe()\n",
    "# ser.value_counts() # value_counts\n",
    "\n",
    "# ser[3] # position\n",
    "# ser[1:] # slice"
   ]
  },
  {
   "cell_type": "markdown",
   "metadata": {},
   "source": [
    "# 2. DataFrame \n",
    "\n",
    "* 2D-table structure\n",
    "* most frequently used stucture in pandas\n",
    "* with ***columns*** & ***index***\n",
    "* index could be number or string"
   ]
  },
  {
   "cell_type": "code",
   "execution_count": 7,
   "metadata": {},
   "outputs": [
    {
     "data": {
      "text/html": [
       "<div>\n",
       "<style scoped>\n",
       "    .dataframe tbody tr th:only-of-type {\n",
       "        vertical-align: middle;\n",
       "    }\n",
       "\n",
       "    .dataframe tbody tr th {\n",
       "        vertical-align: top;\n",
       "    }\n",
       "\n",
       "    .dataframe thead th {\n",
       "        text-align: right;\n",
       "    }\n",
       "</style>\n",
       "<table border=\"1\" class=\"dataframe\">\n",
       "  <thead>\n",
       "    <tr style=\"text-align: right;\">\n",
       "      <th></th>\n",
       "      <th>name</th>\n",
       "      <th>phone</th>\n",
       "      <th>gender</th>\n",
       "      <th>age</th>\n",
       "      <th>colA</th>\n",
       "    </tr>\n",
       "  </thead>\n",
       "  <tbody>\n",
       "    <tr>\n",
       "      <th>a</th>\n",
       "      <td>Paul</td>\n",
       "      <td>92435678</td>\n",
       "      <td>male</td>\n",
       "      <td>18.0</td>\n",
       "      <td>red</td>\n",
       "    </tr>\n",
       "    <tr>\n",
       "      <th>b</th>\n",
       "      <td>John</td>\n",
       "      <td>90909090</td>\n",
       "      <td>male</td>\n",
       "      <td>22.0</td>\n",
       "      <td>blue</td>\n",
       "    </tr>\n",
       "    <tr>\n",
       "      <th>c</th>\n",
       "      <td>Mary</td>\n",
       "      <td>09090909</td>\n",
       "      <td>female</td>\n",
       "      <td>23.0</td>\n",
       "      <td>green</td>\n",
       "    </tr>\n",
       "    <tr>\n",
       "      <th>d</th>\n",
       "      <td>Jane</td>\n",
       "      <td>12435678</td>\n",
       "      <td>female</td>\n",
       "      <td>NaN</td>\n",
       "      <td>yellow</td>\n",
       "    </tr>\n",
       "  </tbody>\n",
       "</table>\n",
       "</div>"
      ],
      "text/plain": [
       "   name     phone  gender   age    colA\n",
       "a  Paul  92435678    male  18.0     red\n",
       "b  John  90909090    male  22.0    blue\n",
       "c  Mary  09090909  female  23.0   green\n",
       "d  Jane  12435678  female   NaN  yellow"
      ]
     },
     "execution_count": 7,
     "metadata": {},
     "output_type": "execute_result"
    }
   ],
   "source": [
    "# creating dataframe (using dictionary)\n",
    "\n",
    "df = pd.DataFrame({'name': ['Paul', 'John', 'Mary', 'Jane'],\n",
    "                   'phone': ['92435678', '90909090', '09090909', '12435678'],\n",
    "                   'gender': ['male', 'male', 'female', 'female'],\n",
    "                   'age': [18, 22, 23, np.nan], \n",
    "                   'colA': ser},\n",
    "                  index=['a', 'b', 'c', 'd'])\n",
    "df"
   ]
  },
  {
   "cell_type": "code",
   "execution_count": 8,
   "metadata": {},
   "outputs": [
    {
     "data": {
      "text/plain": [
       "pandas.core.frame.DataFrame"
      ]
     },
     "execution_count": 8,
     "metadata": {},
     "output_type": "execute_result"
    }
   ],
   "source": [
    "type(df)\n",
    "# df.ndim\n",
    "# df.shape\n",
    "# df.size # row x col\n",
    "\n",
    "# df.columns\n",
    "# df.index\n",
    "# df.set_index('name') # changing index to other column\n",
    "\n",
    "# df.info()\n",
    "# df.describe()\n",
    "# df.count()\n",
    "\n",
    "# df.shape[0]"
   ]
  },
  {
   "cell_type": "markdown",
   "metadata": {},
   "source": [
    "## <font color=red>Column</font>"
   ]
  },
  {
   "cell_type": "code",
   "execution_count": 9,
   "metadata": {},
   "outputs": [],
   "source": [
    "# df.name # dot notation\n",
    "# df['name'] # series\n",
    "\n",
    "# fancy index\n",
    "# df[['name']] # it is a single column DATA FRAME! \n",
    "# df[['name','age']]  # select multiple column (DF)\n",
    "# df[['name','name']] # can be repeated, return a DF\n",
    "\n",
    "df['color'] = ser # add a column\n",
    "# df.assign(color2=ser) # add a column using assign function\n",
    "df = df.assign(color2=ser)\n",
    "\n",
    "# WARNING: to add a column, always use ['colname'], instead of dot notation\n",
    "# df.color = ser # update ok\n",
    "# df.color3 = ser # create new column, not working"
   ]
  },
  {
   "cell_type": "code",
   "execution_count": 10,
   "metadata": {},
   "outputs": [
    {
     "data": {
      "text/html": [
       "<div>\n",
       "<style scoped>\n",
       "    .dataframe tbody tr th:only-of-type {\n",
       "        vertical-align: middle;\n",
       "    }\n",
       "\n",
       "    .dataframe tbody tr th {\n",
       "        vertical-align: top;\n",
       "    }\n",
       "\n",
       "    .dataframe thead th {\n",
       "        text-align: right;\n",
       "    }\n",
       "</style>\n",
       "<table border=\"1\" class=\"dataframe\">\n",
       "  <thead>\n",
       "    <tr style=\"text-align: right;\">\n",
       "      <th></th>\n",
       "      <th>name</th>\n",
       "    </tr>\n",
       "  </thead>\n",
       "  <tbody>\n",
       "    <tr>\n",
       "      <th>a</th>\n",
       "      <td>Paul</td>\n",
       "    </tr>\n",
       "    <tr>\n",
       "      <th>b</th>\n",
       "      <td>John</td>\n",
       "    </tr>\n",
       "    <tr>\n",
       "      <th>c</th>\n",
       "      <td>Mary</td>\n",
       "    </tr>\n",
       "    <tr>\n",
       "      <th>d</th>\n",
       "      <td>Jane</td>\n",
       "    </tr>\n",
       "  </tbody>\n",
       "</table>\n",
       "</div>"
      ],
      "text/plain": [
       "   name\n",
       "a  Paul\n",
       "b  John\n",
       "c  Mary\n",
       "d  Jane"
      ]
     },
     "execution_count": 10,
     "metadata": {},
     "output_type": "execute_result"
    }
   ],
   "source": [
    "# filter() - filter (column name / index name)\n",
    "\n",
    "df.filter(['name']) # filter by columns (dataframe)\n",
    "# df.filter(items=['name','age'], axis='columns') # filter by columns (dataframe)\n",
    "\n",
    "# df.filter(like='col')\n",
    "# df.filter(regex='r$') # regex expression end with color\n",
    "\n",
    "# df.filter(items=['a','b'], axis='index') # select rows"
   ]
  },
  {
   "cell_type": "code",
   "execution_count": 11,
   "metadata": {},
   "outputs": [
    {
     "data": {
      "text/plain": [
       "'red'"
      ]
     },
     "execution_count": 11,
     "metadata": {},
     "output_type": "execute_result"
    }
   ],
   "source": [
    "# df.values\n",
    "df['color'][0] # series[pos]\n",
    "# df.age.mean()\n",
    "# df.age.median()\n",
    "# df.age.max() # get max item\n",
    "# df.age.idxmax() # get index value of max item\n",
    "# df.age = df.age + 1\n",
    "# df\n",
    "\n",
    "# df.gender.value_counts()\n",
    "# -(df.age)"
   ]
  },
  {
   "cell_type": "markdown",
   "metadata": {},
   "source": [
    "### Update data"
   ]
  },
  {
   "cell_type": "code",
   "execution_count": 12,
   "metadata": {},
   "outputs": [],
   "source": [
    "# df.color2 = 'unknown'\n",
    "df['color2'] = '-'\n",
    "# df['color2'] = df['color']\n",
    "# df['color2'] = df['color'] + ' color'\n",
    "# df['colB'] = df['colA'] * 2 # update each item of colB \n",
    "# df.colB = df.colA * 2\n",
    "# df.colB[1] # this can get the value, but you cannot assign value to it\n",
    "# df.colB[1] = 'AAA' # not working\n",
    "\n",
    "# but you can use loc/iloc indexer to update the value (will be cover later)\n",
    "# df.loc['b', 'colB'] = 'AAA' # but you can use loc/iloc indexer to update the value (will be cover later)\n",
    "# df.iloc[1,5] = 'CCC' \n",
    "# df\n",
    "# df"
   ]
  },
  {
   "cell_type": "code",
   "execution_count": 13,
   "metadata": {},
   "outputs": [
    {
     "data": {
      "text/html": [
       "<div>\n",
       "<style scoped>\n",
       "    .dataframe tbody tr th:only-of-type {\n",
       "        vertical-align: middle;\n",
       "    }\n",
       "\n",
       "    .dataframe tbody tr th {\n",
       "        vertical-align: top;\n",
       "    }\n",
       "\n",
       "    .dataframe thead th {\n",
       "        text-align: right;\n",
       "    }\n",
       "</style>\n",
       "<table border=\"1\" class=\"dataframe\">\n",
       "  <thead>\n",
       "    <tr style=\"text-align: right;\">\n",
       "      <th></th>\n",
       "      <th>name</th>\n",
       "      <th>phone</th>\n",
       "      <th>gender</th>\n",
       "      <th>age</th>\n",
       "      <th>colA</th>\n",
       "      <th>color</th>\n",
       "      <th>color2</th>\n",
       "    </tr>\n",
       "  </thead>\n",
       "  <tbody>\n",
       "    <tr>\n",
       "      <th>a</th>\n",
       "      <td>Paul</td>\n",
       "      <td>92435678</td>\n",
       "      <td>male</td>\n",
       "      <td>18.0</td>\n",
       "      <td>red</td>\n",
       "      <td>red</td>\n",
       "      <td>-</td>\n",
       "    </tr>\n",
       "    <tr>\n",
       "      <th>b</th>\n",
       "      <td>John</td>\n",
       "      <td>90909090</td>\n",
       "      <td>male</td>\n",
       "      <td>22.0</td>\n",
       "      <td>blue</td>\n",
       "      <td>blue</td>\n",
       "      <td>-</td>\n",
       "    </tr>\n",
       "    <tr>\n",
       "      <th>c</th>\n",
       "      <td>Mary</td>\n",
       "      <td>09090909</td>\n",
       "      <td>female</td>\n",
       "      <td>23.0</td>\n",
       "      <td>green</td>\n",
       "      <td>green</td>\n",
       "      <td>-</td>\n",
       "    </tr>\n",
       "    <tr>\n",
       "      <th>d</th>\n",
       "      <td>Jane</td>\n",
       "      <td>12435678</td>\n",
       "      <td>female</td>\n",
       "      <td>NaN</td>\n",
       "      <td>yellow</td>\n",
       "      <td>yellow</td>\n",
       "      <td>-</td>\n",
       "    </tr>\n",
       "  </tbody>\n",
       "</table>\n",
       "</div>"
      ],
      "text/plain": [
       "   name     phone  gender   age    colA   color color2\n",
       "a  Paul  92435678    male  18.0     red     red      -\n",
       "b  John  90909090    male  22.0    blue    blue      -\n",
       "c  Mary  09090909  female  23.0   green   green      -\n",
       "d  Jane  12435678  female   NaN  yellow  yellow      -"
      ]
     },
     "execution_count": 13,
     "metadata": {},
     "output_type": "execute_result"
    }
   ],
   "source": [
    "# no column name, no index name\n",
    "tmpDf = df.copy()  # create a new copy of dataframe\n",
    "\n",
    "# use fancy index to get a view of DF\n",
    "tmpDf[['phone', 'gender']] = 'X' # it will also update data of the original dataframe\n",
    "df"
   ]
  },
  {
   "cell_type": "code",
   "execution_count": 12,
   "metadata": {},
   "outputs": [],
   "source": [
    "# use loc indexer (label based) to update data\n",
    "# Syntax: df.loc[row(index), col] # MUST USE LABEL\n",
    "# tmpDf.loc[:, ['colA','color2']] = 'red'\n",
    "\n",
    "# use iloc indexer (position based) to update data\n",
    "# Syntax: df.iloc[row(index), col] # MUST USE POSITION\n",
    "# tmpDf.iloc[:, 4] = 'blue'\n",
    "\n",
    "# why they can do it? they return series or dataframe"
   ]
  },
  {
   "cell_type": "markdown",
   "metadata": {},
   "source": [
    "##### Column.str functions\n",
    "* https://pandas.pydata.org/pandas-docs/stable/user_guide/text.html#string-methods"
   ]
  },
  {
   "cell_type": "code",
   "execution_count": 14,
   "metadata": {},
   "outputs": [
    {
     "data": {
      "text/plain": [
       "a    PAUL\n",
       "b    JOHN\n",
       "c    MARY\n",
       "d    JANE\n",
       "Name: name, dtype: object"
      ]
     },
     "execution_count": 14,
     "metadata": {},
     "output_type": "execute_result"
    }
   ],
   "source": [
    "df.name.str.upper()\n",
    "# df.gender.str.count('e')  # letter e occurance\n",
    "# df.phone.str.count('^90') # start with 90\n",
    "# df.gender.str.len()\n",
    "# df.name.str.split('a') # return a series\n",
    "# df.name.str.split('a', expand=True) # expanded to a data frame\n",
    "# df.name.str.contains('^P')\n",
    "# df.name.str.startswith('P')\n",
    "# df.name.str.endswith('e')\n",
    "# df.phone.str.replace('90', 'Ninty')"
   ]
  },
  {
   "cell_type": "code",
   "execution_count": 15,
   "metadata": {},
   "outputs": [
    {
     "data": {
      "text/plain": [
       "a    [9243, 5678]\n",
       "b    [9090, 9090]\n",
       "c    [0909, 0909]\n",
       "d    [1243, 5678]\n",
       "Name: phone, dtype: object"
      ]
     },
     "execution_count": 15,
     "metadata": {},
     "output_type": "execute_result"
    }
   ],
   "source": [
    "# most are same as python's native string functions\n",
    "# '90909090'.replace('90','Ninty')\n",
    "# '90909090'.count('90')\n",
    "\n",
    "# str.findall (re) - return a series\n",
    "# df.phone.str.findall('^9') \n",
    "# df.phone.str.findall('90')\n",
    "df.phone.str.findall('\\d\\d\\d\\d') # 4-digit group\n",
    "\n",
    "# not str method\n",
    "# import re \n",
    "# re.findall('^9', '90909090')"
   ]
  },
  {
   "cell_type": "markdown",
   "metadata": {},
   "source": [
    "#### **Replace data** - replace()\n",
    "* series\n",
    "* data frame"
   ]
  },
  {
   "cell_type": "code",
   "execution_count": 15,
   "metadata": {},
   "outputs": [],
   "source": [
    "# series\n",
    "\n",
    "# df.name.replace('Paul', 'Mr. Chan', inplace=False) # replace a string (exact match)\n",
    "# df.gender.replace({'male':'M', 'female':'F'})  # replace with values in dictionary\n",
    "# df.name.replace(['Paul','John'], '****')\n",
    "# df.name.replace('a', '@', regex=True) # regular expression - series example\n",
    "# df.name.str.replace('a','@') # str.replace equivalent\n",
    "# df.name.replace('^Pa', 'Mr. P@', regex=True) # regular expression\n",
    "# df.name.replace(regex='^Pa', value='Mr. P@') # regular expression = to_replace\n",
    "# df.name.replace(regex={'^Pa':'Mr. P@', 'ry':'rY'}) # regular expression = dict with regex & value\n",
    "\n",
    "# df.phone.replace(92435678, 99998888) # Not working, df.phone.dtype is Object\n",
    "# df.phone.astype(int).replace(92435678, 99998888) # convert it to int before replace\n",
    "\n",
    "# df.age.replace(np.nan, df.age.mean()) # can also use fillna(0)"
   ]
  },
  {
   "cell_type": "code",
   "execution_count": 16,
   "metadata": {},
   "outputs": [],
   "source": [
    "# data frame\n",
    "\n",
    "# df.replace('a', '@', regex=True) # regular expression\n",
    "# df.replace(['Paul','John','male'], '****') # list example (for all columns)\n",
    "\n",
    "# key of dictionary is now column name!\n",
    "# df.replace({'name':'Paul', 'gender':'male'}, value='xxxx') # replace name=X OR gender=Y with a value\n",
    "# df.replace({'name':'Paul', 'gender':'male'}, value='xxxx', regex=True) # now X & Y are regular expressions\n",
    "\n",
    "# df.replace({'a':'@', 'l':'!'}, regex=True) # if value is None / omitted, dict-key is to_replace, dict-value is value"
   ]
  },
  {
   "cell_type": "markdown",
   "metadata": {},
   "source": []
  },
  {
   "cell_type": "markdown",
   "metadata": {},
   "source": [
    "#### **Update data**\n",
    "\n",
    "1. **apply()** - series & df\n",
    "1. applymap() - df only\n",
    "1. map() - series only"
   ]
  },
  {
   "cell_type": "markdown",
   "metadata": {},
   "source": [
    "##### 1. apply()\n",
    "* for **series & data frame**\n",
    "* accept **function**\n",
    "\n",
    "![apply ser](apply-ser.png)\n",
    "\n",
    "\n",
    "![apply df1](apply.png)\n",
    "![apply df2](apply-h.png)"
   ]
  },
  {
   "cell_type": "code",
   "execution_count": 17,
   "metadata": {},
   "outputs": [
    {
     "data": {
      "text/html": [
       "<div>\n",
       "<style scoped>\n",
       "    .dataframe tbody tr th:only-of-type {\n",
       "        vertical-align: middle;\n",
       "    }\n",
       "\n",
       "    .dataframe tbody tr th {\n",
       "        vertical-align: top;\n",
       "    }\n",
       "\n",
       "    .dataframe thead th {\n",
       "        text-align: right;\n",
       "    }\n",
       "</style>\n",
       "<table border=\"1\" class=\"dataframe\">\n",
       "  <thead>\n",
       "    <tr style=\"text-align: right;\">\n",
       "      <th></th>\n",
       "      <th>name</th>\n",
       "      <th>phone</th>\n",
       "      <th>gender</th>\n",
       "      <th>age</th>\n",
       "      <th>colA</th>\n",
       "      <th>color</th>\n",
       "      <th>color2</th>\n",
       "    </tr>\n",
       "  </thead>\n",
       "  <tbody>\n",
       "    <tr>\n",
       "      <th>a</th>\n",
       "      <td>Paul</td>\n",
       "      <td>92435678</td>\n",
       "      <td>male</td>\n",
       "      <td>18.0</td>\n",
       "      <td>red</td>\n",
       "      <td>red</td>\n",
       "      <td>red</td>\n",
       "    </tr>\n",
       "    <tr>\n",
       "      <th>b</th>\n",
       "      <td>John</td>\n",
       "      <td>90909090</td>\n",
       "      <td>male</td>\n",
       "      <td>22.0</td>\n",
       "      <td>blue</td>\n",
       "      <td>blue</td>\n",
       "      <td>blue</td>\n",
       "    </tr>\n",
       "    <tr>\n",
       "      <th>c</th>\n",
       "      <td>Mary</td>\n",
       "      <td>09090909</td>\n",
       "      <td>female</td>\n",
       "      <td>23.0</td>\n",
       "      <td>green</td>\n",
       "      <td>green</td>\n",
       "      <td>green</td>\n",
       "    </tr>\n",
       "    <tr>\n",
       "      <th>d</th>\n",
       "      <td>Jane</td>\n",
       "      <td>12435678</td>\n",
       "      <td>female</td>\n",
       "      <td>NaN</td>\n",
       "      <td>yellow</td>\n",
       "      <td>yellow</td>\n",
       "      <td>yellow</td>\n",
       "    </tr>\n",
       "  </tbody>\n",
       "</table>\n",
       "</div>"
      ],
      "text/plain": [
       "   name     phone  gender   age    colA   color  color2\n",
       "a  Paul  92435678    male  18.0     red     red     red\n",
       "b  John  90909090    male  22.0    blue    blue    blue\n",
       "c  Mary  09090909  female  23.0   green   green   green\n",
       "d  Jane  12435678  female   NaN  yellow  yellow  yellow"
      ]
     },
     "execution_count": 17,
     "metadata": {},
     "output_type": "execute_result"
    }
   ],
   "source": [
    "df"
   ]
  },
  {
   "cell_type": "code",
   "execution_count": 18,
   "metadata": {},
   "outputs": [],
   "source": [
    "# 1) pass function\n",
    "# df.apply(max) # on data frame\n",
    "# df.name.apply(len) # apply len function on each item of this series\n",
    "\n",
    "# df.age.apply(np.square) # apply np.square function to each item of this series\n",
    "\n",
    "# 2a) pass custom function (DF)\n",
    "# def max_df(x): # x is series (each column)\n",
    "#     print(type(x)) # it's a series\n",
    "#     return x.max()\n",
    "\n",
    "# df.apply(max_df) # apply on df's columns, return a series"
   ]
  },
  {
   "cell_type": "code",
   "execution_count": 19,
   "metadata": {},
   "outputs": [],
   "source": [
    "# 2b) pass custom function (Series)\n",
    "# def upper_ser(x):\n",
    "# #     print(type(x)) # x is the val of each column data\n",
    "#     return x.upper()\n",
    "\n",
    "# df.name.apply(upper_ser) # apply on series's item\n",
    "\n",
    "# 3) pass custom function (with argument)\n",
    "# def upper_ser_arg(x, length):\n",
    "# #     print(type(x)) # x is the val of each column data\n",
    "#     return x.upper()[:length]\n",
    "\n",
    "# df.name.apply(upper_ser_arg, args=(4,)) # apply on series's item (comma is required)"
   ]
  },
  {
   "cell_type": "code",
   "execution_count": 16,
   "metadata": {},
   "outputs": [
    {
     "data": {
      "text/plain": [
       "a    18.0\n",
       "b    22.0\n",
       "c    23.0\n",
       "d     0.0\n",
       "dtype: float64"
      ]
     },
     "execution_count": 16,
     "metadata": {},
     "output_type": "execute_result"
    }
   ],
   "source": [
    "# 4) anoymous function\n",
    "# df.apply(lambda x: x.max()) # on df\n",
    "# df.name.apply(lambda x: x.upper()) # on series\n",
    "\n",
    "# 5) for df.apply, you can pass axis\n",
    "# * 0 or 'index': apply function to each column. [DEFAULT]\n",
    "# * 1 or 'columns': apply function to each row.\n",
    "# df.apply(max, axis='index') # each column max\n",
    "\n",
    "# df[['age']].apply(np.sum, axis = 'index') # compute sum of each column\n",
    "df[['age']].apply(np.sum, axis = 'columns') # compute sum of each row"
   ]
  },
  {
   "cell_type": "code",
   "execution_count": 17,
   "metadata": {},
   "outputs": [
    {
     "data": {
      "text/html": [
       "<div>\n",
       "<style scoped>\n",
       "    .dataframe tbody tr th:only-of-type {\n",
       "        vertical-align: middle;\n",
       "    }\n",
       "\n",
       "    .dataframe tbody tr th {\n",
       "        vertical-align: top;\n",
       "    }\n",
       "\n",
       "    .dataframe thead th {\n",
       "        text-align: right;\n",
       "    }\n",
       "</style>\n",
       "<table border=\"1\" class=\"dataframe\">\n",
       "  <thead>\n",
       "    <tr style=\"text-align: right;\">\n",
       "      <th></th>\n",
       "      <th>name</th>\n",
       "      <th>phone</th>\n",
       "      <th>gender</th>\n",
       "      <th>age</th>\n",
       "      <th>colA</th>\n",
       "      <th>color</th>\n",
       "      <th>color2</th>\n",
       "    </tr>\n",
       "  </thead>\n",
       "  <tbody>\n",
       "    <tr>\n",
       "      <th>a</th>\n",
       "      <td>1</td>\n",
       "      <td>1</td>\n",
       "      <td>1</td>\n",
       "      <td>1</td>\n",
       "      <td>1</td>\n",
       "      <td>1</td>\n",
       "      <td>1</td>\n",
       "    </tr>\n",
       "    <tr>\n",
       "      <th>b</th>\n",
       "      <td>1</td>\n",
       "      <td>1</td>\n",
       "      <td>1</td>\n",
       "      <td>1</td>\n",
       "      <td>1</td>\n",
       "      <td>1</td>\n",
       "      <td>1</td>\n",
       "    </tr>\n",
       "    <tr>\n",
       "      <th>c</th>\n",
       "      <td>1</td>\n",
       "      <td>1</td>\n",
       "      <td>1</td>\n",
       "      <td>1</td>\n",
       "      <td>1</td>\n",
       "      <td>1</td>\n",
       "      <td>1</td>\n",
       "    </tr>\n",
       "    <tr>\n",
       "      <th>d</th>\n",
       "      <td>1</td>\n",
       "      <td>1</td>\n",
       "      <td>1</td>\n",
       "      <td>1</td>\n",
       "      <td>1</td>\n",
       "      <td>1</td>\n",
       "      <td>1</td>\n",
       "    </tr>\n",
       "  </tbody>\n",
       "</table>\n",
       "</div>"
      ],
      "text/plain": [
       "  name phone gender age colA color color2\n",
       "a    1     1      1   1    1     1      1\n",
       "b    1     1      1   1    1     1      1\n",
       "c    1     1      1   1    1     1      1\n",
       "d    1     1      1   1    1     1      1"
      ]
     },
     "execution_count": 17,
     "metadata": {},
     "output_type": "execute_result"
    }
   ],
   "source": [
    "# result_type is only available for df.apply\n",
    "# result_type is for multi-value item\n",
    "\n",
    "# expand: list-like results will be turned into columns (return data frame if possible)\n",
    "# reduce: returns a Series if possible rather than expanding list-like results, opposite of 'expand'\n",
    "# broadcast: results will be broadcast to the original shape of the DataFrame, the original index and columns will be retained\n",
    "\n",
    "listLikeResult = [0,1,2,3,4,5,6]\n",
    "# df.apply(lambda x:listLikeResult, axis=1, result_type='reduce')  # return a series\n",
    "# df.apply(lambda x:listLikeResult, axis=1, result_type='expand') # return a dataframe if possible\n",
    "# df.apply(lambda x:listLikeResult, axis=1, result_type='broadcast') # broadcast keep the original shape, with col name & index\n",
    "\n",
    "listLikeResult = 1\n",
    "# df.apply(lambda x:listLikeResult, axis=1, result_type='expand') # no differene for expand and reduce\n",
    "df.apply(lambda x:listLikeResult, axis=1, result_type='broadcast') # broadcast keep the original shape\n"
   ]
  },
  {
   "cell_type": "markdown",
   "metadata": {},
   "source": [
    "##### 2. applymap()\n",
    "* **data frame only**\n",
    "* apply a function to **every element** of a DataFrame\n",
    "\n",
    "![applymap](applymap.png)"
   ]
  },
  {
   "cell_type": "code",
   "execution_count": 19,
   "metadata": {},
   "outputs": [
    {
     "data": {
      "text/html": [
       "<div>\n",
       "<style scoped>\n",
       "    .dataframe tbody tr th:only-of-type {\n",
       "        vertical-align: middle;\n",
       "    }\n",
       "\n",
       "    .dataframe tbody tr th {\n",
       "        vertical-align: top;\n",
       "    }\n",
       "\n",
       "    .dataframe thead th {\n",
       "        text-align: right;\n",
       "    }\n",
       "</style>\n",
       "<table border=\"1\" class=\"dataframe\">\n",
       "  <thead>\n",
       "    <tr style=\"text-align: right;\">\n",
       "      <th></th>\n",
       "      <th>age</th>\n",
       "    </tr>\n",
       "  </thead>\n",
       "  <tbody>\n",
       "    <tr>\n",
       "      <th>a</th>\n",
       "      <td>324.0</td>\n",
       "    </tr>\n",
       "    <tr>\n",
       "      <th>b</th>\n",
       "      <td>484.0</td>\n",
       "    </tr>\n",
       "    <tr>\n",
       "      <th>c</th>\n",
       "      <td>529.0</td>\n",
       "    </tr>\n",
       "    <tr>\n",
       "      <th>d</th>\n",
       "      <td>NaN</td>\n",
       "    </tr>\n",
       "  </tbody>\n",
       "</table>\n",
       "</div>"
      ],
      "text/plain": [
       "     age\n",
       "a  324.0\n",
       "b  484.0\n",
       "c  529.0\n",
       "d    NaN"
      ]
     },
     "execution_count": 19,
     "metadata": {},
     "output_type": "execute_result"
    }
   ],
   "source": [
    "# 1) function\n",
    "df[['age']].applymap(np.square) # square every element in the data frame\n",
    "\n",
    "# 2) custom function\n",
    "# def count_character(x):\n",
    "# #     print(type(x))\n",
    "#     return len(x)\n",
    "\n",
    "# df[['name', 'gender','phone']].applymap(count_character)\n"
   ]
  },
  {
   "cell_type": "markdown",
   "metadata": {},
   "source": [
    "##### 3. map()\n",
    "* **series only**\n",
    "* accept **dictionary** or **function** for substitution\n",
    "\n",
    "![map](map.png)"
   ]
  },
  {
   "cell_type": "code",
   "execution_count": 21,
   "metadata": {},
   "outputs": [
    {
     "data": {
      "text/plain": [
       "a    Mr. Chan\n",
       "b    Mr. Wong\n",
       "c         NaN\n",
       "d         NaN\n",
       "Name: name, dtype: object"
      ]
     },
     "execution_count": 21,
     "metadata": {},
     "output_type": "execute_result"
    }
   ],
   "source": [
    "# 1) substitute values using a map\n",
    "sub_dict = {'Paul':'Mr. Chan', 'John':'Mr. Wong'}\n",
    "df.name.map(sub_dict) # with some NaN values if key is not found\n",
    "# df.name.replace(sub_dict) # with some NaN values if key is not found\n",
    "\n",
    "# 2) substitute values with a format\n",
    "# df.name.map('Hello, {}'.format)\n",
    "\n",
    "# 2) substitute values with anonymous function\n",
    "# df.name.map(lambda x: f'Hey, {x}') # x is each item\n",
    "\n",
    "# 3a) substitute values with a function\n",
    "# df.age.map(np.square)\n",
    "\n",
    "# 3b) substitute values with a function\n",
    "# def changeName(name):\n",
    "#     name = 'person-' + name + '-001'\n",
    "#     return name\n",
    "\n",
    "# df.name = df.name.map(changeName)\n",
    "# df\n",
    "# df.name.map(changeName)"
   ]
  },
  {
   "cell_type": "markdown",
   "metadata": {},
   "source": [
    "#### Drop a row / column"
   ]
  },
  {
   "cell_type": "code",
   "execution_count": 22,
   "metadata": {},
   "outputs": [
    {
     "data": {
      "text/html": [
       "<div>\n",
       "<style scoped>\n",
       "    .dataframe tbody tr th:only-of-type {\n",
       "        vertical-align: middle;\n",
       "    }\n",
       "\n",
       "    .dataframe tbody tr th {\n",
       "        vertical-align: top;\n",
       "    }\n",
       "\n",
       "    .dataframe thead th {\n",
       "        text-align: right;\n",
       "    }\n",
       "</style>\n",
       "<table border=\"1\" class=\"dataframe\">\n",
       "  <thead>\n",
       "    <tr style=\"text-align: right;\">\n",
       "      <th></th>\n",
       "      <th>name</th>\n",
       "      <th>phone</th>\n",
       "      <th>gender</th>\n",
       "      <th>age</th>\n",
       "      <th>colA</th>\n",
       "      <th>color</th>\n",
       "      <th>color2</th>\n",
       "    </tr>\n",
       "  </thead>\n",
       "  <tbody>\n",
       "    <tr>\n",
       "      <th>a</th>\n",
       "      <td>Paul</td>\n",
       "      <td>92435678</td>\n",
       "      <td>male</td>\n",
       "      <td>18.0</td>\n",
       "      <td>red</td>\n",
       "      <td>red</td>\n",
       "      <td>-</td>\n",
       "    </tr>\n",
       "    <tr>\n",
       "      <th>b</th>\n",
       "      <td>John</td>\n",
       "      <td>90909090</td>\n",
       "      <td>male</td>\n",
       "      <td>22.0</td>\n",
       "      <td>blue</td>\n",
       "      <td>blue</td>\n",
       "      <td>-</td>\n",
       "    </tr>\n",
       "    <tr>\n",
       "      <th>c</th>\n",
       "      <td>Mary</td>\n",
       "      <td>09090909</td>\n",
       "      <td>female</td>\n",
       "      <td>23.0</td>\n",
       "      <td>green</td>\n",
       "      <td>green</td>\n",
       "      <td>-</td>\n",
       "    </tr>\n",
       "  </tbody>\n",
       "</table>\n",
       "</div>"
      ],
      "text/plain": [
       "   name     phone  gender   age   colA  color color2\n",
       "a  Paul  92435678    male  18.0    red    red      -\n",
       "b  John  90909090    male  22.0   blue   blue      -\n",
       "c  Mary  09090909  female  23.0  green  green      -"
      ]
     },
     "execution_count": 22,
     "metadata": {},
     "output_type": "execute_result"
    }
   ],
   "source": [
    "# Drop Row\n",
    "df.drop('d', inplace=False)  # drop a row with a index value (axis = 0 / 'index', default)\n",
    "# df.drop(['a','d']) # drop multiple rows\n",
    "\n",
    "# Drop Column\n",
    "# df.drop('colA', axis='columns') # drop a column with a column name\n",
    "# df.drop(['phone','colA'], axis=1)"
   ]
  },
  {
   "cell_type": "markdown",
   "metadata": {},
   "source": [
    "## <font color=red>Rows</font>"
   ]
  },
  {
   "cell_type": "code",
   "execution_count": 23,
   "metadata": {},
   "outputs": [
    {
     "data": {
      "text/html": [
       "<div>\n",
       "<style scoped>\n",
       "    .dataframe tbody tr th:only-of-type {\n",
       "        vertical-align: middle;\n",
       "    }\n",
       "\n",
       "    .dataframe tbody tr th {\n",
       "        vertical-align: top;\n",
       "    }\n",
       "\n",
       "    .dataframe thead th {\n",
       "        text-align: right;\n",
       "    }\n",
       "</style>\n",
       "<table border=\"1\" class=\"dataframe\">\n",
       "  <thead>\n",
       "    <tr style=\"text-align: right;\">\n",
       "      <th></th>\n",
       "      <th>name</th>\n",
       "      <th>phone</th>\n",
       "      <th>gender</th>\n",
       "      <th>age</th>\n",
       "      <th>colA</th>\n",
       "      <th>color</th>\n",
       "      <th>color2</th>\n",
       "    </tr>\n",
       "  </thead>\n",
       "  <tbody>\n",
       "    <tr>\n",
       "      <th>a</th>\n",
       "      <td>Paul</td>\n",
       "      <td>92435678</td>\n",
       "      <td>male</td>\n",
       "      <td>18.0</td>\n",
       "      <td>red</td>\n",
       "      <td>red</td>\n",
       "      <td>-</td>\n",
       "    </tr>\n",
       "    <tr>\n",
       "      <th>b</th>\n",
       "      <td>John</td>\n",
       "      <td>90909090</td>\n",
       "      <td>male</td>\n",
       "      <td>22.0</td>\n",
       "      <td>blue</td>\n",
       "      <td>blue</td>\n",
       "      <td>-</td>\n",
       "    </tr>\n",
       "    <tr>\n",
       "      <th>c</th>\n",
       "      <td>Mary</td>\n",
       "      <td>09090909</td>\n",
       "      <td>female</td>\n",
       "      <td>23.0</td>\n",
       "      <td>green</td>\n",
       "      <td>green</td>\n",
       "      <td>-</td>\n",
       "    </tr>\n",
       "    <tr>\n",
       "      <th>d</th>\n",
       "      <td>Jane</td>\n",
       "      <td>12435678</td>\n",
       "      <td>female</td>\n",
       "      <td>NaN</td>\n",
       "      <td>yellow</td>\n",
       "      <td>yellow</td>\n",
       "      <td>-</td>\n",
       "    </tr>\n",
       "  </tbody>\n",
       "</table>\n",
       "</div>"
      ],
      "text/plain": [
       "   name     phone  gender   age    colA   color color2\n",
       "a  Paul  92435678    male  18.0     red     red      -\n",
       "b  John  90909090    male  22.0    blue    blue      -\n",
       "c  Mary  09090909  female  23.0   green   green      -\n",
       "d  Jane  12435678  female   NaN  yellow  yellow      -"
      ]
     },
     "execution_count": 23,
     "metadata": {},
     "output_type": "execute_result"
    }
   ],
   "source": [
    "# df[0] # WARNING: Position is not working!!! (it's for col name)\n",
    "# df['a'] # WARNING: Index value is not working!!! (please use loc indexer)\n",
    "\n",
    "# slice operation (rows)\n",
    "df[:] # all rows\n",
    "# df[:2] # row 0 to 1 \n",
    "# df[::-1] # reverse order\n",
    "\n",
    "# Filter()\n",
    "# Axis 0: rows / index\n",
    "# Axis 1: columns\n",
    "# df.filter('a', axis='index')\n",
    "# df.filter('a',axis=0)\n",
    "# df.filter(['a','b'],axis=0)\n"
   ]
  },
  {
   "cell_type": "markdown",
   "metadata": {},
   "source": [
    "### <font color=blue>**Indexer**</font>\n",
    "\n",
    "+ loc (label)\n",
    "+ iloc (position)"
   ]
  },
  {
   "cell_type": "markdown",
   "metadata": {},
   "source": [
    "#### **df.loc indexer (label)**"
   ]
  },
  {
   "cell_type": "code",
   "execution_count": 26,
   "metadata": {},
   "outputs": [],
   "source": [
    "# 1. LOC indexer: \n",
    "# SYNTAX: df.loc[row, col]\n",
    "\n",
    "# df.loc['a'] # get 1 row (series)\n",
    "# df.loc[['a','b']] # get multiple rows\n",
    "# df.loc[:] # slice\n",
    "# df.loc['a':'c'] # slice (including c)\n",
    "# df.loc[['b','b', 'a','a']] # fancy index\n",
    "\n",
    "# df.loc[:, 'name']\n",
    "# df.loc[:, ['name', 'age']] # all rows, with name & age column\n",
    "\n",
    "# BE CAREFUL!!!\n",
    "# if index is not numbers, you cannot use df.loc[0]\n",
    "# df.loc[0] # KeyError: no such index value\n"
   ]
  },
  {
   "cell_type": "markdown",
   "metadata": {},
   "source": [
    "#### **df.iloc indexer (position)**"
   ]
  },
  {
   "cell_type": "code",
   "execution_count": 27,
   "metadata": {},
   "outputs": [],
   "source": [
    "# 1. ILOC indexer: \n",
    "# SYNTAX: df.iloc[row, col]\n",
    "\n",
    "# df.iloc[0] # first row\n",
    "# df.iloc[:] # slice: all rows\n",
    "# df.iloc[0:1] # 0 to 1 (not include 1)\n",
    "\n",
    "# df.iloc[:, :] # all rows, all columns\n",
    "# df.iloc[:, 0] # all rows, first column\n",
    "# df.iloc[:, [-1]] # all rows, last column\n",
    "# df.iloc[:, 1]\n",
    "\n",
    "# BE CAREFUL!!!\n",
    "# Since it is based on POSITION, you cannot use col labels\n",
    "# df.iloc[:, 'age'] # not working\n",
    "# df.iloc[:, ['age']]  # not working\n"
   ]
  },
  {
   "cell_type": "markdown",
   "metadata": {},
   "source": [
    "### <font color=Green>**Boolean Mask**</font>"
   ]
  },
  {
   "cell_type": "code",
   "execution_count": 28,
   "metadata": {},
   "outputs": [
    {
     "data": {
      "text/html": [
       "<div>\n",
       "<style scoped>\n",
       "    .dataframe tbody tr th:only-of-type {\n",
       "        vertical-align: middle;\n",
       "    }\n",
       "\n",
       "    .dataframe tbody tr th {\n",
       "        vertical-align: top;\n",
       "    }\n",
       "\n",
       "    .dataframe thead th {\n",
       "        text-align: right;\n",
       "    }\n",
       "</style>\n",
       "<table border=\"1\" class=\"dataframe\">\n",
       "  <thead>\n",
       "    <tr style=\"text-align: right;\">\n",
       "      <th></th>\n",
       "      <th>name</th>\n",
       "      <th>phone</th>\n",
       "      <th>gender</th>\n",
       "      <th>age</th>\n",
       "      <th>colA</th>\n",
       "      <th>color</th>\n",
       "      <th>color2</th>\n",
       "    </tr>\n",
       "  </thead>\n",
       "  <tbody>\n",
       "    <tr>\n",
       "      <th>b</th>\n",
       "      <td>John</td>\n",
       "      <td>90909090</td>\n",
       "      <td>male</td>\n",
       "      <td>22.0</td>\n",
       "      <td>blue</td>\n",
       "      <td>blue</td>\n",
       "      <td>-</td>\n",
       "    </tr>\n",
       "    <tr>\n",
       "      <th>c</th>\n",
       "      <td>Mary</td>\n",
       "      <td>09090909</td>\n",
       "      <td>female</td>\n",
       "      <td>23.0</td>\n",
       "      <td>green</td>\n",
       "      <td>green</td>\n",
       "      <td>-</td>\n",
       "    </tr>\n",
       "  </tbody>\n",
       "</table>\n",
       "</div>"
      ],
      "text/plain": [
       "   name     phone  gender   age   colA  color color2\n",
       "b  John  90909090    male  22.0   blue   blue      -\n",
       "c  Mary  09090909  female  23.0  green  green      -"
      ]
     },
     "execution_count": 28,
     "metadata": {},
     "output_type": "execute_result"
    }
   ],
   "source": [
    "mask = df.age > 20\n",
    "# ~mask # negate it\n",
    "\n",
    "# df[mask] # retrieve the results\n",
    "df.loc[mask] # retrieve the results\n",
    "\n",
    "# BE CAREFUL!!!\n",
    "# df.iloc[mask] # iloc indexer cannot use boolean mask!!!"
   ]
  },
  {
   "cell_type": "markdown",
   "metadata": {},
   "source": [
    "### <font color=Green>**Query()**</font>"
   ]
  },
  {
   "cell_type": "code",
   "execution_count": 29,
   "metadata": {},
   "outputs": [],
   "source": [
    "# df.query('age == 22')\n",
    "# df.query('age > 20')\n",
    "# df.query('name==\"Paul\" & age>10')\n",
    "\n",
    "# Using Python str functions\n",
    "# df.query('name.str.contains(\"J\")', engine='python')\n",
    "# df.query('name.str.upper()==\"PAUL\"', engine='python')\n",
    "\n",
    "# BE CAREFUL!!!\n",
    "# df.query('name.str.upper().contains(\"P\")', engine='python') # NOT WORKING\n",
    "# df.query('name.str.upper().str.contains(\"P\")', engine='python') # WORKING\n"
   ]
  },
  {
   "cell_type": "markdown",
   "metadata": {},
   "source": [
    "### Missing Values "
   ]
  },
  {
   "cell_type": "code",
   "execution_count": 30,
   "metadata": {},
   "outputs": [
    {
     "data": {
      "text/plain": [
       "a    18.0\n",
       "b    22.0\n",
       "c    23.0\n",
       "d    21.0\n",
       "Name: age, dtype: float64"
      ]
     },
     "execution_count": 30,
     "metadata": {},
     "output_type": "execute_result"
    }
   ],
   "source": [
    "# handing NA values\n",
    "# which element is null\n",
    "\n",
    "# df.loc[df.age.isna()]\n",
    "\n",
    "# df[df.age.isnull()] \n",
    "# df[df.age.isna()] \n",
    "# df[~df.age.isnull()]  # is not NA\n",
    "# df[df.age.notnull()]  \n",
    "# df[df.age.notna()]  \n",
    "\n",
    "# df.age.fillna(df.age.mean(), inplace=False) # fill the values (inplace=True if you want to save it)\n",
    "df.age.replace(np.nan, df.age.mean(), inplace=False) # use replace()\n"
   ]
  },
  {
   "cell_type": "markdown",
   "metadata": {},
   "source": [
    "## <font color=blue>Groupby</font>\n",
    "\n",
    "##### * divide some data input groups (e.g. gender)"
   ]
  },
  {
   "cell_type": "code",
   "execution_count": 31,
   "metadata": {},
   "outputs": [
    {
     "data": {
      "text/html": [
       "<div>\n",
       "<style scoped>\n",
       "    .dataframe tbody tr th:only-of-type {\n",
       "        vertical-align: middle;\n",
       "    }\n",
       "\n",
       "    .dataframe tbody tr th {\n",
       "        vertical-align: top;\n",
       "    }\n",
       "\n",
       "    .dataframe thead th {\n",
       "        text-align: right;\n",
       "    }\n",
       "</style>\n",
       "<table border=\"1\" class=\"dataframe\">\n",
       "  <thead>\n",
       "    <tr style=\"text-align: right;\">\n",
       "      <th></th>\n",
       "      <th>name</th>\n",
       "      <th>phone</th>\n",
       "      <th>gender</th>\n",
       "      <th>age</th>\n",
       "      <th>colA</th>\n",
       "      <th>color</th>\n",
       "      <th>color2</th>\n",
       "    </tr>\n",
       "  </thead>\n",
       "  <tbody>\n",
       "    <tr>\n",
       "      <th>a</th>\n",
       "      <td>Paul</td>\n",
       "      <td>92435678</td>\n",
       "      <td>male</td>\n",
       "      <td>18.0</td>\n",
       "      <td>red</td>\n",
       "      <td>red</td>\n",
       "      <td>-</td>\n",
       "    </tr>\n",
       "    <tr>\n",
       "      <th>b</th>\n",
       "      <td>John</td>\n",
       "      <td>90909090</td>\n",
       "      <td>male</td>\n",
       "      <td>22.0</td>\n",
       "      <td>blue</td>\n",
       "      <td>blue</td>\n",
       "      <td>-</td>\n",
       "    </tr>\n",
       "    <tr>\n",
       "      <th>c</th>\n",
       "      <td>Mary</td>\n",
       "      <td>09090909</td>\n",
       "      <td>female</td>\n",
       "      <td>23.0</td>\n",
       "      <td>green</td>\n",
       "      <td>green</td>\n",
       "      <td>-</td>\n",
       "    </tr>\n",
       "    <tr>\n",
       "      <th>d</th>\n",
       "      <td>Jane</td>\n",
       "      <td>12435678</td>\n",
       "      <td>female</td>\n",
       "      <td>NaN</td>\n",
       "      <td>yellow</td>\n",
       "      <td>yellow</td>\n",
       "      <td>-</td>\n",
       "    </tr>\n",
       "  </tbody>\n",
       "</table>\n",
       "</div>"
      ],
      "text/plain": [
       "   name     phone  gender   age    colA   color color2\n",
       "a  Paul  92435678    male  18.0     red     red      -\n",
       "b  John  90909090    male  22.0    blue    blue      -\n",
       "c  Mary  09090909  female  23.0   green   green      -\n",
       "d  Jane  12435678  female   NaN  yellow  yellow      -"
      ]
     },
     "execution_count": 31,
     "metadata": {},
     "output_type": "execute_result"
    }
   ],
   "source": [
    "df"
   ]
  },
  {
   "cell_type": "code",
   "execution_count": 33,
   "metadata": {},
   "outputs": [
    {
     "data": {
      "text/html": [
       "<div>\n",
       "<style scoped>\n",
       "    .dataframe tbody tr th:only-of-type {\n",
       "        vertical-align: middle;\n",
       "    }\n",
       "\n",
       "    .dataframe tbody tr th {\n",
       "        vertical-align: top;\n",
       "    }\n",
       "\n",
       "    .dataframe thead th {\n",
       "        text-align: right;\n",
       "    }\n",
       "</style>\n",
       "<table border=\"1\" class=\"dataframe\">\n",
       "  <thead>\n",
       "    <tr style=\"text-align: right;\">\n",
       "      <th></th>\n",
       "      <th>age</th>\n",
       "    </tr>\n",
       "    <tr>\n",
       "      <th>gender</th>\n",
       "      <th></th>\n",
       "    </tr>\n",
       "  </thead>\n",
       "  <tbody>\n",
       "    <tr>\n",
       "      <th>female</th>\n",
       "      <td>23.0</td>\n",
       "    </tr>\n",
       "    <tr>\n",
       "      <th>male</th>\n",
       "      <td>20.0</td>\n",
       "    </tr>\n",
       "  </tbody>\n",
       "</table>\n",
       "</div>"
      ],
      "text/plain": [
       "         age\n",
       "gender      \n",
       "female  23.0\n",
       "male    20.0"
      ]
     },
     "execution_count": 33,
     "metadata": {},
     "output_type": "execute_result"
    }
   ],
   "source": [
    "df.groupby('gender').mean()\n",
    "# df.groupby('gender').age.mean()\n",
    "# df.groupby('gender')['age'].mean()"
   ]
  },
  {
   "cell_type": "code",
   "execution_count": 34,
   "metadata": {},
   "outputs": [
    {
     "data": {
      "text/html": [
       "<div>\n",
       "<style scoped>\n",
       "    .dataframe tbody tr th:only-of-type {\n",
       "        vertical-align: middle;\n",
       "    }\n",
       "\n",
       "    .dataframe tbody tr th {\n",
       "        vertical-align: top;\n",
       "    }\n",
       "\n",
       "    .dataframe thead th {\n",
       "        text-align: right;\n",
       "    }\n",
       "</style>\n",
       "<table border=\"1\" class=\"dataframe\">\n",
       "  <thead>\n",
       "    <tr style=\"text-align: right;\">\n",
       "      <th></th>\n",
       "      <th></th>\n",
       "      <th>age</th>\n",
       "    </tr>\n",
       "    <tr>\n",
       "      <th>gender</th>\n",
       "      <th>name</th>\n",
       "      <th></th>\n",
       "    </tr>\n",
       "  </thead>\n",
       "  <tbody>\n",
       "    <tr>\n",
       "      <th rowspan=\"2\" valign=\"top\">female</th>\n",
       "      <th>Jane</th>\n",
       "      <td>NaN</td>\n",
       "    </tr>\n",
       "    <tr>\n",
       "      <th>Mary</th>\n",
       "      <td>23.0</td>\n",
       "    </tr>\n",
       "    <tr>\n",
       "      <th rowspan=\"2\" valign=\"top\">male</th>\n",
       "      <th>John</th>\n",
       "      <td>22.0</td>\n",
       "    </tr>\n",
       "    <tr>\n",
       "      <th>Paul</th>\n",
       "      <td>18.0</td>\n",
       "    </tr>\n",
       "  </tbody>\n",
       "</table>\n",
       "</div>"
      ],
      "text/plain": [
       "              age\n",
       "gender name      \n",
       "female Jane   NaN\n",
       "       Mary  23.0\n",
       "male   John  22.0\n",
       "       Paul  18.0"
      ]
     },
     "execution_count": 34,
     "metadata": {},
     "output_type": "execute_result"
    }
   ],
   "source": [
    "# group by multiple columns\n",
    "df.groupby(['gender', 'name']).mean()"
   ]
  },
  {
   "cell_type": "code",
   "execution_count": 35,
   "metadata": {},
   "outputs": [
    {
     "data": {
      "text/html": [
       "<div>\n",
       "<style scoped>\n",
       "    .dataframe tbody tr th:only-of-type {\n",
       "        vertical-align: middle;\n",
       "    }\n",
       "\n",
       "    .dataframe tbody tr th {\n",
       "        vertical-align: top;\n",
       "    }\n",
       "\n",
       "    .dataframe thead tr th {\n",
       "        text-align: left;\n",
       "    }\n",
       "\n",
       "    .dataframe thead tr:last-of-type th {\n",
       "        text-align: right;\n",
       "    }\n",
       "</style>\n",
       "<table border=\"1\" class=\"dataframe\">\n",
       "  <thead>\n",
       "    <tr>\n",
       "      <th></th>\n",
       "      <th colspan=\"4\" halign=\"left\">age</th>\n",
       "    </tr>\n",
       "    <tr>\n",
       "      <th>name</th>\n",
       "      <th>Jane</th>\n",
       "      <th>John</th>\n",
       "      <th>Mary</th>\n",
       "      <th>Paul</th>\n",
       "    </tr>\n",
       "    <tr>\n",
       "      <th>gender</th>\n",
       "      <th></th>\n",
       "      <th></th>\n",
       "      <th></th>\n",
       "      <th></th>\n",
       "    </tr>\n",
       "  </thead>\n",
       "  <tbody>\n",
       "    <tr>\n",
       "      <th>female</th>\n",
       "      <td>NaN</td>\n",
       "      <td>NaN</td>\n",
       "      <td>23.0</td>\n",
       "      <td>NaN</td>\n",
       "    </tr>\n",
       "    <tr>\n",
       "      <th>male</th>\n",
       "      <td>NaN</td>\n",
       "      <td>22.0</td>\n",
       "      <td>NaN</td>\n",
       "      <td>18.0</td>\n",
       "    </tr>\n",
       "  </tbody>\n",
       "</table>\n",
       "</div>"
      ],
      "text/plain": [
       "        age                  \n",
       "name   Jane  John  Mary  Paul\n",
       "gender                       \n",
       "female  NaN   NaN  23.0   NaN\n",
       "male    NaN  22.0   NaN  18.0"
      ]
     },
     "execution_count": 35,
     "metadata": {},
     "output_type": "execute_result"
    }
   ],
   "source": [
    "df.groupby(['gender', 'name']).mean().unstack()"
   ]
  },
  {
   "cell_type": "code",
   "execution_count": 36,
   "metadata": {},
   "outputs": [
    {
     "data": {
      "text/html": [
       "<div>\n",
       "<style scoped>\n",
       "    .dataframe tbody tr th:only-of-type {\n",
       "        vertical-align: middle;\n",
       "    }\n",
       "\n",
       "    .dataframe tbody tr th {\n",
       "        vertical-align: top;\n",
       "    }\n",
       "\n",
       "    .dataframe thead th {\n",
       "        text-align: right;\n",
       "    }\n",
       "</style>\n",
       "<table border=\"1\" class=\"dataframe\">\n",
       "  <thead>\n",
       "    <tr style=\"text-align: right;\">\n",
       "      <th>name</th>\n",
       "      <th>John</th>\n",
       "      <th>Mary</th>\n",
       "      <th>Paul</th>\n",
       "    </tr>\n",
       "    <tr>\n",
       "      <th>gender</th>\n",
       "      <th></th>\n",
       "      <th></th>\n",
       "      <th></th>\n",
       "    </tr>\n",
       "  </thead>\n",
       "  <tbody>\n",
       "    <tr>\n",
       "      <th>female</th>\n",
       "      <td>NaN</td>\n",
       "      <td>23.0</td>\n",
       "      <td>NaN</td>\n",
       "    </tr>\n",
       "    <tr>\n",
       "      <th>male</th>\n",
       "      <td>22.0</td>\n",
       "      <td>NaN</td>\n",
       "      <td>18.0</td>\n",
       "    </tr>\n",
       "  </tbody>\n",
       "</table>\n",
       "</div>"
      ],
      "text/plain": [
       "name    John  Mary  Paul\n",
       "gender                  \n",
       "female   NaN  23.0   NaN\n",
       "male    22.0   NaN  18.0"
      ]
     },
     "execution_count": 36,
     "metadata": {},
     "output_type": "execute_result"
    }
   ],
   "source": [
    "# pivot table function\n",
    "# df.pivot_table('age', index='gender', columns='name')\n",
    "df.pivot_table('age', index='gender', columns='name', aggfunc='mean') # aggfunc other than mean\n"
   ]
  },
  {
   "cell_type": "markdown",
   "metadata": {},
   "source": [
    "## <font color=blue>Sorting</font>"
   ]
  },
  {
   "cell_type": "code",
   "execution_count": 37,
   "metadata": {},
   "outputs": [
    {
     "data": {
      "text/html": [
       "<div>\n",
       "<style scoped>\n",
       "    .dataframe tbody tr th:only-of-type {\n",
       "        vertical-align: middle;\n",
       "    }\n",
       "\n",
       "    .dataframe tbody tr th {\n",
       "        vertical-align: top;\n",
       "    }\n",
       "\n",
       "    .dataframe thead th {\n",
       "        text-align: right;\n",
       "    }\n",
       "</style>\n",
       "<table border=\"1\" class=\"dataframe\">\n",
       "  <thead>\n",
       "    <tr style=\"text-align: right;\">\n",
       "      <th></th>\n",
       "      <th>name</th>\n",
       "      <th>phone</th>\n",
       "      <th>gender</th>\n",
       "      <th>age</th>\n",
       "      <th>colA</th>\n",
       "      <th>color</th>\n",
       "      <th>color2</th>\n",
       "    </tr>\n",
       "  </thead>\n",
       "  <tbody>\n",
       "    <tr>\n",
       "      <th>a</th>\n",
       "      <td>Paul</td>\n",
       "      <td>92435678</td>\n",
       "      <td>male</td>\n",
       "      <td>18.0</td>\n",
       "      <td>red</td>\n",
       "      <td>red</td>\n",
       "      <td>-</td>\n",
       "    </tr>\n",
       "    <tr>\n",
       "      <th>b</th>\n",
       "      <td>John</td>\n",
       "      <td>90909090</td>\n",
       "      <td>male</td>\n",
       "      <td>22.0</td>\n",
       "      <td>blue</td>\n",
       "      <td>blue</td>\n",
       "      <td>-</td>\n",
       "    </tr>\n",
       "    <tr>\n",
       "      <th>c</th>\n",
       "      <td>Mary</td>\n",
       "      <td>09090909</td>\n",
       "      <td>female</td>\n",
       "      <td>23.0</td>\n",
       "      <td>green</td>\n",
       "      <td>green</td>\n",
       "      <td>-</td>\n",
       "    </tr>\n",
       "    <tr>\n",
       "      <th>d</th>\n",
       "      <td>Jane</td>\n",
       "      <td>12435678</td>\n",
       "      <td>female</td>\n",
       "      <td>NaN</td>\n",
       "      <td>yellow</td>\n",
       "      <td>yellow</td>\n",
       "      <td>-</td>\n",
       "    </tr>\n",
       "  </tbody>\n",
       "</table>\n",
       "</div>"
      ],
      "text/plain": [
       "   name     phone  gender   age    colA   color color2\n",
       "a  Paul  92435678    male  18.0     red     red      -\n",
       "b  John  90909090    male  22.0    blue    blue      -\n",
       "c  Mary  09090909  female  23.0   green   green      -\n",
       "d  Jane  12435678  female   NaN  yellow  yellow      -"
      ]
     },
     "execution_count": 37,
     "metadata": {},
     "output_type": "execute_result"
    }
   ],
   "source": [
    "# df.sort_values(by='age', ascending=False)\n",
    "df.sort_values(by=['gender', 'age'], ascending=[False, True])"
   ]
  }
 ],
 "metadata": {
  "kernelspec": {
   "display_name": "Python 3",
   "language": "python",
   "name": "python3"
  },
  "language_info": {
   "codemirror_mode": {
    "name": "ipython",
    "version": 3
   },
   "file_extension": ".py",
   "mimetype": "text/x-python",
   "name": "python",
   "nbconvert_exporter": "python",
   "pygments_lexer": "ipython3",
   "version": "3.8.5"
  }
 },
 "nbformat": 4,
 "nbformat_minor": 4
}
