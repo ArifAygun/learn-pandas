{
 "cells": [
  {
   "cell_type": "markdown",
   "metadata": {},
   "source": [
    "# <font color='red'>**NumPy**</font>\n",
    "\n",
    "1. Array creation & data types\n",
    "1. Universal functions: vectorized ops\n",
    "1. Basic manipulations: indexing, slicing, boolean mask, fancy index, etc.\n",
    "1. Broadcast: vectorized ops on arrays with different shapes\n",
    "\n",
    "Nature article: https://www.nature.com/articles/s41586-020-2649-2.pdf"
   ]
  },
  {
   "cell_type": "markdown",
   "metadata": {},
   "source": [
    "##### Package installation"
   ]
  },
  {
   "cell_type": "code",
   "execution_count": null,
   "metadata": {},
   "outputs": [],
   "source": [
    "!pip install numpy\n",
    "!pip install matplotlib\n",
    "!pip install pandas"
   ]
  },
  {
   "cell_type": "code",
   "execution_count": 4,
   "metadata": {},
   "outputs": [
    {
     "data": {
      "text/plain": [
       "'1.18.5'"
      ]
     },
     "execution_count": 4,
     "metadata": {},
     "output_type": "execute_result"
    }
   ],
   "source": [
    "import numpy as np\n",
    "\n",
    "np.__version__"
   ]
  },
  {
   "cell_type": "markdown",
   "metadata": {},
   "source": [
    "### Why numpy array?\n",
    "* **Array**: collection of items, with the **same data type**\n",
    "* Save computational time and memory space \n",
    "    * Python list is slower and take up more space\n",
    "* Vectorized operations: write lesser for-loops\n",
    "* Extremely popular, data exchange for different pacakges\n",
    "* Linear algebra operations"
   ]
  },
  {
   "cell_type": "markdown",
   "metadata": {},
   "source": [
    "### Numpy is faster than list"
   ]
  },
  {
   "cell_type": "code",
   "execution_count": null,
   "metadata": {},
   "outputs": [],
   "source": [
    "# 1) compute double-list using list [SLOWER]\n",
    "num = 100000\n",
    "douleOld = [x*2 for x in range(num)] # list method\n",
    "\n",
    "# 2) compute double-list using numpy array [FASTER]\n",
    "# arr = np.arange(num)\n",
    "arr = np.array(range(num))\n",
    "# douleNew = arr + arr\n",
    "douleNew = arr * 2\n",
    "\n",
    "# ms - millisecond 毫秒\n",
    "# µs - microsecond 微秒\n",
    "# ns - nanoseconds 奈秒\n",
    "\n",
    "# is it the same?\n",
    "# douleOld == douleNew\n",
    "# (douleOld == douleNew).all()"
   ]
  },
  {
   "cell_type": "markdown",
   "metadata": {},
   "source": [
    "---\n",
    "## 1) **Array creation & data types**"
   ]
  },
  {
   "cell_type": "markdown",
   "metadata": {},
   "source": [
    "### Basic Operations"
   ]
  },
  {
   "cell_type": "code",
   "execution_count": null,
   "metadata": {},
   "outputs": [],
   "source": [
    "# 1d array\n",
    "data = np.arange(1000)\n",
    "data\n",
    "\n",
    "# basic operations\n",
    "data.ndim # dimension: 1\n",
    "data.shape # shape \n",
    "data.dtype\n",
    "data.strides\n",
    "# len(data)\n",
    "\n",
    "data.strides # 步長, (4,) => skip 4 byte to next item in this dimension"
   ]
  },
  {
   "cell_type": "code",
   "execution_count": 9,
   "metadata": {},
   "outputs": [
    {
     "data": {
      "text/plain": [
       "array([[16.99, 1.01, 'Female', ..., 'Sun', 'Dinner', 2],\n",
       "       [10.34, 1.66, 'Male', ..., 'Sun', 'Dinner', 3],\n",
       "       [21.01, 3.5, 'Male', ..., 'Sun', 'Dinner', 3],\n",
       "       ...,\n",
       "       [22.67, 2.0, 'Male', ..., 'Sat', 'Dinner', 2],\n",
       "       [17.82, 1.75, 'Male', ..., 'Sat', 'Dinner', 2],\n",
       "       [18.78, 3.0, 'Female', ..., 'Thur', 'Dinner', 2]], dtype=object)"
      ]
     },
     "execution_count": 9,
     "metadata": {},
     "output_type": "execute_result"
    }
   ],
   "source": [
    "# 2d array\n",
    "np.random.seed(1) # make sure we saw the same random values\n",
    "data = np.random.randn(2,3)\n",
    "data\n",
    "# data\n",
    "# data.ndim\n",
    "# data.dtype # float64 -> 8bytes\n",
    "# len(data)\n",
    "# data.strides # (24,8) => skip 24 / 8 byte to next item in this dimension\n",
    "\n",
    "# format the output\n",
    "# np.set_printoptions(precision=8,suppress=True)\n",
    "# np.set_printoptions?\n",
    "\n",
    "# pandas based on numpy\n",
    "\n",
    "# please install pandas first\n",
    "# import pandas as pd\n",
    "# df = pd.DataFrame(data)\n",
    "# url = 'https://raw.github.com/pandas-dev/pandas/master/pandas/tests/io/data/csv/tips.csv'\n",
    "# tips = pd.read_csv(url)   # tips dataset\n",
    "# tips.values\n"
   ]
  },
  {
   "cell_type": "markdown",
   "metadata": {},
   "source": [
    "### Creating ndarray\n",
    "\n",
    "1. np.array()\n",
    "1. np.arange()\n",
    "1. np.zeros()\n",
    "1. np.ones()\n",
    "1. np.empty()\n",
    "1. np.full()\n",
    "1. np.eye() / np.identity()\n",
    "1. np.random.random() / np.random.randint()\n",
    "1. np.linspace()"
   ]
  },
  {
   "cell_type": "code",
   "execution_count": null,
   "metadata": {},
   "outputs": [],
   "source": [
    "# method 1: list\n",
    "np.array([[1,2],[3,4],])"
   ]
  },
  {
   "cell_type": "code",
   "execution_count": null,
   "metadata": {},
   "outputs": [],
   "source": [
    "# method 2: np.arange(start, stop, step, dtype)\n",
    "np.arange(10,100, 3, dtype='float')\n",
    "np.arange(100).reshape(10,10) # reshape() to change the shape"
   ]
  },
  {
   "cell_type": "code",
   "execution_count": null,
   "metadata": {},
   "outputs": [],
   "source": [
    "# method 3: np.zeros(shape, dtype)\n",
    "# data = np.zeros(5)\n",
    "data = np.zeros((2,3))\n",
    "# data = np.zeros([2,3])\n",
    "data\n",
    "# data.shape"
   ]
  },
  {
   "cell_type": "code",
   "execution_count": null,
   "metadata": {},
   "outputs": [],
   "source": [
    "# method 4: np.ones(shape, dtype)\n",
    "# data = np.ones((2,3), 'object')\n",
    "np.ones([2,3], 'object')"
   ]
  },
  {
   "cell_type": "code",
   "execution_count": null,
   "metadata": {},
   "outputs": [],
   "source": [
    "# method 5: np.empty()\n",
    "np.empty(10) # no init, but faster\n"
   ]
  },
  {
   "cell_type": "code",
   "execution_count": null,
   "metadata": {},
   "outputs": [],
   "source": [
    "# method 6: np.full(shape, fill_value)\n",
    "np.full([2,3], 9.9) # filled by 9.9"
   ]
  },
  {
   "cell_type": "code",
   "execution_count": null,
   "metadata": {},
   "outputs": [],
   "source": [
    "# method 7: np.eye(N) / np.identity(N)\n",
    "# np.eye\n",
    "np.eye(5)\n",
    "\n",
    "# np.identity\n",
    "# np.identity(5)"
   ]
  },
  {
   "cell_type": "code",
   "execution_count": null,
   "metadata": {},
   "outputs": [],
   "source": [
    "# method 8a: np.random.random(shape)\n",
    "np.random.random((3,3))"
   ]
  },
  {
   "cell_type": "code",
   "execution_count": null,
   "metadata": {},
   "outputs": [],
   "source": [
    "# method 8b: np.random.randint(low, high, shape)\n",
    "np.random.randint(0, 100, (3,3))"
   ]
  },
  {
   "cell_type": "code",
   "execution_count": null,
   "metadata": {},
   "outputs": [],
   "source": [
    "# method 9: np.linspace(start, stop, num)\n",
    "\n",
    "np.linspace(0, 1, 10) # from 0 to 1, split into 10 equal parts"
   ]
  },
  {
   "cell_type": "markdown",
   "metadata": {},
   "source": [
    "### <font color=blue>Data types (dtype)</font>\n",
    "* https://numpy.org/doc/stable/user/basics.types.html"
   ]
  },
  {
   "cell_type": "markdown",
   "metadata": {},
   "source": [
    "**Some facts:**\n",
    "* 1 byte = 8 bits\n",
    "* signed -> positive, negative, 0\n",
    "* unsigned -> positive, 0\n",
    "\n",
    "**Type codes for the following types:**\n",
    "1. int\n",
    "1. float\n",
    "1. bool\n",
    "1. object\n",
    "1. string\n",
    "1. unicode\n"
   ]
  },
  {
   "cell_type": "markdown",
   "metadata": {},
   "source": [
    "##### **Create array using <font color=red>Type codes</font>**"
   ]
  },
  {
   "cell_type": "code",
   "execution_count": null,
   "metadata": {},
   "outputs": [],
   "source": [
    "# Type code\n",
    "# 1) int\n",
    "#  i1  -> signed 8bit int, Type: int8 \n",
    "#  i2  -> signed 16bit int, Type: int16\n",
    "#  i4  -> signed 24bit int, Type: int32\n",
    "#  i8  -> signed 64bit int, Type: int64\n",
    "\n",
    "# u1,u2,u4,u8 -> unsigned int (uintX)\n",
    "\n",
    "# 2) float\n",
    "#  f2  -> 16bit floating point, Type: float16\n",
    "#  f4  -> 32 bit floating point, Type: float32\n",
    "#  f8  -> 64 bit floating point, Type: float64\n",
    "\n",
    "# 3) bool\n",
    "#  ?  -> True OR False, Type: bool\n",
    "\n",
    "# 4) object\n",
    "#  O  -> python object, Type: object\n",
    "\n",
    "# 5) string\n",
    "#  S  -> Fixed-length ASCII char, S4 -> 4 ASCII characters, Type: string_\n",
    "\n",
    "# 6) unicode\n",
    "#  U  -> Fixed-length Unicode, Type: unicode_\n",
    "\n",
    "dt = np.dtype('i2')\n",
    "# dt\n",
    "\n",
    "dt.byteorder\n",
    "\n",
    "data = np.array([0,-1,2,3,4], dtype=dt)\n",
    "data\n"
   ]
  },
  {
   "cell_type": "markdown",
   "metadata": {},
   "source": [
    "##### **Create array using np data types (not type code here)**"
   ]
  },
  {
   "cell_type": "code",
   "execution_count": null,
   "metadata": {},
   "outputs": [],
   "source": [
    "# data = np.arange(10, dtype=np.int8) # 8bit integer\n",
    "data = np.arange(10, dtype=np.int16) # 16bit integer\n",
    "# data = np.arange(10, dtype=np.float64) # 64bit floating point\n",
    "\n",
    "# data = np.array([0,-1,2,3,4], dtype=np.bool) # zero is False, non-zero is True\n",
    "data = np.array([0,-1,2,3,4, 99999999], dtype=np.string_) # fixed length string, b: byte\n",
    "                \n",
    "# data\n",
    "data\n",
    "\n",
    "# Byte order\n",
    "# https://numpy.org/doc/stable/reference/generated/numpy.dtype.byteorder.html\n",
    "# (>) big-endian (low to high)\n",
    "# (<) little-endian (high to low)\n",
    "# (|) not applicable\n",
    "\n",
    "# S is single byte - always |"
   ]
  },
  {
   "cell_type": "markdown",
   "metadata": {},
   "source": [
    "##### **Changing array dtype after creation**"
   ]
  },
  {
   "cell_type": "code",
   "execution_count": null,
   "metadata": {},
   "outputs": [],
   "source": [
    "data = np.array([0,-1,2,3,4, 11112222], dtype=np.string_)\n",
    "\n",
    "# data.astype('?') # to boolean\n",
    "# data.astype('i4') # to int32\n",
    "data.astype('|S10')\n"
   ]
  },
  {
   "cell_type": "markdown",
   "metadata": {},
   "source": [
    "---"
   ]
  },
  {
   "cell_type": "markdown",
   "metadata": {},
   "source": [
    "## 2) **Universal functions: vectorized ops**"
   ]
  },
  {
   "cell_type": "markdown",
   "metadata": {},
   "source": [
    "### <font color=red>Vectorized Computations</font>"
   ]
  },
  {
   "cell_type": "code",
   "execution_count": null,
   "metadata": {},
   "outputs": [],
   "source": [
    "data = np.arange(1, 11, dtype=np.int16) # 16bit integer\n",
    "data"
   ]
  },
  {
   "cell_type": "code",
   "execution_count": null,
   "metadata": {},
   "outputs": [],
   "source": [
    "data + data # same shape\n",
    "# np.add(data, data)"
   ]
  },
  {
   "cell_type": "code",
   "execution_count": null,
   "metadata": {},
   "outputs": [],
   "source": [
    "data - 1\n",
    "# np.subtract(data, 1)"
   ]
  },
  {
   "cell_type": "code",
   "execution_count": null,
   "metadata": {},
   "outputs": [],
   "source": [
    "data * 2\n",
    "np.multiply(data,2) # element-wise"
   ]
  },
  {
   "cell_type": "code",
   "execution_count": null,
   "metadata": {},
   "outputs": [],
   "source": [
    "data * data # same shape\n",
    "# np.multiply(data, data) # element-wise"
   ]
  },
  {
   "cell_type": "code",
   "execution_count": null,
   "metadata": {},
   "outputs": [],
   "source": [
    "1/data\n",
    "# np.divide(1, data)"
   ]
  },
  {
   "cell_type": "code",
   "execution_count": null,
   "metadata": {},
   "outputs": [],
   "source": [
    "data**2\n",
    "np.square(data)"
   ]
  },
  {
   "cell_type": "markdown",
   "metadata": {},
   "source": [
    "### <font color=blue>**Universal Functions (ufunc)**</font>\n",
    "* perform <font color=red>**element-wise operations**</font> on ndarray\n",
    "* vectorized computations listed above are all ufuncs\n",
    "* Some ufuncs:\n",
    "    1. np.add, np.substract, np.negative\n",
    "    1. np.multiply, np.divide\n",
    "    1. np.power\n",
    "    1. np.mod\n",
    "    1. np.maxiumn, np.minimum\n",
    "    1. np.square, np.sqrt\n",
    "    1. np.exp\n",
    "    1. np.log, np.log10, np.log2, np.log1p\n",
    "    1. np.isnan\n",
    "    1. np.sin, np.cos, np.tan\n",
    "    1. np.greater, np.greater_equal\n",
    "    1. np.less, np.less_equal\n",
    "    1. np.equal, np.not_equal"
   ]
  },
  {
   "cell_type": "code",
   "execution_count": null,
   "metadata": {},
   "outputs": [],
   "source": [
    "np.random.seed(1)\n",
    "arr1 = np.array([-1,2,3,4,5])\n",
    "arr2 = np.array([2,0,7,-1,8])\n",
    "\n",
    "np.maximum(arr1, arr2)"
   ]
  },
  {
   "cell_type": "code",
   "execution_count": null,
   "metadata": {},
   "outputs": [],
   "source": [
    "arr1 = np.array([-1,2,3,4,5])\n",
    "abs(arr1) # python abs func, np array can work with some native funcs\n",
    "np.abs(arr1) # np.abs \n",
    "\n",
    "# for performance reason, always use np version first"
   ]
  },
  {
   "cell_type": "code",
   "execution_count": null,
   "metadata": {},
   "outputs": [],
   "source": [
    "arr1 = np.array([1,2,3,4,5])\n",
    "np.square(arr1)\n",
    "# np.sqrt(arr1)"
   ]
  },
  {
   "cell_type": "code",
   "execution_count": null,
   "metadata": {},
   "outputs": [],
   "source": [
    "x = np.arange(10, step=0.1) \n",
    "s = np.sin(x)\n",
    "c = np.cos(x)\n",
    "\n",
    "# plot it\n",
    "import matplotlib.pyplot as plot\n",
    "plot.grid(True) \n",
    "plot.plot(x, s) # sin\n",
    "plot.plot(x, c) # cos\n",
    "plot.legend(['Sin(x)','Cos(x)'])\n",
    "\n",
    "plot.title('Sin & Cos Wave')\n",
    "plot.xlabel('X')\n",
    "plot.ylabel('Amplitude')\n",
    "\n",
    "plot.axhline(color='black')"
   ]
  },
  {
   "cell_type": "code",
   "execution_count": null,
   "metadata": {},
   "outputs": [],
   "source": [
    "arr1 = np.array([1,2,3,4,5]) \n",
    "# arr1 > 3 # it's ufunc too\n",
    "# np.greater(arr1,3)"
   ]
  },
  {
   "cell_type": "markdown",
   "metadata": {},
   "source": [
    "---"
   ]
  },
  {
   "cell_type": "markdown",
   "metadata": {},
   "source": [
    "### <font color=blue>Aggregate functions</font>"
   ]
  },
  {
   "cell_type": "code",
   "execution_count": null,
   "metadata": {},
   "outputs": [],
   "source": [
    "data = np.arange(1,10) \n",
    "\n",
    "# numerical array only, not work for string!\n",
    "data.mean()\n",
    "# np.mean(data)\n",
    "# data.sum()\n",
    "# data.max()\n",
    "# data.min()\n",
    "# data.argmin() # index val for min item\n",
    "# data.argmax() # index val for max item\n",
    "\n",
    "# reduction - aggregate all values in a single array\n",
    "# np.add.reduce(data) \n",
    "# np.sum(data)\n",
    "\n",
    "# accumulate - aggregate all values in a single array, and keep the intermediate results\n",
    "# np.add.accumulate(data)\n",
    "# np.cumsum(data)"
   ]
  },
  {
   "cell_type": "markdown",
   "metadata": {},
   "source": [
    "### <font color=blue>Cumulative functions</font>"
   ]
  },
  {
   "cell_type": "code",
   "execution_count": null,
   "metadata": {},
   "outputs": [],
   "source": [
    "data = np.arange(1,10) \n",
    "\n",
    "# cumulative results\n",
    "data.cumsum()\n",
    "# data.cumprod()\n",
    "\n",
    "# data = np.array([[0, 1, 2], [3, 4, 5], [6, 7, 8]])\n",
    "# data.cumsum(axis=1) # left-right\n",
    "# data.cumsum(axis=0) # top-down"
   ]
  },
  {
   "cell_type": "markdown",
   "metadata": {},
   "source": [
    "---\n",
    "## 3) **Basic manipulations**"
   ]
  },
  {
   "cell_type": "markdown",
   "metadata": {},
   "source": [
    "### <font color=blue>Index & Slice</font>"
   ]
  },
  {
   "cell_type": "code",
   "execution_count": null,
   "metadata": {},
   "outputs": [],
   "source": [
    "# 1d examples\n",
    "arr = np.arange(10)\n",
    "\n",
    "# indexing[pos]\n",
    "arr[0] = 999  # arr[pos] to index a item and then update it\n",
    "# arr[0] # use arr[pos] to get a value\n",
    "# arr[0] = 'abc' # wrong, can't assign a different type\n",
    "\n",
    "# slicing\n",
    "# arr[:]  # all\n",
    "# arr[1:3] # pos 1,2, stop at pos 3\n",
    "# arr[::-1] # reverse order\n",
    "# arr[::2] # step size 2\n",
    "\n",
    "# WARNING\n",
    "# view = arr[1:4]\n",
    "# view[:] = [777,888,999] # Update on this view also update the original array\n",
    "\n",
    "# copy = arr[1:4].copy() # if you don't want to update thr original array\n",
    "# copy[:] = [777,888,999]"
   ]
  },
  {
   "cell_type": "code",
   "execution_count": null,
   "metadata": {},
   "outputs": [],
   "source": [
    "# 2d examples\n",
    "arr2d = np.arange(16).reshape(4,4)\n",
    "# array([[ 0,  1,  2,  3],\n",
    "#        [ 4,  5,  6,  7],\n",
    "#        [ 8,  9, 10, 11],\n",
    "#        [12, 13, 14, 15]])\n",
    "\n",
    "# indexing [row][col] OR [row, col]\n",
    "# arr2d[0][0] # 0\n",
    "# arr2d[1][2] # 6\n",
    "# arr2d[1, 2] # 6 \n",
    "\n",
    "# slicing[row, col]\n",
    "# arr2d[1] # row 1\n",
    "# arr2d[1:3] # row 1, 2\n",
    "# arr2d[1:3, 1:3] # center parts\n",
    "\n",
    "# update examples\n",
    "# arr2d[1:3, 1:3] = np.full([2,2], -1)\n",
    "# arr2d"
   ]
  },
  {
   "cell_type": "code",
   "execution_count": null,
   "metadata": {},
   "outputs": [],
   "source": [
    "# increase dimension\n",
    "arr = np.arange(10) # 1d\n",
    "\n",
    "arr[np.newaxis, :] # to 2d (aad new row)\n",
    "# arr[:, np.newaxis] # to 2d (add new col)"
   ]
  },
  {
   "cell_type": "markdown",
   "metadata": {},
   "source": [
    "### <font color=blue>Boolean Mask</font>"
   ]
  },
  {
   "cell_type": "code",
   "execution_count": null,
   "metadata": {},
   "outputs": [],
   "source": [
    "animals = np.array(['cat', 'dog', 'fish', 'duck', 'cat'])\n",
    "np.unique(animals)\n",
    "\n",
    "animals == 'cat' # return a boolean mask\n",
    "animals[ animals == 'cat' ] # select records \n",
    "\n",
    "np.random.seed(1)\n",
    "data = np.random.randint(1,100, [5,5]) # assume this data is associcated with animals\n",
    "# data\n",
    "# data[animals == 'cat'] # cat records\n",
    "# data[~(animals == 'cat')] # non-cat records\n",
    "# data[animals != 'cat'] # non-cat records\n",
    "# data[(animals == 'cat') | (animals == 'dog')] # cat OR dogs \n",
    "# data[(animals == 'cat') & (animals == 'dog')] # cat AND dogs (nothing)\n",
    "\n",
    "# data[data>30] # select all items > 30\n",
    "# data[data>30] = -1 # assign values \n",
    "\n",
    "# any / all function\n",
    "# (data>30).any() # any T?\n",
    "# (data>30).all() # all T?\n",
    "# (data>30).sum() # count of item > 30"
   ]
  },
  {
   "cell_type": "markdown",
   "metadata": {},
   "source": [
    "### <font color=blue>Sorting</font>"
   ]
  },
  {
   "cell_type": "code",
   "execution_count": null,
   "metadata": {},
   "outputs": [],
   "source": [
    "arr = np.array([4,54,2,6,8,-1,0]) \n",
    "arr.sort()\n",
    "arr\n",
    "# np.sort(arr) # sorted now\n",
    "# np.sort(arr)[::-1] # reverse order\n",
    "\n",
    "# np.random.seed(1)\n",
    "# arr2d = np.random.randn(3, 3)\n",
    "# arr2d\n",
    "# arr2d.sort(axis=0) # sort by each columns\n",
    "# arr2d.sort(axis=1) # sort by each row\n",
    "# arr2d\n"
   ]
  },
  {
   "cell_type": "markdown",
   "metadata": {},
   "source": [
    "### <font color=blue>Fancy Index</font>"
   ]
  },
  {
   "cell_type": "code",
   "execution_count": null,
   "metadata": {},
   "outputs": [],
   "source": [
    "animals = np.array(['cat', 'dog', 'fish', 'duck']) \n",
    "\n",
    "# animals[[0,1]] # cat, dog\n",
    "# animals[[-1,1]] # duck, dog\n",
    "# animals[[1,1,1]] # dog, dog, dog\n"
   ]
  },
  {
   "cell_type": "markdown",
   "metadata": {},
   "source": [
    "### <font color=blue>Transpose</font>"
   ]
  },
  {
   "cell_type": "code",
   "execution_count": null,
   "metadata": {},
   "outputs": [],
   "source": [
    "arr2d = np.arange(16).reshape(4,4)\n",
    "arr2d\n",
    "arr2d.T # transpose\n",
    "\n",
    "arr2d.swapaxes(0,1)"
   ]
  },
  {
   "cell_type": "markdown",
   "metadata": {},
   "source": [
    "### <font color=blue>Concatenate & Split</font>"
   ]
  },
  {
   "cell_type": "code",
   "execution_count": null,
   "metadata": {},
   "outputs": [],
   "source": [
    "arr1 = np.arange(16).reshape(2,8)\n",
    "arr2 = arr1 + 10\n",
    "\n",
    "# np.concatenate([arr1, arr2], axis=0) # vertically\n",
    "# np.vstack([arr1, arr2]) # 2 dim\n",
    "# np.row_stack([arr1, arr2])\n",
    "\n",
    "# np.concatenate([arr1, arr2], axis=1) # horizontally\n",
    "# np.hstack([arr1, arr2])\n",
    "# np.column_stack([arr1, arr2])\n",
    "\n",
    "# arr1\n",
    "# array([[ 0,  1,  2,  3,  4,  5,  6,  7],\n",
    "#        [ 8,  9, 10, 11, 12, 13, 14, 15]])\n",
    "# arrayList = np.split(arr1, [1,3,5], axis=1) # it is a list of ndarray\n",
    "# type(arrayList[0])\n"
   ]
  },
  {
   "cell_type": "markdown",
   "metadata": {},
   "source": [
    "##### Stack helpers: **np.r_** & **np.c_**"
   ]
  },
  {
   "cell_type": "code",
   "execution_count": null,
   "metadata": {},
   "outputs": [],
   "source": [
    "arr1 = np.arange(16).reshape(2,8)\n",
    "arr2 = arr1 + 10\n",
    "\n",
    "# np.r_[arr1, arr2] # row stack\n",
    "np.c_[arr1, arr2] # col stack\n",
    "# np.c_[ np.r_[arr1, arr2], np.r_[arr1, arr2] ] # nested example\n",
    "\n",
    "# can also accept slice OR list to create arrays\n",
    "# np.c_[:10] # vertically \n",
    "# np.c_[10:0:-1] # vertically, reverse order\n",
    "# np.r_[:10] # horizontally\n",
    "\n",
    "# slice with different columns\n",
    "# np.c_[1:5, 6:10, 11:15]"
   ]
  },
  {
   "cell_type": "markdown",
   "metadata": {},
   "source": [
    "### <font color=blue>File I/O</font>"
   ]
  },
  {
   "cell_type": "code",
   "execution_count": null,
   "metadata": {},
   "outputs": [],
   "source": [
    "arr = np.arange(20)\n",
    "filename = 'my_arr'\n",
    "\n",
    "# save ndarray to a file\n",
    "# np.save(filename, arr)\n",
    "\n",
    "# load ndarray from a file\n",
    "# np.load(f'{filename}.npy')\n",
    "\n",
    "# compress and save multiple arrays to a file\n",
    "# np.savez_compressed(filename, arr1=arr, arr2=np.arange(10)) # data is the key, it could be any keys\n",
    "# tmp = np.load(f'{filename}.npz')\n",
    "# tmp['arr1']\n",
    "# tmp['arr2']"
   ]
  },
  {
   "cell_type": "markdown",
   "metadata": {},
   "source": [
    "### <font color=blue>Linear Algebra</font>"
   ]
  },
  {
   "cell_type": "markdown",
   "metadata": {},
   "source": [
    "1. np.dot\n",
    "1. np.diag\n",
    "1. np.linalg.det\n",
    "1. np.linalg.eig\n",
    "1. np.linalg.inv\n",
    "1. np.linalg.solve, etc."
   ]
  },
  {
   "cell_type": "markdown",
   "metadata": {},
   "source": [
    "##### dot product\n",
    "* https://www.mathsisfun.com/algebra/matrix-multiplying.html"
   ]
  },
  {
   "cell_type": "code",
   "execution_count": null,
   "metadata": {},
   "outputs": [],
   "source": [
    "a = np.array([[1,2,3], [4,5,6]])\n",
    "b = np.array([[7,8],[9,10],[11,12]])\n",
    "\n",
    "np.dot(a, b)\n",
    "# a.dot(b)"
   ]
  },
  {
   "cell_type": "markdown",
   "metadata": {},
   "source": [
    "##### determinant\n",
    "* https://www.mathsisfun.com/algebra/matrix-determinant.html"
   ]
  },
  {
   "cell_type": "code",
   "execution_count": null,
   "metadata": {},
   "outputs": [],
   "source": [
    "X = np.array([[6,1,1],[4,-2,5], [2,8,7]])\n",
    "np.linalg.det(X)"
   ]
  },
  {
   "cell_type": "markdown",
   "metadata": {},
   "source": [
    "##### inverse\n",
    "* https://www.mathsisfun.com/algebra/matrix-inverse.html"
   ]
  },
  {
   "cell_type": "code",
   "execution_count": null,
   "metadata": {},
   "outputs": [],
   "source": [
    "np.random.seed(1)\n",
    "X = np.random.rand(3,3)\n",
    "np.linalg.inv(X)"
   ]
  },
  {
   "cell_type": "markdown",
   "metadata": {},
   "source": [
    "##### diagonal"
   ]
  },
  {
   "cell_type": "code",
   "execution_count": null,
   "metadata": {},
   "outputs": [],
   "source": [
    "a = np.arange(9).reshape((3,3))\n",
    "np.diag(a)"
   ]
  },
  {
   "cell_type": "markdown",
   "metadata": {},
   "source": [
    "##### solve linear matrix equations\n",
    "\n",
    "> x + y + z = 6 <br>\n",
    "> 2y + 5z = −4 <br>\n",
    "> 2x + 5y − z = 27<br>\n",
    "    \n",
    "* https://www.mathsisfun.com/algebra/systems-linear-equations-matrices.html"
   ]
  },
  {
   "cell_type": "code",
   "execution_count": null,
   "metadata": {},
   "outputs": [],
   "source": [
    "A = [[1,1,1], [0,2,5], [2,5,-1]]  \n",
    "B = [6, -4, 27]\n",
    "\n",
    "np.linalg.solve(A, B)\n",
    "# np.linalg.inv(A).dot(B)"
   ]
  },
  {
   "cell_type": "markdown",
   "metadata": {},
   "source": [
    "---"
   ]
  },
  {
   "cell_type": "markdown",
   "metadata": {},
   "source": [
    "## 4) **Broadcast: vectorized ops on arrays with different shapes**"
   ]
  },
  {
   "cell_type": "markdown",
   "metadata": {},
   "source": [
    "### <font color=blue>**Broadcast**</font>\n",
    "* Doing arithmetics with arrays in <font color=red>**different shapes**</font>\n",
    "\n",
    "* Examples and diagrams are extracted from NumPy official websites:\n",
    "    * https://numpy.org/doc/stable/user/basics.broadcasting.html\n",
    "    * https://numpy.org/devdocs/user/theory.broadcasting.html "
   ]
  },
  {
   "cell_type": "markdown",
   "metadata": {},
   "source": [
    "##### Arrays with **same shape** -> **element-wise** computations"
   ]
  },
  {
   "cell_type": "code",
   "execution_count": null,
   "metadata": {},
   "outputs": [],
   "source": [
    "a = np.array([1.0, 2.0, 3.0])\n",
    "b = np.array([2.0, 2.0, 2.0]) # all 2 here\n",
    "\n",
    "a * b # element-wise multiplication -> the shape of a & b are the same"
   ]
  },
  {
   "cell_type": "markdown",
   "metadata": {},
   "source": [
    "##### Arrays **NOT** in **same shape**\n",
    "<font color=green>**CASE 1.**</font> One of them is a <font color=red>**scalar** (number)</font>\n",
    "\n",
    "1. The **smaller array** must **stretch** to match the shape of the **larger array**\n",
    "1. After matching the shape -> **element-wise** computations"
   ]
  },
  {
   "cell_type": "code",
   "execution_count": null,
   "metadata": {},
   "outputs": [],
   "source": [
    "a = np.array([1.0, 2.0, 3.0])\n",
    "b = 2 # b is a scalar now\n",
    "\n",
    "a * b # since shape not match -> broadcasting (b stretch to match A - conceptually) -"
   ]
  },
  {
   "cell_type": "markdown",
   "metadata": {},
   "source": [
    "![ndarray with a scalar](https://numpy.org/devdocs/_images/theory.broadcast_1.gif)\n",
    "\n",
    "Source: https://numpy.org/devdocs/user/theory.broadcasting.html"
   ]
  },
  {
   "cell_type": "markdown",
   "metadata": {},
   "source": [
    "<font color=green>**CASE 2**.</font> Both of them are arrays but **shape** are different"
   ]
  },
  {
   "cell_type": "markdown",
   "metadata": {},
   "source": [
    "> **RULE**: In order to broadcast, the size of the **trailing axes** for both arrays in an operation **must either be the same size** or **one of them must be one**."
   ]
  },
  {
   "cell_type": "code",
   "execution_count": null,
   "metadata": {},
   "outputs": [],
   "source": [
    "a = np.array([[ 0.0,  0.0,  0.0],\n",
    "            [10.0, 10.0, 10.0],\n",
    "            [20.0, 20.0, 20.0],\n",
    "            [30.0, 30.0, 30.0]])\n",
    "b = np.array([0, 1.0, 2.0])\n",
    "# b = np.array([[0, 1.0, 2.0],\n",
    "#               [0, 1.0, 2.0],\n",
    "#               [0, 1.0, 2.0],\n",
    "#               [0, 1.0, 2.0]])\n",
    "a + b\n",
    "# a.shape # (4, 3)\n",
    "# b.shape # (3,)\n",
    "\n",
    "#######################\n",
    "# Broadcast rule check\n",
    "#######################\n",
    "# (4, 3) \n",
    "# (3,)\n",
    "\n",
    "# step 1: smaller array -> append 1 on LHS (increase the dimension)\n",
    "# (4, 3) => (4, 3) # no change\n",
    "# (3,)   => (1, 3) # append 1 to the left \n",
    "\n",
    "# Conclusion => Compatible\n",
    "\n",
    "# step 2: stretch on ALL 1s to match the larger array\n",
    "# (4, 3) => (4, 3) # no change\n",
    "# (3,)   => (1->4, 3) # 1 stretch to 4\n",
    "\n",
    "# step 3: if there is a match in shape, do element-wise computations with the new arrays\n",
    "# (4, 3) \n",
    "# (4, 3)"
   ]
  },
  {
   "cell_type": "markdown",
   "metadata": {},
   "source": [
    "![Broadcast](https://numpy.org/devdocs/_images/theory.broadcast_2.gif)\n",
    "\n",
    "Source: https://numpy.org/devdocs/user/theory.broadcasting.html"
   ]
  },
  {
   "cell_type": "markdown",
   "metadata": {},
   "source": [
    "<font color=red>**Incompatible**.</font> Cannot do broadcasting"
   ]
  },
  {
   "cell_type": "code",
   "execution_count": null,
   "metadata": {},
   "outputs": [],
   "source": [
    "a = np.array([[ 0.0,  0.0,  0.0],\n",
    "            [10.0, 10.0, 10.0],\n",
    "            [20.0, 20.0, 20.0],\n",
    "            [30.0, 30.0, 30.0]])\n",
    "b = np.array([1.0, 2.0, 3.0, 4.0])\n",
    "\n",
    "#######################\n",
    "# Broadcast rule check\n",
    "#######################\n",
    "# (4, 3) => \n",
    "# (4,)   => trailing axes is not the same size AND not 1\n",
    "# even though I increase the dimension and add 1 to LHS, 4 did not match with 3 (trailing axes not equal AND not one)\n",
    "# Conclusion => incompatible \n",
    "\n",
    "# a + b # value Error => incompatible shape for broadcasting"
   ]
  },
  {
   "cell_type": "markdown",
   "metadata": {},
   "source": [
    "![Broadcast](https://numpy.org/devdocs/_images/theory.broadcast_3.gif)\n",
    "\n",
    "Source: https://numpy.org/devdocs/user/theory.broadcasting.html"
   ]
  },
  {
   "cell_type": "code",
   "execution_count": null,
   "metadata": {},
   "outputs": [],
   "source": [
    "a = np.array([0.0, 10.0, 20.0, 30.0])\n",
    "b = np.array([0.0, 1.0, 2.0])\n",
    "\n",
    "a.shape # (4,)\n",
    "b.shape # (3,)\n",
    "\n",
    "a[:,np.newaxis] # shape => (4, 1)\n",
    "# array([[ 0.],\n",
    "#        [10.],\n",
    "#        [20.],\n",
    "#        [30.]])\n",
    "a[:,np.newaxis] + b\n",
    "\n",
    "#######################\n",
    "# Broadcast rule check\n",
    "#######################\n",
    "# (4, 1) => trailing axes is 1\n",
    "# (4, 1) => (4, 1->3) # stretch 1 to 3 to match the other array\n",
    "# (3,)   => # this 3 is matching with the previous array's 3 after stretching\n",
    "# Conclusion => Compatible\n",
    "\n",
    "# (4, 1->3) => (4, 3)\n",
    "# (3,)      => (1, 3) # append 1 on the LHS to increase dimension\n",
    "# (3,)      => (1->4, 3) # stretch 1 to 4 to match the other array\n"
   ]
  },
  {
   "cell_type": "markdown",
   "metadata": {},
   "source": [
    "![Broadcast](https://numpy.org/devdocs/_images/theory.broadcast_4.gif)\n",
    "\n",
    "Source: https://numpy.org/devdocs/user/theory.broadcasting.html"
   ]
  },
  {
   "cell_type": "markdown",
   "metadata": {},
   "source": [
    "In practice,\n",
    "* one of the array could be very large\n",
    "* since this process is conceptual only, it does not require so many memory"
   ]
  },
  {
   "cell_type": "code",
   "execution_count": null,
   "metadata": {},
   "outputs": [],
   "source": [
    "np.random.seed(1)\n",
    "array = np.random.random([1000,5])\n",
    "mean = array.mean(axis=0) # mean for each col\n",
    "\n",
    "array - mean # 2 shapes are different, it is a broadcast\n",
    "\n",
    "#######################\n",
    "# Broadcast rule check\n",
    "#######################\n",
    "# (1000, 5)\n",
    "# (5) \n",
    "\n",
    "# step 1: smaller array -> append 1 on LHS (increase the dimension)\n",
    "# (1000, 5) => (1000, 5) # no change\n",
    "# (5,)   => (1, 5) # append 1 to the left \n",
    "\n",
    "# Conclusion => Compatible\n",
    "# (5,)   => (1->1000, 5) # append 1 to the left\n",
    "\n",
    "# it is conceptual, you don't need (1000, 5) mean array to perform this operation!"
   ]
  }
 ],
 "metadata": {
  "kernelspec": {
   "display_name": "Python 3",
   "language": "python",
   "name": "python3"
  },
  "language_info": {
   "codemirror_mode": {
    "name": "ipython",
    "version": 3
   },
   "file_extension": ".py",
   "mimetype": "text/x-python",
   "name": "python",
   "nbconvert_exporter": "python",
   "pygments_lexer": "ipython3",
   "version": "3.8.5"
  }
 },
 "nbformat": 4,
 "nbformat_minor": 4
}
