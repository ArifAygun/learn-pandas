{
 "cells": [
  {
   "cell_type": "markdown",
   "metadata": {},
   "source": [
    "# **NumPy**\n",
    "\n",
    "1. Array creation & data types\n",
    "1. Universal functions: vectorized ops\n",
    "1. Basic manipulations: indexing, slicing, boolean mask, fancy index, etc.\n",
    "1. Broadcast: vectorized ops on arrays with different shapes\n",
    "\n",
    "Nature article: https://www.nature.com/articles/s41586-020-2649-2.pdf"
   ]
  },
  {
   "cell_type": "markdown",
   "metadata": {},
   "source": [
    "##### Package installation"
   ]
  },
  {
   "cell_type": "code",
   "execution_count": 1,
   "metadata": {},
   "outputs": [
    {
     "name": "stdout",
     "output_type": "stream",
     "text": [
      "Requirement already satisfied: numpy in d:\\python38\\lib\\site-packages (1.18.5)\n",
      "Requirement already satisfied: matplotlib in d:\\python38\\lib\\site-packages (3.3.1)\n",
      "Requirement already satisfied: pillow>=6.2.0 in d:\\python38\\lib\\site-packages (from matplotlib) (7.2.0)\n",
      "Requirement already satisfied: python-dateutil>=2.1 in d:\\python38\\lib\\site-packages (from matplotlib) (2.8.1)\n",
      "Requirement already satisfied: certifi>=2020.06.20 in d:\\python38\\lib\\site-packages (from matplotlib) (2020.6.20)\n",
      "Requirement already satisfied: kiwisolver>=1.0.1 in d:\\python38\\lib\\site-packages (from matplotlib) (1.2.0)\n",
      "Requirement already satisfied: numpy>=1.15 in d:\\python38\\lib\\site-packages (from matplotlib) (1.18.5)\n",
      "Requirement already satisfied: pyparsing!=2.0.4,!=2.1.2,!=2.1.6,>=2.0.3 in d:\\python38\\lib\\site-packages (from matplotlib) (2.4.7)\n",
      "Requirement already satisfied: cycler>=0.10 in d:\\python38\\lib\\site-packages (from matplotlib) (0.10.0)\n",
      "Requirement already satisfied: six>=1.5 in d:\\python38\\lib\\site-packages (from python-dateutil>=2.1->matplotlib) (1.15.0)\n",
      "Requirement already satisfied: pandas in d:\\python38\\lib\\site-packages (1.1.0)\n",
      "Requirement already satisfied: pytz>=2017.2 in d:\\python38\\lib\\site-packages (from pandas) (2020.1)\n",
      "Requirement already satisfied: numpy>=1.15.4 in d:\\python38\\lib\\site-packages (from pandas) (1.18.5)\n",
      "Requirement already satisfied: python-dateutil>=2.7.3 in d:\\python38\\lib\\site-packages (from pandas) (2.8.1)\n",
      "Requirement already satisfied: six>=1.5 in d:\\python38\\lib\\site-packages (from python-dateutil>=2.7.3->pandas) (1.15.0)\n"
     ]
    }
   ],
   "source": [
    "!pip install numpy\n",
    "!pip install matplotlib\n",
    "!pip install pandas"
   ]
  },
  {
   "cell_type": "code",
   "execution_count": 2,
   "metadata": {},
   "outputs": [
    {
     "data": {
      "text/plain": [
       "'1.18.5'"
      ]
     },
     "execution_count": 2,
     "metadata": {},
     "output_type": "execute_result"
    }
   ],
   "source": [
    "import numpy as np\n",
    "\n",
    "np.__version__"
   ]
  },
  {
   "cell_type": "markdown",
   "metadata": {},
   "source": [
    "### Why numpy array?\n",
    "* **Array**: collection of items, with the **same data type**\n",
    "* Save computational time and memory space \n",
    "    * Python list is slower and take up more space\n",
    "* Vectorized operations: write lesser for-loops\n",
    "* Extremely popular, data exchange for different pacakges\n",
    "* Linear algebra operations"
   ]
  },
  {
   "cell_type": "markdown",
   "metadata": {},
   "source": [
    "### Numpy is faster than list"
   ]
  },
  {
   "cell_type": "code",
   "execution_count": 3,
   "metadata": {},
   "outputs": [],
   "source": [
    "# 1) compute double-list using list [SLOWER]\n",
    "num = 100000\n",
    "douleOld = [x*2 for x in range(num)] # list method\n",
    "\n",
    "# 2) compute double-list using numpy array [FASTER]\n",
    "# arr = np.arange(num)\n",
    "arr = np.array(range(num))\n",
    "# douleNew = arr + arr\n",
    "douleNew = arr * 2\n",
    "\n",
    "# ms - millisecond 毫秒\n",
    "# µs - microsecond 微秒\n",
    "# ns - nanoseconds 奈秒\n",
    "\n",
    "# is it the same?\n",
    "# douleOld == douleNew\n",
    "# (douleOld == douleNew).all()"
   ]
  },
  {
   "cell_type": "markdown",
   "metadata": {},
   "source": [
    "---\n",
    "## 1) **Array creation & data types**"
   ]
  },
  {
   "cell_type": "markdown",
   "metadata": {},
   "source": [
    "### Basic Operations"
   ]
  },
  {
   "cell_type": "code",
   "execution_count": 4,
   "metadata": {},
   "outputs": [
    {
     "data": {
      "text/plain": [
       "(4,)"
      ]
     },
     "execution_count": 4,
     "metadata": {},
     "output_type": "execute_result"
    }
   ],
   "source": [
    "# 1d array\n",
    "data = np.arange(1000)\n",
    "data\n",
    "\n",
    "# basic operations\n",
    "data.ndim # dimension: 1\n",
    "data.shape # shape \n",
    "data.dtype\n",
    "data.strides\n",
    "# len(data)\n",
    "\n",
    "data.strides # 步長, (4,) => skip 4 byte to next item in this dimension"
   ]
  },
  {
   "cell_type": "code",
   "execution_count": 5,
   "metadata": {},
   "outputs": [
    {
     "data": {
      "text/plain": [
       "array([[ 1.62434536, -0.61175641, -0.52817175],\n",
       "       [-1.07296862,  0.86540763, -2.3015387 ]])"
      ]
     },
     "execution_count": 5,
     "metadata": {},
     "output_type": "execute_result"
    }
   ],
   "source": [
    "# 2d array\n",
    "np.random.seed(1) # make sure we saw the same random values\n",
    "data = np.random.randn(2,3)\n",
    "data\n",
    "# data\n",
    "# data.ndim\n",
    "# data.dtype # float64 -> 8bytes\n",
    "# len(data)\n",
    "# data.strides # (24,8) => skip 24 / 8 byte to next item in this dimension\n",
    "\n",
    "# format the output\n",
    "# np.set_printoptions(precision=8,suppress=True)\n",
    "# np.set_printoptions?\n",
    "\n",
    "# pandas based on numpy\n",
    "\n",
    "# please install pandas first\n",
    "# import pandas as pd\n",
    "# df = pd.DataFrame(data)\n",
    "# url = 'https://raw.github.com/pandas-dev/pandas/master/pandas/tests/io/data/csv/tips.csv'\n",
    "# tips = pd.read_csv(url)   # tips dataset\n",
    "# tips.values\n"
   ]
  },
  {
   "cell_type": "markdown",
   "metadata": {},
   "source": [
    "### Creating ndarray\n",
    "\n",
    "1. np.array()\n",
    "1. np.arange()\n",
    "1. np.zeros()\n",
    "1. np.ones()\n",
    "1. np.empty()\n",
    "1. np.full()\n",
    "1. np.eye() / np.identity()\n",
    "1. np.random.random() / np.random.randint()\n",
    "1. np.linspace()"
   ]
  },
  {
   "cell_type": "code",
   "execution_count": 6,
   "metadata": {},
   "outputs": [
    {
     "data": {
      "text/plain": [
       "array([[1, 2],\n",
       "       [3, 4]])"
      ]
     },
     "execution_count": 6,
     "metadata": {},
     "output_type": "execute_result"
    }
   ],
   "source": [
    "# method 1: list\n",
    "np.array([[1,2],[3,4],])"
   ]
  },
  {
   "cell_type": "code",
   "execution_count": 7,
   "metadata": {},
   "outputs": [
    {
     "data": {
      "text/plain": [
       "array([[ 0,  1,  2,  3,  4,  5,  6,  7,  8,  9],\n",
       "       [10, 11, 12, 13, 14, 15, 16, 17, 18, 19],\n",
       "       [20, 21, 22, 23, 24, 25, 26, 27, 28, 29],\n",
       "       [30, 31, 32, 33, 34, 35, 36, 37, 38, 39],\n",
       "       [40, 41, 42, 43, 44, 45, 46, 47, 48, 49],\n",
       "       [50, 51, 52, 53, 54, 55, 56, 57, 58, 59],\n",
       "       [60, 61, 62, 63, 64, 65, 66, 67, 68, 69],\n",
       "       [70, 71, 72, 73, 74, 75, 76, 77, 78, 79],\n",
       "       [80, 81, 82, 83, 84, 85, 86, 87, 88, 89],\n",
       "       [90, 91, 92, 93, 94, 95, 96, 97, 98, 99]])"
      ]
     },
     "execution_count": 7,
     "metadata": {},
     "output_type": "execute_result"
    }
   ],
   "source": [
    "# method 2: np.arange(start, stop, step, dtype)\n",
    "np.arange(10,100, 3, dtype='float')\n",
    "np.arange(100).reshape(10,10) # reshape() to change the shape"
   ]
  },
  {
   "cell_type": "code",
   "execution_count": 8,
   "metadata": {},
   "outputs": [
    {
     "data": {
      "text/plain": [
       "array([[0., 0., 0.],\n",
       "       [0., 0., 0.]])"
      ]
     },
     "execution_count": 8,
     "metadata": {},
     "output_type": "execute_result"
    }
   ],
   "source": [
    "# method 3: np.zeros(shape, dtype)\n",
    "# data = np.zeros(5)\n",
    "data = np.zeros((2,3))\n",
    "# data = np.zeros([2,3])\n",
    "data\n",
    "# data.shape"
   ]
  },
  {
   "cell_type": "code",
   "execution_count": 9,
   "metadata": {},
   "outputs": [
    {
     "data": {
      "text/plain": [
       "array([[1, 1, 1],\n",
       "       [1, 1, 1]], dtype=object)"
      ]
     },
     "execution_count": 9,
     "metadata": {},
     "output_type": "execute_result"
    }
   ],
   "source": [
    "# method 4: np.ones(shape, dtype)\n",
    "# data = np.ones((2,3), 'object')\n",
    "np.ones([2,3], 'object')"
   ]
  },
  {
   "cell_type": "code",
   "execution_count": 10,
   "metadata": {},
   "outputs": [
    {
     "data": {
      "text/plain": [
       "array([1.31045749e-311, 1.77863633e-322, 0.00000000e+000, 0.00000000e+000,\n",
       "       0.00000000e+000, 4.75732178e-038, 1.14199372e-071, 5.45502329e-090,\n",
       "       1.48999169e+161, 4.67404806e-315])"
      ]
     },
     "execution_count": 10,
     "metadata": {},
     "output_type": "execute_result"
    }
   ],
   "source": [
    "# method 5: np.empty()\n",
    "np.empty(10) # no init, but faster\n"
   ]
  },
  {
   "cell_type": "code",
   "execution_count": 11,
   "metadata": {},
   "outputs": [
    {
     "data": {
      "text/plain": [
       "array([[9.9, 9.9, 9.9],\n",
       "       [9.9, 9.9, 9.9]])"
      ]
     },
     "execution_count": 11,
     "metadata": {},
     "output_type": "execute_result"
    }
   ],
   "source": [
    "# method 6: np.full(shape, fill_value)\n",
    "np.full([2,3], 9.9) # filled by 9.9"
   ]
  },
  {
   "cell_type": "code",
   "execution_count": 12,
   "metadata": {},
   "outputs": [
    {
     "data": {
      "text/plain": [
       "array([[1., 0., 0., 0., 0.],\n",
       "       [0., 1., 0., 0., 0.],\n",
       "       [0., 0., 1., 0., 0.],\n",
       "       [0., 0., 0., 1., 0.],\n",
       "       [0., 0., 0., 0., 1.]])"
      ]
     },
     "execution_count": 12,
     "metadata": {},
     "output_type": "execute_result"
    }
   ],
   "source": [
    "# method 7: np.eye(N) / np.identity(N)\n",
    "# np.eye\n",
    "np.eye(5)\n",
    "\n",
    "# np.identity\n",
    "# np.identity(5)"
   ]
  },
  {
   "cell_type": "code",
   "execution_count": 13,
   "metadata": {},
   "outputs": [
    {
     "data": {
      "text/plain": [
       "array([[0.41919451, 0.6852195 , 0.20445225],\n",
       "       [0.87811744, 0.02738759, 0.67046751],\n",
       "       [0.4173048 , 0.55868983, 0.14038694]])"
      ]
     },
     "execution_count": 13,
     "metadata": {},
     "output_type": "execute_result"
    }
   ],
   "source": [
    "# method 8a: np.random.random(shape)\n",
    "np.random.random((3,3))"
   ]
  },
  {
   "cell_type": "code",
   "execution_count": 14,
   "metadata": {},
   "outputs": [
    {
     "data": {
      "text/plain": [
       "array([[96, 86, 13],\n",
       "       [ 9,  7, 63],\n",
       "       [61, 22, 57]])"
      ]
     },
     "execution_count": 14,
     "metadata": {},
     "output_type": "execute_result"
    }
   ],
   "source": [
    "# method 8b: np.random.randint(low, high, shape)\n",
    "np.random.randint(0, 100, (3,3))"
   ]
  },
  {
   "cell_type": "code",
   "execution_count": 15,
   "metadata": {},
   "outputs": [
    {
     "data": {
      "text/plain": [
       "array([0.        , 0.11111111, 0.22222222, 0.33333333, 0.44444444,\n",
       "       0.55555556, 0.66666667, 0.77777778, 0.88888889, 1.        ])"
      ]
     },
     "execution_count": 15,
     "metadata": {},
     "output_type": "execute_result"
    }
   ],
   "source": [
    "# method 9: np.linspace(start, stop, num)\n",
    "\n",
    "np.linspace(0, 1, 10) # from 0 to 1, split into 10 equal parts"
   ]
  },
  {
   "cell_type": "markdown",
   "metadata": {},
   "source": [
    "### Data types (dtype)\n",
    "* https://numpy.org/doc/stable/user/basics.types.html"
   ]
  },
  {
   "cell_type": "markdown",
   "metadata": {},
   "source": [
    "**Some facts:**\n",
    "* 1 byte = 8 bits\n",
    "* signed -> positive, negative, 0\n",
    "* unsigned -> positive, 0\n",
    "\n",
    "**Type codes for the following types:**\n",
    "1. int\n",
    "1. float\n",
    "1. bool\n",
    "1. object\n",
    "1. string\n",
    "1. unicode\n"
   ]
  },
  {
   "cell_type": "markdown",
   "metadata": {},
   "source": [
    "##### Create array using **Type codes**"
   ]
  },
  {
   "cell_type": "code",
   "execution_count": 16,
   "metadata": {},
   "outputs": [
    {
     "data": {
      "text/plain": [
       "array([ 0, -1,  2,  3,  4], dtype=int16)"
      ]
     },
     "execution_count": 16,
     "metadata": {},
     "output_type": "execute_result"
    }
   ],
   "source": [
    "# Type code\n",
    "# 1) int\n",
    "#  i1  -> signed 8bit int, Type: int8 \n",
    "#  i2  -> signed 16bit int, Type: int16\n",
    "#  i4  -> signed 24bit int, Type: int32\n",
    "#  i8  -> signed 64bit int, Type: int64\n",
    "\n",
    "# u1,u2,u4,u8 -> unsigned int (uintX)\n",
    "\n",
    "# 2) float\n",
    "#  f2  -> 16bit floating point, Type: float16\n",
    "#  f4  -> 32 bit floating point, Type: float32\n",
    "#  f8  -> 64 bit floating point, Type: float64\n",
    "\n",
    "# 3) bool\n",
    "#  ?  -> True OR False, Type: bool\n",
    "\n",
    "# 4) object\n",
    "#  O  -> python object, Type: object\n",
    "\n",
    "# 5) string\n",
    "#  S  -> Fixed-length ASCII char, S4 -> 4 ASCII characters, Type: string_\n",
    "\n",
    "# 6) unicode\n",
    "#  U  -> Fixed-length Unicode, Type: unicode_\n",
    "\n",
    "dt = np.dtype('i2')\n",
    "# dt\n",
    "\n",
    "dt.byteorder\n",
    "\n",
    "data = np.array([0,-1,2,3,4], dtype=dt)\n",
    "data\n"
   ]
  },
  {
   "cell_type": "markdown",
   "metadata": {},
   "source": [
    "##### **Create array using np data types (not type code here)**"
   ]
  },
  {
   "cell_type": "code",
   "execution_count": 17,
   "metadata": {},
   "outputs": [
    {
     "data": {
      "text/plain": [
       "array([b'0', b'-1', b'2', b'3', b'4', b'99999999'], dtype='|S8')"
      ]
     },
     "execution_count": 17,
     "metadata": {},
     "output_type": "execute_result"
    }
   ],
   "source": [
    "# data = np.arange(10, dtype=np.int8) # 8bit integer\n",
    "data = np.arange(10, dtype=np.int16) # 16bit integer\n",
    "# data = np.arange(10, dtype=np.float64) # 64bit floating point\n",
    "\n",
    "# data = np.array([0,-1,2,3,4], dtype=np.bool) # zero is False, non-zero is True\n",
    "data = np.array([0,-1,2,3,4, 99999999], dtype=np.string_) # fixed length string, b: byte\n",
    "                \n",
    "# data\n",
    "data\n",
    "\n",
    "# Byte order\n",
    "# https://numpy.org/doc/stable/reference/generated/numpy.dtype.byteorder.html\n",
    "# (>) big-endian (low to high)\n",
    "# (<) little-endian (high to low)\n",
    "# (|) not applicable\n",
    "\n",
    "# S is single byte - always |"
   ]
  },
  {
   "cell_type": "markdown",
   "metadata": {},
   "source": [
    "##### **Changing array dtype after creation**"
   ]
  },
  {
   "cell_type": "code",
   "execution_count": 18,
   "metadata": {},
   "outputs": [
    {
     "data": {
      "text/plain": [
       "array([b'0', b'-1', b'2', b'3', b'4', b'11112222'], dtype='|S10')"
      ]
     },
     "execution_count": 18,
     "metadata": {},
     "output_type": "execute_result"
    }
   ],
   "source": [
    "data = np.array([0,-1,2,3,4, 11112222], dtype=np.string_)\n",
    "\n",
    "# data.astype('?') # to boolean\n",
    "# data.astype('i4') # to int32\n",
    "data.astype('|S10')\n"
   ]
  },
  {
   "cell_type": "markdown",
   "metadata": {},
   "source": [
    "---"
   ]
  },
  {
   "cell_type": "markdown",
   "metadata": {},
   "source": [
    "## 2) **Universal functions: vectorized ops**"
   ]
  },
  {
   "cell_type": "markdown",
   "metadata": {},
   "source": [
    "### Vectorized Computations"
   ]
  },
  {
   "cell_type": "code",
   "execution_count": 19,
   "metadata": {},
   "outputs": [
    {
     "data": {
      "text/plain": [
       "array([ 1,  2,  3,  4,  5,  6,  7,  8,  9, 10], dtype=int16)"
      ]
     },
     "execution_count": 19,
     "metadata": {},
     "output_type": "execute_result"
    }
   ],
   "source": [
    "data = np.arange(1, 11, dtype=np.int16) # 16bit integer\n",
    "data"
   ]
  },
  {
   "cell_type": "code",
   "execution_count": 20,
   "metadata": {},
   "outputs": [
    {
     "data": {
      "text/plain": [
       "array([ 2,  4,  6,  8, 10, 12, 14, 16, 18, 20], dtype=int16)"
      ]
     },
     "execution_count": 20,
     "metadata": {},
     "output_type": "execute_result"
    }
   ],
   "source": [
    "data + data # same shape\n",
    "# np.add(data, data)"
   ]
  },
  {
   "cell_type": "code",
   "execution_count": 21,
   "metadata": {},
   "outputs": [
    {
     "data": {
      "text/plain": [
       "array([0, 1, 2, 3, 4, 5, 6, 7, 8, 9], dtype=int16)"
      ]
     },
     "execution_count": 21,
     "metadata": {},
     "output_type": "execute_result"
    }
   ],
   "source": [
    "data - 1\n",
    "# np.subtract(data, 1)"
   ]
  },
  {
   "cell_type": "code",
   "execution_count": 22,
   "metadata": {},
   "outputs": [
    {
     "data": {
      "text/plain": [
       "array([ 2,  4,  6,  8, 10, 12, 14, 16, 18, 20], dtype=int16)"
      ]
     },
     "execution_count": 22,
     "metadata": {},
     "output_type": "execute_result"
    }
   ],
   "source": [
    "data * 2\n",
    "np.multiply(data,2) # element-wise"
   ]
  },
  {
   "cell_type": "code",
   "execution_count": 23,
   "metadata": {},
   "outputs": [
    {
     "data": {
      "text/plain": [
       "array([  1,   4,   9,  16,  25,  36,  49,  64,  81, 100], dtype=int16)"
      ]
     },
     "execution_count": 23,
     "metadata": {},
     "output_type": "execute_result"
    }
   ],
   "source": [
    "data * data # same shape\n",
    "# np.multiply(data, data) # element-wise"
   ]
  },
  {
   "cell_type": "code",
   "execution_count": 24,
   "metadata": {},
   "outputs": [
    {
     "data": {
      "text/plain": [
       "array([1.        , 0.5       , 0.33333333, 0.25      , 0.2       ,\n",
       "       0.16666667, 0.14285714, 0.125     , 0.11111111, 0.1       ])"
      ]
     },
     "execution_count": 24,
     "metadata": {},
     "output_type": "execute_result"
    }
   ],
   "source": [
    "1/data\n",
    "# np.divide(1, data)"
   ]
  },
  {
   "cell_type": "code",
   "execution_count": 25,
   "metadata": {},
   "outputs": [
    {
     "data": {
      "text/plain": [
       "array([  1,   4,   9,  16,  25,  36,  49,  64,  81, 100], dtype=int16)"
      ]
     },
     "execution_count": 25,
     "metadata": {},
     "output_type": "execute_result"
    }
   ],
   "source": [
    "data**2\n",
    "np.square(data)"
   ]
  },
  {
   "cell_type": "markdown",
   "metadata": {},
   "source": [
    "### **Universal Functions (ufunc)**\n",
    "* perform **element-wise operations** on ndarray\n",
    "* vectorized computations listed above are all ufuncs\n",
    "* Some ufuncs:\n",
    "    1. np.add, np.substract, np.negative\n",
    "    1. np.multiply, np.divide\n",
    "    1. np.power\n",
    "    1. np.mod\n",
    "    1. np.maxiumn, np.minimum\n",
    "    1. np.square, np.sqrt\n",
    "    1. np.exp\n",
    "    1. np.log, np.log10, np.log2, np.log1p\n",
    "    1. np.isnan\n",
    "    1. np.sin, np.cos, np.tan\n",
    "    1. np.greater, np.greater_equal\n",
    "    1. np.less, np.less_equal\n",
    "    1. np.equal, np.not_equal"
   ]
  },
  {
   "cell_type": "code",
   "execution_count": 26,
   "metadata": {},
   "outputs": [
    {
     "data": {
      "text/plain": [
       "array([2, 2, 7, 4, 8])"
      ]
     },
     "execution_count": 26,
     "metadata": {},
     "output_type": "execute_result"
    }
   ],
   "source": [
    "np.random.seed(1)\n",
    "arr1 = np.array([-1,2,3,4,5])\n",
    "arr2 = np.array([2,0,7,-1,8])\n",
    "\n",
    "np.maximum(arr1, arr2)"
   ]
  },
  {
   "cell_type": "code",
   "execution_count": 27,
   "metadata": {},
   "outputs": [
    {
     "data": {
      "text/plain": [
       "array([1, 2, 3, 4, 5])"
      ]
     },
     "execution_count": 27,
     "metadata": {},
     "output_type": "execute_result"
    }
   ],
   "source": [
    "arr1 = np.array([-1,2,3,4,5])\n",
    "abs(arr1) # python abs func, np array can work with some native funcs\n",
    "np.abs(arr1) # np.abs \n",
    "\n",
    "# for performance reason, always use np version first"
   ]
  },
  {
   "cell_type": "code",
   "execution_count": 28,
   "metadata": {},
   "outputs": [
    {
     "data": {
      "text/plain": [
       "array([ 1,  4,  9, 16, 25], dtype=int32)"
      ]
     },
     "execution_count": 28,
     "metadata": {},
     "output_type": "execute_result"
    }
   ],
   "source": [
    "arr1 = np.array([1,2,3,4,5])\n",
    "np.square(arr1)\n",
    "# np.sqrt(arr1)"
   ]
  },
  {
   "cell_type": "code",
   "execution_count": 29,
   "metadata": {},
   "outputs": [
    {
     "data": {
      "text/plain": [
       "<matplotlib.lines.Line2D at 0x2698e6c4ca0>"
      ]
     },
     "execution_count": 29,
     "metadata": {},
     "output_type": "execute_result"
    },
    {
     "data": {
      "image/png": "[encoded data removed]",
      "text/plain": [
       "<Figure size 432x288 with 1 Axes>"
      ]
     },
     "metadata": {
      "needs_background": "light"
     },
     "output_type": "display_data"
    }
   ],
   "source": [
    "x = np.arange(10, step=0.1) \n",
    "s = np.sin(x)\n",
    "c = np.cos(x)\n",
    "\n",
    "# plot it\n",
    "import matplotlib.pyplot as plot\n",
    "plot.grid(True) \n",
    "plot.plot(x, s) # sin\n",
    "plot.plot(x, c) # cos\n",
    "plot.legend(['Sin(x)','Cos(x)'])\n",
    "\n",
    "plot.title('Sin & Cos Wave')\n",
    "plot.xlabel('X')\n",
    "plot.ylabel('Amplitude')\n",
    "\n",
    "plot.axhline(color='black')"
   ]
  },
  {
   "cell_type": "code",
   "execution_count": 30,
   "metadata": {},
   "outputs": [],
   "source": [
    "arr1 = np.array([1,2,3,4,5]) \n",
    "# arr1 > 3 # it's ufunc too\n",
    "# np.greater(arr1,3)"
   ]
  },
  {
   "cell_type": "markdown",
   "metadata": {},
   "source": [
    "---"
   ]
  },
  {
   "cell_type": "markdown",
   "metadata": {},
   "source": [
    "### Aggregate functions"
   ]
  },
  {
   "cell_type": "code",
   "execution_count": 31,
   "metadata": {},
   "outputs": [
    {
     "data": {
      "text/plain": [
       "5.0"
      ]
     },
     "execution_count": 31,
     "metadata": {},
     "output_type": "execute_result"
    }
   ],
   "source": [
    "data = np.arange(1,10) \n",
    "\n",
    "# numerical array only, not work for string!\n",
    "data.mean()\n",
    "# np.mean(data)\n",
    "# data.sum()\n",
    "# data.max()\n",
    "# data.min()\n",
    "# data.argmin() # index val for min item\n",
    "# data.argmax() # index val for max item\n",
    "\n",
    "# reduction - aggregate all values in a single array\n",
    "# np.add.reduce(data) \n",
    "# np.sum(data)\n",
    "\n",
    "# accumulate - aggregate all values in a single array, and keep the intermediate results\n",
    "# np.add.accumulate(data)\n",
    "# np.cumsum(data)"
   ]
  },
  {
   "cell_type": "markdown",
   "metadata": {},
   "source": [
    "### Cumulative functions"
   ]
  },
  {
   "cell_type": "code",
   "execution_count": 32,
   "metadata": {},
   "outputs": [
    {
     "data": {
      "text/plain": [
       "array([ 1,  3,  6, 10, 15, 21, 28, 36, 45], dtype=int32)"
      ]
     },
     "execution_count": 32,
     "metadata": {},
     "output_type": "execute_result"
    }
   ],
   "source": [
    "data = np.arange(1,10) \n",
    "\n",
    "# cumulative results\n",
    "data.cumsum()\n",
    "# data.cumprod()\n",
    "\n",
    "# data = np.array([[0, 1, 2], [3, 4, 5], [6, 7, 8]])\n",
    "# data.cumsum(axis=1) # left-right\n",
    "# data.cumsum(axis=0) # top-down"
   ]
  },
  {
   "cell_type": "markdown",
   "metadata": {},
   "source": [
    "---\n",
    "## 3) **Basic manipulations**"
   ]
  },
  {
   "cell_type": "markdown",
   "metadata": {},
   "source": [
    "### Index & Slice"
   ]
  },
  {
   "cell_type": "code",
   "execution_count": 33,
   "metadata": {},
   "outputs": [],
   "source": [
    "# 1d examples\n",
    "arr = np.arange(10)\n",
    "\n",
    "# indexing[pos]\n",
    "arr[0] = 999  # arr[pos] to index a item and then update it\n",
    "# arr[0] # use arr[pos] to get a value\n",
    "# arr[0] = 'abc' # wrong, can't assign a different type\n",
    "\n",
    "# slicing\n",
    "# arr[:]  # all\n",
    "# arr[1:3] # pos 1,2, stop at pos 3\n",
    "# arr[::-1] # reverse order\n",
    "# arr[::2] # step size 2\n",
    "\n",
    "# WARNING\n",
    "# view = arr[1:4]\n",
    "# view[:] = [777,888,999] # Update on this view also update the original array\n",
    "\n",
    "# copy = arr[1:4].copy() # if you don't want to update thr original array\n",
    "# copy[:] = [777,888,999]"
   ]
  },
  {
   "cell_type": "code",
   "execution_count": 34,
   "metadata": {},
   "outputs": [],
   "source": [
    "# 2d examples\n",
    "arr2d = np.arange(16).reshape(4,4)\n",
    "# array([[ 0,  1,  2,  3],\n",
    "#        [ 4,  5,  6,  7],\n",
    "#        [ 8,  9, 10, 11],\n",
    "#        [12, 13, 14, 15]])\n",
    "\n",
    "# indexing [row][col] OR [row, col]\n",
    "# arr2d[0][0] # 0\n",
    "# arr2d[1][2] # 6\n",
    "# arr2d[1, 2] # 6 \n",
    "\n",
    "# slicing[row, col]\n",
    "# arr2d[1] # row 1\n",
    "# arr2d[1:3] # row 1, 2\n",
    "# arr2d[1:3, 1:3] # center parts\n",
    "\n",
    "# update examples\n",
    "# arr2d[1:3, 1:3] = np.full([2,2], -1)\n",
    "# arr2d"
   ]
  },
  {
   "cell_type": "code",
   "execution_count": 35,
   "metadata": {},
   "outputs": [
    {
     "data": {
      "text/plain": [
       "array([[0, 1, 2, 3, 4, 5, 6, 7, 8, 9]])"
      ]
     },
     "execution_count": 35,
     "metadata": {},
     "output_type": "execute_result"
    }
   ],
   "source": [
    "# increase dimension\n",
    "arr = np.arange(10) # 1d\n",
    "\n",
    "arr[np.newaxis, :] # to 2d (aad new row)\n",
    "# arr[:, np.newaxis] # to 2d (add new col)"
   ]
  },
  {
   "cell_type": "markdown",
   "metadata": {},
   "source": [
    "### Boolean Mask"
   ]
  },
  {
   "cell_type": "code",
   "execution_count": 36,
   "metadata": {},
   "outputs": [],
   "source": [
    "animals = np.array(['cat', 'dog', 'fish', 'duck', 'cat'])\n",
    "np.unique(animals)\n",
    "\n",
    "animals == 'cat' # return a boolean mask\n",
    "animals[ animals == 'cat' ] # select records \n",
    "\n",
    "np.random.seed(1)\n",
    "data = np.random.randint(1,100, [5,5]) # assume this data is associcated with animals\n",
    "# data\n",
    "# data[animals == 'cat'] # cat records\n",
    "# data[~(animals == 'cat')] # non-cat records\n",
    "# data[animals != 'cat'] # non-cat records\n",
    "# data[(animals == 'cat') | (animals == 'dog')] # cat OR dogs \n",
    "# data[(animals == 'cat') & (animals == 'dog')] # cat AND dogs (nothing)\n",
    "\n",
    "# data[data>30] # select all items > 30\n",
    "# data[data>30] = -1 # assign values \n",
    "\n",
    "# any / all function\n",
    "# (data>30).any() # any T?\n",
    "# (data>30).all() # all T?\n",
    "# (data>30).sum() # count of item > 30"
   ]
  },
  {
   "cell_type": "markdown",
   "metadata": {},
   "source": [
    "### Sorting"
   ]
  },
  {
   "cell_type": "code",
   "execution_count": 37,
   "metadata": {},
   "outputs": [
    {
     "data": {
      "text/plain": [
       "array([-1,  0,  2,  4,  6,  8, 54])"
      ]
     },
     "execution_count": 37,
     "metadata": {},
     "output_type": "execute_result"
    }
   ],
   "source": [
    "arr = np.array([4,54,2,6,8,-1,0]) \n",
    "arr.sort()\n",
    "arr\n",
    "# np.sort(arr) # sorted now\n",
    "# np.sort(arr)[::-1] # reverse order\n",
    "\n",
    "# np.random.seed(1)\n",
    "# arr2d = np.random.randn(3, 3)\n",
    "# arr2d\n",
    "# arr2d.sort(axis=0) # sort by each columns\n",
    "# arr2d.sort(axis=1) # sort by each row\n",
    "# arr2d\n"
   ]
  },
  {
   "cell_type": "markdown",
   "metadata": {},
   "source": [
    "### Fancy Index"
   ]
  },
  {
   "cell_type": "code",
   "execution_count": 38,
   "metadata": {},
   "outputs": [],
   "source": [
    "animals = np.array(['cat', 'dog', 'fish', 'duck']) \n",
    "\n",
    "# animals[[0,1]] # cat, dog\n",
    "# animals[[-1,1]] # duck, dog\n",
    "# animals[[1,1,1]] # dog, dog, dog\n"
   ]
  },
  {
   "cell_type": "markdown",
   "metadata": {},
   "source": [
    "### Transpose"
   ]
  },
  {
   "cell_type": "code",
   "execution_count": 39,
   "metadata": {},
   "outputs": [
    {
     "data": {
      "text/plain": [
       "array([[ 0,  4,  8, 12],\n",
       "       [ 1,  5,  9, 13],\n",
       "       [ 2,  6, 10, 14],\n",
       "       [ 3,  7, 11, 15]])"
      ]
     },
     "execution_count": 39,
     "metadata": {},
     "output_type": "execute_result"
    }
   ],
   "source": [
    "arr2d = np.arange(16).reshape(4,4)\n",
    "arr2d\n",
    "arr2d.T # transpose\n",
    "\n",
    "arr2d.swapaxes(0,1)"
   ]
  },
  {
   "cell_type": "markdown",
   "metadata": {},
   "source": [
    "### Concatenate & Split"
   ]
  },
  {
   "cell_type": "code",
   "execution_count": 40,
   "metadata": {},
   "outputs": [],
   "source": [
    "arr1 = np.arange(16).reshape(2,8)\n",
    "arr2 = arr1 + 10\n",
    "\n",
    "# np.concatenate([arr1, arr2], axis=0) # vertically\n",
    "# np.vstack([arr1, arr2]) # 2 dim\n",
    "# np.row_stack([arr1, arr2])\n",
    "\n",
    "# np.concatenate([arr1, arr2], axis=1) # horizontally\n",
    "# np.hstack([arr1, arr2])\n",
    "# np.column_stack([arr1, arr2])\n",
    "\n",
    "# arr1\n",
    "# array([[ 0,  1,  2,  3,  4,  5,  6,  7],\n",
    "#        [ 8,  9, 10, 11, 12, 13, 14, 15]])\n",
    "# arrayList = np.split(arr1, [1,3,5], axis=1) # it is a list of ndarray\n",
    "# type(arrayList[0])"
   ]
  },
  {
   "cell_type": "markdown",
   "metadata": {},
   "source": [
    "##### Stack helpers: **np.r_** & **np.c_**"
   ]
  },
  {
   "cell_type": "code",
   "execution_count": 41,
   "metadata": {},
   "outputs": [
    {
     "data": {
      "text/plain": [
       "array([[ 0,  1,  2,  3,  4,  5,  6,  7, 10, 11, 12, 13, 14, 15, 16, 17],\n",
       "       [ 8,  9, 10, 11, 12, 13, 14, 15, 18, 19, 20, 21, 22, 23, 24, 25]])"
      ]
     },
     "execution_count": 41,
     "metadata": {},
     "output_type": "execute_result"
    }
   ],
   "source": [
    "arr1 = np.arange(16).reshape(2,8)\n",
    "arr2 = arr1 + 10\n",
    "\n",
    "# np.r_[arr1, arr2] # row stack\n",
    "np.c_[arr1, arr2] # col stack\n",
    "# np.c_[ np.r_[arr1, arr2], np.r_[arr1, arr2] ] # nested example\n",
    "\n",
    "# can also accept slice OR list to create arrays\n",
    "# np.c_[:10] # vertically \n",
    "# np.c_[10:0:-1] # vertically, reverse order\n",
    "# np.r_[:10] # horizontally\n",
    "\n",
    "# slice with different columns\n",
    "# np.c_[1:5, 6:10, 11:15]"
   ]
  },
  {
   "cell_type": "markdown",
   "metadata": {},
   "source": [
    "### File I/O"
   ]
  },
  {
   "cell_type": "code",
   "execution_count": 42,
   "metadata": {},
   "outputs": [],
   "source": [
    "# BINARY FILES\n",
    "arr = np.arange(20)\n",
    "filename = 'my_arr'\n",
    "\n",
    "# save ndarray to a file\n",
    "# np.save(filename, arr)\n",
    "\n",
    "# load ndarray from a file\n",
    "# np.load(f'{filename}.npy')\n",
    "\n",
    "# compress and save multiple arrays to a file\n",
    "# np.savez_compressed(filename, arr1=arr, arr2=np.arange(10)) # data is the key, it could be any keys\n",
    "# tmp = np.load(f'{filename}.npz')\n",
    "# tmp['arr1']\n",
    "# tmp['arr2']"
   ]
  },
  {
   "cell_type": "code",
   "execution_count": 43,
   "metadata": {},
   "outputs": [],
   "source": [
    "# load array from plain text file (npy and npz files are binary)\n",
    "data = np.loadtxt('load.txt', dtype=np.int32) # load from text file\n",
    "data\n",
    "\n",
    "# save to text file\n",
    "np.savetxt('save.txt', data) # save to a plain text file"
   ]
  },
  {
   "cell_type": "markdown",
   "metadata": {},
   "source": [
    "##### Read CSV"
   ]
  },
  {
   "cell_type": "code",
   "execution_count": 44,
   "metadata": {},
   "outputs": [
    {
     "data": {
      "text/plain": [
       "array([[16.99,  1.01,   nan, ...,   nan,   nan,  2.  ],\n",
       "       [10.34,  1.66,   nan, ...,   nan,   nan,  3.  ],\n",
       "       [21.01,  3.5 ,   nan, ...,   nan,   nan,  3.  ],\n",
       "       ...,\n",
       "       [22.67,  2.  ,   nan, ...,   nan,   nan,  2.  ],\n",
       "       [17.82,  1.75,   nan, ...,   nan,   nan,  2.  ],\n",
       "       [18.78,  3.  ,   nan, ...,   nan,   nan,  2.  ]])"
      ]
     },
     "execution_count": 44,
     "metadata": {},
     "output_type": "execute_result"
    }
   ],
   "source": [
    "data = np.genfromtxt(\"tips.csv\", delimiter=',', skip_header=1, encoding='UTF-8')\n",
    "data\n",
    "\n",
    "# or you can use pandas's  pd.read_csv(filename) to read it\n",
    "# please refer to pandas lessons"
   ]
  },
  {
   "cell_type": "markdown",
   "metadata": {},
   "source": [
    "### Linear Algebra"
   ]
  },
  {
   "cell_type": "markdown",
   "metadata": {},
   "source": [
    "1. np.dot\n",
    "1. np.diag\n",
    "1. np.linalg.det\n",
    "1. np.linalg.eig\n",
    "1. np.linalg.inv\n",
    "1. np.linalg.solve, etc."
   ]
  },
  {
   "cell_type": "markdown",
   "metadata": {},
   "source": [
    "##### dot product\n",
    "* https://www.mathsisfun.com/algebra/matrix-multiplying.html"
   ]
  },
  {
   "cell_type": "code",
   "execution_count": 45,
   "metadata": {},
   "outputs": [
    {
     "data": {
      "text/plain": [
       "array([[ 58,  64],\n",
       "       [139, 154]])"
      ]
     },
     "execution_count": 45,
     "metadata": {},
     "output_type": "execute_result"
    }
   ],
   "source": [
    "a = np.array([[1,2,3], [4,5,6]])\n",
    "b = np.array([[7,8],[9,10],[11,12]])\n",
    "\n",
    "np.dot(a, b)\n",
    "# a.dot(b)"
   ]
  },
  {
   "cell_type": "markdown",
   "metadata": {},
   "source": [
    "##### determinant\n",
    "* https://www.mathsisfun.com/algebra/matrix-determinant.html"
   ]
  },
  {
   "cell_type": "code",
   "execution_count": 46,
   "metadata": {},
   "outputs": [
    {
     "data": {
      "text/plain": [
       "-306.0"
      ]
     },
     "execution_count": 46,
     "metadata": {},
     "output_type": "execute_result"
    }
   ],
   "source": [
    "X = np.array([[6,1,1],[4,-2,5], [2,8,7]])\n",
    "np.linalg.det(X)"
   ]
  },
  {
   "cell_type": "markdown",
   "metadata": {},
   "source": [
    "##### inverse\n",
    "* https://www.mathsisfun.com/algebra/matrix-inverse.html"
   ]
  },
  {
   "cell_type": "code",
   "execution_count": 47,
   "metadata": {},
   "outputs": [
    {
     "data": {
      "text/plain": [
       "array([[-0.41754508,  4.53348342, -1.05494467],\n",
       "       [ 1.63018954, -2.6246232 ,  0.61035135],\n",
       "       [-1.2237834 ,  0.157672  ,  2.48402609]])"
      ]
     },
     "execution_count": 47,
     "metadata": {},
     "output_type": "execute_result"
    }
   ],
   "source": [
    "np.random.seed(1)\n",
    "X = np.random.rand(3,3)\n",
    "np.linalg.inv(X)"
   ]
  },
  {
   "cell_type": "markdown",
   "metadata": {},
   "source": [
    "##### diagonal"
   ]
  },
  {
   "cell_type": "code",
   "execution_count": 48,
   "metadata": {},
   "outputs": [
    {
     "data": {
      "text/plain": [
       "array([0, 4, 8])"
      ]
     },
     "execution_count": 48,
     "metadata": {},
     "output_type": "execute_result"
    }
   ],
   "source": [
    "a = np.arange(9).reshape((3,3))\n",
    "np.diag(a)"
   ]
  },
  {
   "cell_type": "markdown",
   "metadata": {},
   "source": [
    "##### solve linear matrix equations\n",
    "\n",
    "> x + y + z = 6 <br>\n",
    "> 2y + 5z = −4 <br>\n",
    "> 2x + 5y − z = 27<br>\n",
    "    \n",
    "* https://www.mathsisfun.com/algebra/systems-linear-equations-matrices.html"
   ]
  },
  {
   "cell_type": "code",
   "execution_count": 49,
   "metadata": {},
   "outputs": [
    {
     "data": {
      "text/plain": [
       "array([ 5.,  3., -2.])"
      ]
     },
     "execution_count": 49,
     "metadata": {},
     "output_type": "execute_result"
    }
   ],
   "source": [
    "A = [[1,1,1], [0,2,5], [2,5,-1]]  \n",
    "B = [6, -4, 27]\n",
    "\n",
    "np.linalg.solve(A, B)\n",
    "# np.linalg.inv(A).dot(B)"
   ]
  },
  {
   "cell_type": "markdown",
   "metadata": {},
   "source": [
    "---"
   ]
  },
  {
   "cell_type": "markdown",
   "metadata": {},
   "source": [
    "## 4) **Broadcast: vectorized ops on arrays with different shapes**"
   ]
  },
  {
   "cell_type": "markdown",
   "metadata": {},
   "source": [
    "### **Broadcast**\n",
    "* Doing arithmetics with arrays in **different shapes**\n",
    "\n",
    "* Examples and diagrams are extracted from NumPy official websites:\n",
    "    * https://numpy.org/doc/stable/user/basics.broadcasting.html\n",
    "    * https://numpy.org/devdocs/user/theory.broadcasting.html "
   ]
  },
  {
   "cell_type": "markdown",
   "metadata": {},
   "source": [
    "##### Arrays with **same shape** -> **element-wise** computations"
   ]
  },
  {
   "cell_type": "code",
   "execution_count": 50,
   "metadata": {},
   "outputs": [
    {
     "data": {
      "text/plain": [
       "array([2., 4., 6.])"
      ]
     },
     "execution_count": 50,
     "metadata": {},
     "output_type": "execute_result"
    }
   ],
   "source": [
    "a = np.array([1.0, 2.0, 3.0])\n",
    "b = np.array([2.0, 2.0, 2.0]) # all 2 here\n",
    "\n",
    "a * b # element-wise multiplication -> the shape of a & b are the same"
   ]
  },
  {
   "cell_type": "markdown",
   "metadata": {},
   "source": [
    "##### Arrays **NOT** in **same shape**\n",
    "**CASE 1.** One of them is a **scalar** (number)\n",
    "\n",
    "1. The **smaller array** must **stretch** to match the shape of the **larger array**\n",
    "1. After matching the shape -> **element-wise** computations"
   ]
  },
  {
   "cell_type": "code",
   "execution_count": 51,
   "metadata": {},
   "outputs": [
    {
     "data": {
      "text/plain": [
       "array([2., 4., 6.])"
      ]
     },
     "execution_count": 51,
     "metadata": {},
     "output_type": "execute_result"
    }
   ],
   "source": [
    "a = np.array([1.0, 2.0, 3.0])\n",
    "b = 2 # b is a scalar now\n",
    "\n",
    "a * b # since shape not match -> broadcasting (b stretch to match A - conceptually) -"
   ]
  },
  {
   "cell_type": "markdown",
   "metadata": {},
   "source": [
    "![ndarray with a scalar](https://numpy.org/devdocs/_images/theory.broadcast_1.gif)\n",
    "\n",
    "Source: https://numpy.org/devdocs/user/theory.broadcasting.html"
   ]
  },
  {
   "cell_type": "markdown",
   "metadata": {},
   "source": [
    "**CASE 2**. Both of them are arrays but **shape** are different"
   ]
  },
  {
   "cell_type": "markdown",
   "metadata": {},
   "source": [
    "> **RULE**: In order to broadcast, the size of the **trailing axes** for both arrays in an operation **must either be the same size** or **one of them must be one**."
   ]
  },
  {
   "cell_type": "code",
   "execution_count": 52,
   "metadata": {},
   "outputs": [
    {
     "data": {
      "text/plain": [
       "array([[ 0.,  1.,  2.],\n",
       "       [10., 11., 12.],\n",
       "       [20., 21., 22.],\n",
       "       [30., 31., 32.]])"
      ]
     },
     "execution_count": 52,
     "metadata": {},
     "output_type": "execute_result"
    }
   ],
   "source": [
    "a = np.array([[ 0.0,  0.0,  0.0],\n",
    "            [10.0, 10.0, 10.0],\n",
    "            [20.0, 20.0, 20.0],\n",
    "            [30.0, 30.0, 30.0]])\n",
    "b = np.array([0, 1.0, 2.0])\n",
    "# b = np.array([[0, 1.0, 2.0],\n",
    "#               [0, 1.0, 2.0],\n",
    "#               [0, 1.0, 2.0],\n",
    "#               [0, 1.0, 2.0]])\n",
    "a + b\n",
    "# a.shape # (4, 3)\n",
    "# b.shape # (3,)\n",
    "\n",
    "#######################\n",
    "# Broadcast rule check\n",
    "#######################\n",
    "# (4, 3) \n",
    "# (3,)\n",
    "\n",
    "# step 1: smaller array -> append 1 on LHS (increase the dimension)\n",
    "# (4, 3) => (4, 3) # no change\n",
    "# (3,)   => (1, 3) # append 1 to the left \n",
    "\n",
    "# Conclusion => Compatible\n",
    "\n",
    "# step 2: stretch on ALL 1s to match the larger array\n",
    "# (4, 3) => (4, 3) # no change\n",
    "# (3,)   => (1->4, 3) # 1 stretch to 4\n",
    "\n",
    "# step 3: if there is a match in shape, do element-wise computations with the new arrays\n",
    "# (4, 3) \n",
    "# (4, 3)"
   ]
  },
  {
   "cell_type": "markdown",
   "metadata": {},
   "source": [
    "![Broadcast](https://numpy.org/devdocs/_images/theory.broadcast_2.gif)\n",
    "\n",
    "Source: https://numpy.org/devdocs/user/theory.broadcasting.html"
   ]
  },
  {
   "cell_type": "markdown",
   "metadata": {},
   "source": [
    "<font color=red>**Incompatible**.</font> Cannot do broadcasting"
   ]
  },
  {
   "cell_type": "code",
   "execution_count": 53,
   "metadata": {},
   "outputs": [],
   "source": [
    "a = np.array([[ 0.0,  0.0,  0.0],\n",
    "            [10.0, 10.0, 10.0],\n",
    "            [20.0, 20.0, 20.0],\n",
    "            [30.0, 30.0, 30.0]])\n",
    "b = np.array([1.0, 2.0, 3.0, 4.0])\n",
    "\n",
    "#######################\n",
    "# Broadcast rule check\n",
    "#######################\n",
    "# (4, 3) => \n",
    "# (4,)   => trailing axes is not the same size AND not 1\n",
    "# even though I increase the dimension and add 1 to LHS, 4 did not match with 3 (trailing axes not equal AND not one)\n",
    "# Conclusion => incompatible \n",
    "\n",
    "# a + b # value Error => incompatible shape for broadcasting"
   ]
  },
  {
   "cell_type": "markdown",
   "metadata": {},
   "source": [
    "![Broadcast](https://numpy.org/devdocs/_images/theory.broadcast_3.gif)\n",
    "\n",
    "Source: https://numpy.org/devdocs/user/theory.broadcasting.html"
   ]
  },
  {
   "cell_type": "code",
   "execution_count": 54,
   "metadata": {},
   "outputs": [
    {
     "data": {
      "text/plain": [
       "array([[ 0.,  1.,  2.],\n",
       "       [10., 11., 12.],\n",
       "       [20., 21., 22.],\n",
       "       [30., 31., 32.]])"
      ]
     },
     "execution_count": 54,
     "metadata": {},
     "output_type": "execute_result"
    }
   ],
   "source": [
    "a = np.array([0.0, 10.0, 20.0, 30.0])\n",
    "b = np.array([0.0, 1.0, 2.0])\n",
    "\n",
    "a.shape # (4,)\n",
    "b.shape # (3,)\n",
    "\n",
    "a[:,np.newaxis] # shape => (4, 1)\n",
    "# array([[ 0.],\n",
    "#        [10.],\n",
    "#        [20.],\n",
    "#        [30.]])\n",
    "a[:,np.newaxis] + b\n",
    "\n",
    "#######################\n",
    "# Broadcast rule check\n",
    "#######################\n",
    "# (4, 1) => trailing axes is 1\n",
    "# (4, 1) => (4, 1->3) # stretch 1 to 3 to match the other array\n",
    "# (3,)   => # this 3 is matching with the previous array's 3 after stretching\n",
    "# Conclusion => Compatible\n",
    "\n",
    "# (4, 1->3) => (4, 3)\n",
    "# (3,)      => (1, 3) # append 1 on the LHS to increase dimension\n",
    "# (3,)      => (1->4, 3) # stretch 1 to 4 to match the other array\n"
   ]
  },
  {
   "cell_type": "markdown",
   "metadata": {},
   "source": [
    "![Broadcast](https://numpy.org/devdocs/_images/theory.broadcast_4.gif)\n",
    "\n",
    "Source: https://numpy.org/devdocs/user/theory.broadcasting.html"
   ]
  },
  {
   "cell_type": "markdown",
   "metadata": {},
   "source": [
    "In practice,\n",
    "* one of the array could be very large\n",
    "* since this process is conceptual only, it does not require so many memory"
   ]
  },
  {
   "cell_type": "code",
   "execution_count": 55,
   "metadata": {},
   "outputs": [
    {
     "data": {
      "text/plain": [
       "array([[-0.07437682,  0.2164395 , -0.49488343, -0.20531374, -0.35683466],\n",
       "       [-0.39906023, -0.31762478, -0.14943708, -0.11087884,  0.03522618],\n",
       "       [-0.07220431,  0.1813345 , -0.29054556,  0.37047112, -0.47620296],\n",
       "       ...,\n",
       "       [ 0.36882738,  0.26911475,  0.28096933,  0.02105238, -0.05340519],\n",
       "       [-0.26476733,  0.30479318,  0.47093129,  0.03588566,  0.3986169 ],\n",
       "       [-0.20904838,  0.01387026, -0.16683522,  0.48415484, -0.2532739 ]])"
      ]
     },
     "execution_count": 55,
     "metadata": {},
     "output_type": "execute_result"
    }
   ],
   "source": [
    "np.random.seed(1)\n",
    "array = np.random.random([1000,5])\n",
    "mean = array.mean(axis=0) # mean for each col\n",
    "\n",
    "array - mean # 2 shapes are different, it is a broadcast\n",
    "\n",
    "#######################\n",
    "# Broadcast rule check\n",
    "#######################\n",
    "# (1000, 5)\n",
    "# (5) \n",
    "\n",
    "# step 1: smaller array -> append 1 on LHS (increase the dimension)\n",
    "# (1000, 5) => (1000, 5) # no change\n",
    "# (5,)   => (1, 5) # append 1 to the left \n",
    "\n",
    "# Conclusion => Compatible\n",
    "# (5,)   => (1->1000, 5) # append 1 to the left\n",
    "\n",
    "# it is conceptual, you don't need (1000, 5) mean array to perform this operation!"
   ]
  }
 ],
 "metadata": {
  "kernelspec": {
   "display_name": "Python 3",
   "language": "python",
   "name": "python3"
  },
  "language_info": {
   "codemirror_mode": {
    "name": "ipython",
    "version": 3
   },
   "file_extension": ".py",
   "mimetype": "text/x-python",
   "name": "python",
   "nbconvert_exporter": "python",
   "pygments_lexer": "ipython3",
   "version": "3.8.5"
  }
 },
 "nbformat": 4,
 "nbformat_minor": 4
}
