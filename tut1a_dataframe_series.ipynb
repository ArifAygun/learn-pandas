{
 "cells": [
  {
   "cell_type": "markdown",
   "metadata": {},
   "source": [
    "# Pandas\n",
    "\n",
    "* Manipulate & analyse ***tubular*** data\n",
    "* Data stuctures: ***DataFrame*** & ***Series***\n",
    "\n",
    "---"
   ]
  },
  {
   "cell_type": "markdown",
   "metadata": {},
   "source": [
    "##### Import Packages\n"
   ]
  },
  {
   "cell_type": "code",
   "execution_count": 1,
   "metadata": {},
   "outputs": [
    {
     "data": {
      "text/plain": [
       "'1.1.0'"
      ]
     },
     "execution_count": 1,
     "metadata": {},
     "output_type": "execute_result"
    }
   ],
   "source": [
    "import pandas as pd\n",
    "import numpy as np\n",
    "\n",
    "#!pip install pandas\n",
    "pd.__version__"
   ]
  },
  {
   "cell_type": "markdown",
   "metadata": {},
   "source": [
    "# 1. Series\n",
    "* 1D-list structure\n",
    "* with ***index*** but no column\n",
    "* a column in a DataFrame"
   ]
  },
  {
   "cell_type": "code",
   "execution_count": 2,
   "metadata": {},
   "outputs": [
    {
     "data": {
      "text/plain": [
       "a       red\n",
       "b      blue\n",
       "c     green\n",
       "d    yellow\n",
       "dtype: object"
      ]
     },
     "execution_count": 2,
     "metadata": {},
     "output_type": "execute_result"
    }
   ],
   "source": [
    "# Create a Series using a list\n",
    "# ser = pd.Series(['red', 'blue', 'green', 'yellow'])\n",
    "ser = pd.Series(['red', 'blue', 'green', 'yellow'], index=['a', 'b', 'c', 'd'])\n",
    "\n",
    "# type(ser)\n",
    "ser"
   ]
  },
  {
   "cell_type": "code",
   "execution_count": 3,
   "metadata": {},
   "outputs": [],
   "source": [
    "# ser.ndim\n",
    "# ser.shape\n",
    "# ser.size # row \n",
    "\n",
    "# ser.index\n",
    "# ser.describe()\n",
    "# ser.value_counts() # value_counts\n",
    "\n",
    "# ser[3] # position\n",
    "# ser[1:] # slice"
   ]
  },
  {
   "cell_type": "markdown",
   "metadata": {},
   "source": [
    "# 2. DataFrame \n",
    "\n",
    "* 2D-table structure\n",
    "* most frequently used stucture in pandas\n",
    "* with ***columns*** & ***index***\n",
    "* index could be number or string"
   ]
  },
  {
   "cell_type": "code",
   "execution_count": 4,
   "metadata": {},
   "outputs": [
    {
     "data": {
      "text/html": [
       "<div>\n",
       "<style scoped>\n",
       "    .dataframe tbody tr th:only-of-type {\n",
       "        vertical-align: middle;\n",
       "    }\n",
       "\n",
       "    .dataframe tbody tr th {\n",
       "        vertical-align: top;\n",
       "    }\n",
       "\n",
       "    .dataframe thead th {\n",
       "        text-align: right;\n",
       "    }\n",
       "</style>\n",
       "<table border=\"1\" class=\"dataframe\">\n",
       "  <thead>\n",
       "    <tr style=\"text-align: right;\">\n",
       "      <th></th>\n",
       "      <th>name</th>\n",
       "      <th>phone</th>\n",
       "      <th>gender</th>\n",
       "      <th>age</th>\n",
       "      <th>colA</th>\n",
       "    </tr>\n",
       "  </thead>\n",
       "  <tbody>\n",
       "    <tr>\n",
       "      <th>a</th>\n",
       "      <td>Paul</td>\n",
       "      <td>92435678</td>\n",
       "      <td>male</td>\n",
       "      <td>18.0</td>\n",
       "      <td>red</td>\n",
       "    </tr>\n",
       "    <tr>\n",
       "      <th>b</th>\n",
       "      <td>John</td>\n",
       "      <td>90909090</td>\n",
       "      <td>male</td>\n",
       "      <td>22.0</td>\n",
       "      <td>blue</td>\n",
       "    </tr>\n",
       "    <tr>\n",
       "      <th>c</th>\n",
       "      <td>Mary</td>\n",
       "      <td>09090909</td>\n",
       "      <td>female</td>\n",
       "      <td>23.0</td>\n",
       "      <td>green</td>\n",
       "    </tr>\n",
       "    <tr>\n",
       "      <th>d</th>\n",
       "      <td>Jane</td>\n",
       "      <td>12435678</td>\n",
       "      <td>female</td>\n",
       "      <td>NaN</td>\n",
       "      <td>yellow</td>\n",
       "    </tr>\n",
       "  </tbody>\n",
       "</table>\n",
       "</div>"
      ],
      "text/plain": [
       "   name     phone  gender   age    colA\n",
       "a  Paul  92435678    male  18.0     red\n",
       "b  John  90909090    male  22.0    blue\n",
       "c  Mary  09090909  female  23.0   green\n",
       "d  Jane  12435678  female   NaN  yellow"
      ]
     },
     "execution_count": 4,
     "metadata": {},
     "output_type": "execute_result"
    }
   ],
   "source": [
    "# creating dataframe (using dictionary)\n",
    "\n",
    "df = pd.DataFrame({'name': ['Paul', 'John', 'Mary', 'Jane'],\n",
    "                   'phone': ['92435678', '90909090', '09090909', '12435678'],\n",
    "                   'gender': ['male', 'male', 'female', 'female'],\n",
    "                   'age': [18, 22, 23, np.nan], \n",
    "                   'colA': ser},\n",
    "                  index=['a', 'b', 'c', 'd'])\n",
    "df"
   ]
  },
  {
   "cell_type": "code",
   "execution_count": 5,
   "metadata": {},
   "outputs": [
    {
     "data": {
      "text/plain": [
       "4"
      ]
     },
     "execution_count": 5,
     "metadata": {},
     "output_type": "execute_result"
    }
   ],
   "source": [
    "# type(df)\n",
    "# df.ndim\n",
    "# df.shape\n",
    "# df.size # row x col\n",
    "\n",
    "# df.columns\n",
    "# df.index\n",
    "# df.set_index('name') # changing index to other column\n",
    "\n",
    "# df.info()\n",
    "# df.describe()\n",
    "# df.count()\n",
    "\n",
    "df.shape[0]"
   ]
  },
  {
   "cell_type": "markdown",
   "metadata": {},
   "source": [
    "## <font color=red>Column</font>"
   ]
  },
  {
   "cell_type": "code",
   "execution_count": 6,
   "metadata": {},
   "outputs": [],
   "source": [
    "# df.name # dot notation\n",
    "# df['name'] # index\n",
    "# df[['name','age']]  # select multiple column (DF), fancy index\n",
    "\n",
    "# filter()\n",
    "# df.filter(['name']) # filter by columns (dataframe)\n",
    "# df.filter(['name','age'], axis='columns') # filter by columns (dataframe)\n",
    "\n",
    "# df['color'] = ser # add a column\n",
    "# df.assign(color2=ser) # add a column using assign function\n",
    "\n",
    "# df['color'][1] # series[pos]\n",
    "# df.age.mean()\n",
    "# df.age.median()\n",
    "# df.age.max() # get max item\n",
    "# df.age.idxmax() # get index value of max item\n",
    "# df.age = df.age + 1\n",
    "# df\n",
    "\n",
    "# df.gender.value_counts()\n",
    "# -(df.age)\n",
    "\n",
    "# df.name.str.upper()"
   ]
  },
  {
   "cell_type": "markdown",
   "metadata": {},
   "source": [
    "#### Use of Map function to update Column data"
   ]
  },
  {
   "cell_type": "code",
   "execution_count": 7,
   "metadata": {},
   "outputs": [],
   "source": [
    "# df.name.map(lambda x: 'person-' + x)\n",
    "\n",
    "# def changeName(name):\n",
    "#     name = 'person-' + name + '-001'\n",
    "#     return name\n",
    "\n",
    "# df.name = df.name.map(changeName)"
   ]
  },
  {
   "cell_type": "markdown",
   "metadata": {},
   "source": [
    "###### Drop a row / column"
   ]
  },
  {
   "cell_type": "code",
   "execution_count": 8,
   "metadata": {},
   "outputs": [],
   "source": [
    "# df.drop('d')  # drop a row with a index value\n",
    "\n",
    "# df.drop(['a','d']) # drop multiple columns\n",
    "# df.drop('colA', axis='columns') # drop a column with a column name\n",
    "# df.drop(['phone','colA'], axis=1)\n"
   ]
  },
  {
   "cell_type": "markdown",
   "metadata": {},
   "source": [
    "## <font color=red>Rows</font>"
   ]
  },
  {
   "cell_type": "code",
   "execution_count": 9,
   "metadata": {},
   "outputs": [],
   "source": [
    "# df[0] # WARNING: Position is not working!!! (it's for col name)\n",
    "# df['a'] # WARNING: Index value is not working!!! (please use loc indexer)\n",
    "\n",
    "# slice operation (rows)\n",
    "# df[:] # all rows\n",
    "# df[:2] # row 0 to 1 \n",
    "# df[::-1] # reverse order\n",
    "\n",
    "# Filter()\n",
    "# Axis 0: rows / index\n",
    "# Axis 1: columns\n",
    "# df.filter('a', axis='index')\n",
    "# df.filter('a',axis=0)\n",
    "# df.filter(['a','b'],axis=0)\n"
   ]
  },
  {
   "cell_type": "markdown",
   "metadata": {},
   "source": [
    "### <font color=blue>**Indexer**</font>\n",
    "\n",
    "+ loc (label)\n",
    "+ iloc (position)"
   ]
  },
  {
   "cell_type": "markdown",
   "metadata": {},
   "source": [
    "#### **df.loc indexer (label)**"
   ]
  },
  {
   "cell_type": "code",
   "execution_count": 10,
   "metadata": {},
   "outputs": [],
   "source": [
    "# 1. LOC indexer: \n",
    "# SYNTAX: df.loc[row, col]\n",
    "\n",
    "# df.loc['a'] # get 1 row (series)\n",
    "# df.loc[['a','b']] # get multiple rows\n",
    "# df.loc[:] # slice\n",
    "# df.loc['a':'c'] # slice (including c)\n",
    "# df.loc[['b','b', 'a','a']] # fancy index\n",
    "\n",
    "# df.loc[:, 'name']\n",
    "# df.loc[:, ['name', 'age']] # all rows, with name & age column\n",
    "\n",
    "# BE CAREFUL!!!\n",
    "# if index is not numbers, you cannot use df.loc[0]\n",
    "# df.loc[0] # KeyError: no such index value\n"
   ]
  },
  {
   "cell_type": "markdown",
   "metadata": {},
   "source": [
    "#### **df.iloc indexer (position)**"
   ]
  },
  {
   "cell_type": "code",
   "execution_count": 11,
   "metadata": {},
   "outputs": [],
   "source": [
    "# 1. ILOC indexer: \n",
    "# SYNTAX: df.iloc[row, col]\n",
    "\n",
    "# df.iloc[0] # first row\n",
    "# df.iloc[:] # slice: all rows\n",
    "# df.iloc[0:1] # 0 to 1 (not include 1)\n",
    "\n",
    "# df.iloc[:, :] # all rows, all columns\n",
    "# df.iloc[:, 0] # all rows, first column\n",
    "# df.iloc[:, [-1]] # all rows, last column\n",
    "# df.iloc[:, 1]\n",
    "\n",
    "# BE CAREFUL!!!\n",
    "# Since it is based on POSITION, you cannot use col labels\n",
    "# df.iloc[:, 'age'] # not working\n",
    "# df.iloc[:, ['age']]  # not working\n"
   ]
  },
  {
   "cell_type": "markdown",
   "metadata": {},
   "source": [
    "### <font color=Green>**Boolean Mask**</font>"
   ]
  },
  {
   "cell_type": "code",
   "execution_count": 12,
   "metadata": {},
   "outputs": [
    {
     "data": {
      "text/html": [
       "<div>\n",
       "<style scoped>\n",
       "    .dataframe tbody tr th:only-of-type {\n",
       "        vertical-align: middle;\n",
       "    }\n",
       "\n",
       "    .dataframe tbody tr th {\n",
       "        vertical-align: top;\n",
       "    }\n",
       "\n",
       "    .dataframe thead th {\n",
       "        text-align: right;\n",
       "    }\n",
       "</style>\n",
       "<table border=\"1\" class=\"dataframe\">\n",
       "  <thead>\n",
       "    <tr style=\"text-align: right;\">\n",
       "      <th></th>\n",
       "      <th>name</th>\n",
       "      <th>phone</th>\n",
       "      <th>gender</th>\n",
       "      <th>age</th>\n",
       "      <th>colA</th>\n",
       "    </tr>\n",
       "  </thead>\n",
       "  <tbody>\n",
       "    <tr>\n",
       "      <th>b</th>\n",
       "      <td>John</td>\n",
       "      <td>90909090</td>\n",
       "      <td>male</td>\n",
       "      <td>22.0</td>\n",
       "      <td>blue</td>\n",
       "    </tr>\n",
       "    <tr>\n",
       "      <th>c</th>\n",
       "      <td>Mary</td>\n",
       "      <td>09090909</td>\n",
       "      <td>female</td>\n",
       "      <td>23.0</td>\n",
       "      <td>green</td>\n",
       "    </tr>\n",
       "  </tbody>\n",
       "</table>\n",
       "</div>"
      ],
      "text/plain": [
       "   name     phone  gender   age   colA\n",
       "b  John  90909090    male  22.0   blue\n",
       "c  Mary  09090909  female  23.0  green"
      ]
     },
     "execution_count": 12,
     "metadata": {},
     "output_type": "execute_result"
    }
   ],
   "source": [
    "mask = df.age > 20\n",
    "# ~mask # negate it\n",
    "\n",
    "# df[mask] # retrieve the results\n",
    "df.loc[mask] # retrieve the results\n",
    "\n",
    "# BE CAREFUL!!!\n",
    "# df.iloc[mask] # iloc indexer cannot use boolean mask!!!"
   ]
  },
  {
   "cell_type": "markdown",
   "metadata": {},
   "source": [
    "### <font color=Green>**Query()**</font>"
   ]
  },
  {
   "cell_type": "code",
   "execution_count": 13,
   "metadata": {},
   "outputs": [],
   "source": [
    "# df.query('age == 22')\n",
    "# df.query('age > 20')\n",
    "# df.query('name==\"Paul\" & age>10')\n",
    "\n",
    "# Using Python str functions\n",
    "# df.query('name.str.contains(\"J\")', engine='python')\n",
    "# df.query('name.str.upper()==\"PAUL\"', engine='python')\n",
    "\n",
    "# BE CAREFUL!!!\n",
    "# df.query('name.str.upper().contains(\"P\")', engine='python') # NOT WORKING\n",
    "# df.query('name.str.upper().str.contains(\"P\")', engine='python') # WORKING\n"
   ]
  },
  {
   "cell_type": "markdown",
   "metadata": {},
   "source": [
    "### Missing Values "
   ]
  },
  {
   "cell_type": "code",
   "execution_count": 14,
   "metadata": {},
   "outputs": [],
   "source": [
    "# handing NA values\n",
    "# which element is null\n",
    "\n",
    "# df.loc[df.age.isna()]\n",
    "\n",
    "# df[df.age.isnull()] \n",
    "# df[df.age.isna()] \n",
    "# df[~df.age.isnull()]  # is not NA\n",
    "# df[df.age.notnull()]  \n",
    "# df[df.age.notna()]  \n",
    "\n",
    "df.age.fillna(df.age.mean(), inplace=True) # fill the values (inplace=True if you want to save it)\n"
   ]
  },
  {
   "cell_type": "markdown",
   "metadata": {},
   "source": [
    "## <font color=blue>Groupby</font>\n",
    "\n",
    "##### * divide some data input groups (e.g. gender)"
   ]
  },
  {
   "cell_type": "code",
   "execution_count": 15,
   "metadata": {},
   "outputs": [
    {
     "data": {
      "text/html": [
       "<div>\n",
       "<style scoped>\n",
       "    .dataframe tbody tr th:only-of-type {\n",
       "        vertical-align: middle;\n",
       "    }\n",
       "\n",
       "    .dataframe tbody tr th {\n",
       "        vertical-align: top;\n",
       "    }\n",
       "\n",
       "    .dataframe thead th {\n",
       "        text-align: right;\n",
       "    }\n",
       "</style>\n",
       "<table border=\"1\" class=\"dataframe\">\n",
       "  <thead>\n",
       "    <tr style=\"text-align: right;\">\n",
       "      <th></th>\n",
       "      <th>name</th>\n",
       "      <th>phone</th>\n",
       "      <th>gender</th>\n",
       "      <th>age</th>\n",
       "      <th>colA</th>\n",
       "    </tr>\n",
       "  </thead>\n",
       "  <tbody>\n",
       "    <tr>\n",
       "      <th>a</th>\n",
       "      <td>Paul</td>\n",
       "      <td>92435678</td>\n",
       "      <td>male</td>\n",
       "      <td>18.0</td>\n",
       "      <td>red</td>\n",
       "    </tr>\n",
       "    <tr>\n",
       "      <th>b</th>\n",
       "      <td>John</td>\n",
       "      <td>90909090</td>\n",
       "      <td>male</td>\n",
       "      <td>22.0</td>\n",
       "      <td>blue</td>\n",
       "    </tr>\n",
       "    <tr>\n",
       "      <th>c</th>\n",
       "      <td>Mary</td>\n",
       "      <td>09090909</td>\n",
       "      <td>female</td>\n",
       "      <td>23.0</td>\n",
       "      <td>green</td>\n",
       "    </tr>\n",
       "    <tr>\n",
       "      <th>d</th>\n",
       "      <td>Jane</td>\n",
       "      <td>12435678</td>\n",
       "      <td>female</td>\n",
       "      <td>21.0</td>\n",
       "      <td>yellow</td>\n",
       "    </tr>\n",
       "  </tbody>\n",
       "</table>\n",
       "</div>"
      ],
      "text/plain": [
       "   name     phone  gender   age    colA\n",
       "a  Paul  92435678    male  18.0     red\n",
       "b  John  90909090    male  22.0    blue\n",
       "c  Mary  09090909  female  23.0   green\n",
       "d  Jane  12435678  female  21.0  yellow"
      ]
     },
     "execution_count": 15,
     "metadata": {},
     "output_type": "execute_result"
    }
   ],
   "source": [
    "df"
   ]
  },
  {
   "cell_type": "code",
   "execution_count": 20,
   "metadata": {},
   "outputs": [
    {
     "data": {
      "text/plain": [
       "gender\n",
       "female    22.0\n",
       "male      20.0\n",
       "Name: age, dtype: float64"
      ]
     },
     "execution_count": 20,
     "metadata": {},
     "output_type": "execute_result"
    }
   ],
   "source": [
    "# df.groupby('gender').mean()\n",
    "# df.groupby('gender').age.mean()\n",
    "# df.groupby('gender')['age'].mean()"
   ]
  },
  {
   "cell_type": "code",
   "execution_count": 21,
   "metadata": {},
   "outputs": [
    {
     "data": {
      "text/html": [
       "<div>\n",
       "<style scoped>\n",
       "    .dataframe tbody tr th:only-of-type {\n",
       "        vertical-align: middle;\n",
       "    }\n",
       "\n",
       "    .dataframe tbody tr th {\n",
       "        vertical-align: top;\n",
       "    }\n",
       "\n",
       "    .dataframe thead th {\n",
       "        text-align: right;\n",
       "    }\n",
       "</style>\n",
       "<table border=\"1\" class=\"dataframe\">\n",
       "  <thead>\n",
       "    <tr style=\"text-align: right;\">\n",
       "      <th></th>\n",
       "      <th></th>\n",
       "      <th>age</th>\n",
       "    </tr>\n",
       "    <tr>\n",
       "      <th>gender</th>\n",
       "      <th>name</th>\n",
       "      <th></th>\n",
       "    </tr>\n",
       "  </thead>\n",
       "  <tbody>\n",
       "    <tr>\n",
       "      <th rowspan=\"2\" valign=\"top\">female</th>\n",
       "      <th>Jane</th>\n",
       "      <td>21.0</td>\n",
       "    </tr>\n",
       "    <tr>\n",
       "      <th>Mary</th>\n",
       "      <td>23.0</td>\n",
       "    </tr>\n",
       "    <tr>\n",
       "      <th rowspan=\"2\" valign=\"top\">male</th>\n",
       "      <th>John</th>\n",
       "      <td>22.0</td>\n",
       "    </tr>\n",
       "    <tr>\n",
       "      <th>Paul</th>\n",
       "      <td>18.0</td>\n",
       "    </tr>\n",
       "  </tbody>\n",
       "</table>\n",
       "</div>"
      ],
      "text/plain": [
       "              age\n",
       "gender name      \n",
       "female Jane  21.0\n",
       "       Mary  23.0\n",
       "male   John  22.0\n",
       "       Paul  18.0"
      ]
     },
     "execution_count": 21,
     "metadata": {},
     "output_type": "execute_result"
    }
   ],
   "source": [
    "# group by multiple columns\n",
    "df.groupby(['gender', 'name']).mean()"
   ]
  },
  {
   "cell_type": "code",
   "execution_count": 22,
   "metadata": {},
   "outputs": [
    {
     "data": {
      "text/html": [
       "<div>\n",
       "<style scoped>\n",
       "    .dataframe tbody tr th:only-of-type {\n",
       "        vertical-align: middle;\n",
       "    }\n",
       "\n",
       "    .dataframe tbody tr th {\n",
       "        vertical-align: top;\n",
       "    }\n",
       "\n",
       "    .dataframe thead tr th {\n",
       "        text-align: left;\n",
       "    }\n",
       "\n",
       "    .dataframe thead tr:last-of-type th {\n",
       "        text-align: right;\n",
       "    }\n",
       "</style>\n",
       "<table border=\"1\" class=\"dataframe\">\n",
       "  <thead>\n",
       "    <tr>\n",
       "      <th></th>\n",
       "      <th colspan=\"4\" halign=\"left\">age</th>\n",
       "    </tr>\n",
       "    <tr>\n",
       "      <th>name</th>\n",
       "      <th>Jane</th>\n",
       "      <th>John</th>\n",
       "      <th>Mary</th>\n",
       "      <th>Paul</th>\n",
       "    </tr>\n",
       "    <tr>\n",
       "      <th>gender</th>\n",
       "      <th></th>\n",
       "      <th></th>\n",
       "      <th></th>\n",
       "      <th></th>\n",
       "    </tr>\n",
       "  </thead>\n",
       "  <tbody>\n",
       "    <tr>\n",
       "      <th>female</th>\n",
       "      <td>21.0</td>\n",
       "      <td>NaN</td>\n",
       "      <td>23.0</td>\n",
       "      <td>NaN</td>\n",
       "    </tr>\n",
       "    <tr>\n",
       "      <th>male</th>\n",
       "      <td>NaN</td>\n",
       "      <td>22.0</td>\n",
       "      <td>NaN</td>\n",
       "      <td>18.0</td>\n",
       "    </tr>\n",
       "  </tbody>\n",
       "</table>\n",
       "</div>"
      ],
      "text/plain": [
       "         age                  \n",
       "name    Jane  John  Mary  Paul\n",
       "gender                        \n",
       "female  21.0   NaN  23.0   NaN\n",
       "male     NaN  22.0   NaN  18.0"
      ]
     },
     "execution_count": 22,
     "metadata": {},
     "output_type": "execute_result"
    }
   ],
   "source": [
    "df.groupby(['gender', 'name']).mean().unstack()"
   ]
  },
  {
   "cell_type": "code",
   "execution_count": 23,
   "metadata": {},
   "outputs": [
    {
     "data": {
      "text/html": [
       "<div>\n",
       "<style scoped>\n",
       "    .dataframe tbody tr th:only-of-type {\n",
       "        vertical-align: middle;\n",
       "    }\n",
       "\n",
       "    .dataframe tbody tr th {\n",
       "        vertical-align: top;\n",
       "    }\n",
       "\n",
       "    .dataframe thead th {\n",
       "        text-align: right;\n",
       "    }\n",
       "</style>\n",
       "<table border=\"1\" class=\"dataframe\">\n",
       "  <thead>\n",
       "    <tr style=\"text-align: right;\">\n",
       "      <th>name</th>\n",
       "      <th>Jane</th>\n",
       "      <th>John</th>\n",
       "      <th>Mary</th>\n",
       "      <th>Paul</th>\n",
       "    </tr>\n",
       "    <tr>\n",
       "      <th>gender</th>\n",
       "      <th></th>\n",
       "      <th></th>\n",
       "      <th></th>\n",
       "      <th></th>\n",
       "    </tr>\n",
       "  </thead>\n",
       "  <tbody>\n",
       "    <tr>\n",
       "      <th>female</th>\n",
       "      <td>21.0</td>\n",
       "      <td>NaN</td>\n",
       "      <td>23.0</td>\n",
       "      <td>NaN</td>\n",
       "    </tr>\n",
       "    <tr>\n",
       "      <th>male</th>\n",
       "      <td>NaN</td>\n",
       "      <td>22.0</td>\n",
       "      <td>NaN</td>\n",
       "      <td>18.0</td>\n",
       "    </tr>\n",
       "  </tbody>\n",
       "</table>\n",
       "</div>"
      ],
      "text/plain": [
       "name    Jane  John  Mary  Paul\n",
       "gender                        \n",
       "female  21.0   NaN  23.0   NaN\n",
       "male     NaN  22.0   NaN  18.0"
      ]
     },
     "execution_count": 23,
     "metadata": {},
     "output_type": "execute_result"
    }
   ],
   "source": [
    "# pivot table function\n",
    "# df.pivot_table('age', index='gender', columns='name')\n",
    "df.pivot_table('age', index='gender', columns='name', aggfunc='mean') # aggfunc other than mean\n"
   ]
  },
  {
   "cell_type": "markdown",
   "metadata": {},
   "source": [
    "## <font color=blue>Sorting</font>"
   ]
  },
  {
   "cell_type": "code",
   "execution_count": 27,
   "metadata": {},
   "outputs": [
    {
     "data": {
      "text/html": [
       "<div>\n",
       "<style scoped>\n",
       "    .dataframe tbody tr th:only-of-type {\n",
       "        vertical-align: middle;\n",
       "    }\n",
       "\n",
       "    .dataframe tbody tr th {\n",
       "        vertical-align: top;\n",
       "    }\n",
       "\n",
       "    .dataframe thead th {\n",
       "        text-align: right;\n",
       "    }\n",
       "</style>\n",
       "<table border=\"1\" class=\"dataframe\">\n",
       "  <thead>\n",
       "    <tr style=\"text-align: right;\">\n",
       "      <th></th>\n",
       "      <th>name</th>\n",
       "      <th>phone</th>\n",
       "      <th>gender</th>\n",
       "      <th>age</th>\n",
       "      <th>colA</th>\n",
       "    </tr>\n",
       "  </thead>\n",
       "  <tbody>\n",
       "    <tr>\n",
       "      <th>a</th>\n",
       "      <td>Paul</td>\n",
       "      <td>92435678</td>\n",
       "      <td>male</td>\n",
       "      <td>18.0</td>\n",
       "      <td>red</td>\n",
       "    </tr>\n",
       "    <tr>\n",
       "      <th>b</th>\n",
       "      <td>John</td>\n",
       "      <td>90909090</td>\n",
       "      <td>male</td>\n",
       "      <td>22.0</td>\n",
       "      <td>blue</td>\n",
       "    </tr>\n",
       "    <tr>\n",
       "      <th>d</th>\n",
       "      <td>Jane</td>\n",
       "      <td>12435678</td>\n",
       "      <td>female</td>\n",
       "      <td>21.0</td>\n",
       "      <td>yellow</td>\n",
       "    </tr>\n",
       "    <tr>\n",
       "      <th>c</th>\n",
       "      <td>Mary</td>\n",
       "      <td>09090909</td>\n",
       "      <td>female</td>\n",
       "      <td>23.0</td>\n",
       "      <td>green</td>\n",
       "    </tr>\n",
       "  </tbody>\n",
       "</table>\n",
       "</div>"
      ],
      "text/plain": [
       "   name     phone  gender   age    colA\n",
       "a  Paul  92435678    male  18.0     red\n",
       "b  John  90909090    male  22.0    blue\n",
       "d  Jane  12435678  female  21.0  yellow\n",
       "c  Mary  09090909  female  23.0   green"
      ]
     },
     "execution_count": 27,
     "metadata": {},
     "output_type": "execute_result"
    }
   ],
   "source": [
    "# df.sort_values(by='age', ascending=False)\n",
    "df.sort_values(by=['gender', 'age'], ascending=[False, True])"
   ]
  }
 ],
 "metadata": {
  "kernelspec": {
   "display_name": "Python 3",
   "language": "python",
   "name": "python3"
  },
  "language_info": {
   "codemirror_mode": {
    "name": "ipython",
    "version": 3
   },
   "file_extension": ".py",
   "mimetype": "text/x-python",
   "name": "python",
   "nbconvert_exporter": "python",
   "pygments_lexer": "ipython3",
   "version": "3.8.5"
  }
 },
 "nbformat": 4,
 "nbformat_minor": 4
}
