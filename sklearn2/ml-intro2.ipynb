{
 "cells": [
  {
   "cell_type": "markdown",
   "metadata": {},
   "source": [
    "# Machine Learning concepts 2"
   ]
  },
  {
   "cell_type": "markdown",
   "metadata": {},
   "source": [
    "* ***Supervised learning***\n",
    "    * **regression** (predict a **value**)\n",
    "    * **classification** (predict a **label**)\n",
    "* ***Unsupervised learning***\n",
    "    * **clustering** (find out **groups**)"
   ]
  },
  {
   "cell_type": "markdown",
   "metadata": {},
   "source": [
    "<img src='training.png' width=700>"
   ]
  },
  {
   "cell_type": "markdown",
   "metadata": {},
   "source": [
    "### Model parameters Vs Hyperparameters\n"
   ]
  },
  {
   "cell_type": "markdown",
   "metadata": {},
   "source": [
    "* Model parameters\n",
    "    - properties that **learn from data** to describe the model\n",
    "* Hyperparameters\n",
    "    - values to control the learning process\n",
    "    - you must set the hyperparameters before using the ML algorithms\n",
    "    - e.g. K values for K-means algorithm\n",
    "    "
   ]
  },
  {
   "cell_type": "markdown",
   "metadata": {},
   "source": [
    "### Generalization in Machine Learning\n",
    "* ML is not a memorization process, but a **generalization process**\n",
    "* How well the trained model generalizes to **new data** (i.e. performance on unseen data prediction)"
   ]
  },
  {
   "cell_type": "markdown",
   "metadata": {},
   "source": [
    "### Main Challenges of Machine Learning\n",
    "* ***Data***\n",
    "    * Not enough data\n",
    "    * Data is not representative\n",
    "    * Low quality\n",
    "        * Missing data, noises\n",
    "        * incorrect data, irrelevant features, etc.\n",
    "* **Overfitting**\n",
    "    * Unable to generalize -> overfitting\n",
    "    * Perform well on training data, but does not generalize well for unseen data\n",
    "    * Learned from noise data, which is irrelvant\n",
    "    * Solutions:\n",
    "        * simpify the model \n",
    "            * use a fewer parameters\n",
    "            * use less attributes\n",
    "            * regularization (constrain the model)\n",
    "        * Reduce the noise\n",
    "        * Use more training data\n",
    "* **Underfitting**\n",
    "    * Selected model is too simple for the data\n",
    "    * not perform well on both training data and testing data\n",
    "    * Solutions:\n",
    "        * Use a more powerful model\n",
    "        * Reduce constraints on model\n",
    "\n",
    "\n",
    "\n"
   ]
  },
  {
   "cell_type": "markdown",
   "metadata": {},
   "source": [
    "<img src=\"https://upload.wikimedia.org/wikipedia/commons/1/19/Overfitting.svg\" height=200 width=200>\n",
    "<br>\n",
    "CC BY-SA 4.0: https://en.wikipedia.org/wiki/File:Overfitting.svg "
   ]
  },
  {
   "cell_type": "markdown",
   "metadata": {},
   "source": [
    "---"
   ]
  },
  {
   "cell_type": "markdown",
   "metadata": {},
   "source": [
    "## Model evaluation"
   ]
  },
  {
   "cell_type": "markdown",
   "metadata": {},
   "source": [
    "1. Train & Test on the same data\n",
    "    1. may **overfit** the training data, not work well on real world environment\n",
    "1. **Train and Test on different set of data (train_test_split)**\n",
    "    1. Split dataset into training set & testing set. Training on training set, do testing on testing set\n",
    "    1. sklearn.model_selection.train_test_split()\n",
    "1. **K-Fold Cross-Validation (K-Fold CV)**\n",
    "    1. Split data in to K equal parts for K runs\n",
    "    1. Select 1 part as validation set and use the remainding parts for training\n",
    "    1. Repeat for K times"
   ]
  },
  {
   "cell_type": "markdown",
   "metadata": {},
   "source": [
    "<img src=\"https://scikit-learn.org/stable/_images/grid_search_cross_validation.png\" width=\"400\">\n",
    "    \n",
    "Source: https://scikit-learn.org/stable/modules/cross_validation.html\n"
   ]
  },
  {
   "cell_type": "markdown",
   "metadata": {},
   "source": [
    "### Model evaluation metrics\n",
    "\n",
    "* **Regression:**\n",
    "    * Minimize the error\n",
    "\n",
    "    Mean Absolute Error $(MAE) = \\frac{1}{n}\\sum_{i=1}^{n} \\lvert (actual_{i}-predicted_{i}) \\rvert$\n",
    "\n",
    "    Mean Square Error $(MSE) = \\frac{1}{n}\\sum_{i=1}^{n} (actual_{i}-predicted_{i})^2$\n",
    "\n",
    "    Root Mean Square Error $(RMSE) = \\sqrt{ \\frac{1}{n}\\sum_{i=1}^{n} (actual_{i}-predicted_{i})^2}$\n",
    "    \n",
    "    <img src=\"regression_error.png\" width=\"200\">\n",
    "\n",
    "* **Classification:**\n",
    "    1. accuracy\n",
    "        1. **metrics.accuracy_score(y_actual, y_predict)**\n",
    "        1. compare with baseline accuracy:\n",
    "            * predict the most frequent class\n",
    "            * baseline accuracy = most frequent class samples / total number of samples\n",
    "    1. Confusion matrix - table / diagram to show the peformance of a classifer\n",
    "        * **metrics.confusion_matrix(y_label, y_predicted)**\n",
    "  \n",
    "    <p><img src=\"confusion_matrix.png\" width=\"220\"></p>\n",
    "\n",
    "\n",
    "* $\\textbf{Accuracy} = \\frac{TP + TN}{TP + TN + FP + FN}$\n",
    "\n",
    "* $\\textbf{Precision} = \\frac{TP}{TP + FP}$\n",
    "\n",
    "* $\\textbf{Recall} = \\frac{TP}{TP + FN}$\n",
    "\n",
    "\n"
   ]
  }
 ],
 "metadata": {
  "kernelspec": {
   "display_name": "Python 3",
   "language": "python",
   "name": "python3"
  },
  "language_info": {
   "codemirror_mode": {
    "name": "ipython",
    "version": 3
   },
   "file_extension": ".py",
   "mimetype": "text/x-python",
   "name": "python",
   "nbconvert_exporter": "python",
   "pygments_lexer": "ipython3",
   "version": "3.8.5"
  }
 },
 "nbformat": 4,
 "nbformat_minor": 4
}
