{
 "cells": [
  {
   "cell_type": "markdown",
   "metadata": {},
   "source": [
    "# <font color='red'>Categorical data</font>\n",
    "1. Nominal data - names\n",
    "1. Ordinal data - ordered\n",
    "1. Continuous values"
   ]
  },
  {
   "cell_type": "markdown",
   "metadata": {},
   "source": [
    "##### Why cateogorical data?\n",
    "* save memory for repeated values\n",
    "* sorting ordinal data (lexical order might be wrong)\n",
    "* continuous values => discrete values"
   ]
  },
  {
   "cell_type": "markdown",
   "metadata": {},
   "source": [
    "##### Packages Installation"
   ]
  },
  {
   "cell_type": "code",
   "execution_count": 1,
   "metadata": {},
   "outputs": [
    {
     "name": "stdout",
     "output_type": "stream",
     "text": [
      "Requirement already satisfied: pandas in d:\\python38\\lib\\site-packages (1.1.0)\n",
      "Requirement already satisfied: numpy>=1.15.4 in d:\\python38\\lib\\site-packages (from pandas) (1.18.5)\n",
      "Requirement already satisfied: python-dateutil>=2.7.3 in d:\\python38\\lib\\site-packages (from pandas) (2.8.1)\n",
      "Requirement already satisfied: pytz>=2017.2 in d:\\python38\\lib\\site-packages (from pandas) (2020.1)\n",
      "Requirement already satisfied: six>=1.5 in d:\\python38\\lib\\site-packages (from python-dateutil>=2.7.3->pandas) (1.15.0)\n",
      "Requirement already satisfied: seaborn in d:\\python38\\lib\\site-packages (0.11.0)\n",
      "Requirement already satisfied: scipy>=1.0 in d:\\python38\\lib\\site-packages (from seaborn) (1.4.1)\n",
      "Requirement already satisfied: matplotlib>=2.2 in d:\\python38\\lib\\site-packages (from seaborn) (3.3.1)\n",
      "Requirement already satisfied: numpy>=1.15 in d:\\python38\\lib\\site-packages (from seaborn) (1.18.5)\n",
      "Requirement already satisfied: pandas>=0.23 in d:\\python38\\lib\\site-packages (from seaborn) (1.1.0)\n",
      "Requirement already satisfied: python-dateutil>=2.1 in d:\\python38\\lib\\site-packages (from matplotlib>=2.2->seaborn) (2.8.1)\n",
      "Requirement already satisfied: certifi>=2020.06.20 in d:\\python38\\lib\\site-packages (from matplotlib>=2.2->seaborn) (2020.6.20)\n",
      "Requirement already satisfied: pillow>=6.2.0 in d:\\python38\\lib\\site-packages (from matplotlib>=2.2->seaborn) (7.2.0)\n",
      "Requirement already satisfied: pyparsing!=2.0.4,!=2.1.2,!=2.1.6,>=2.0.3 in d:\\python38\\lib\\site-packages (from matplotlib>=2.2->seaborn) (2.4.7)\n",
      "Requirement already satisfied: kiwisolver>=1.0.1 in d:\\python38\\lib\\site-packages (from matplotlib>=2.2->seaborn) (1.2.0)\n",
      "Requirement already satisfied: cycler>=0.10 in d:\\python38\\lib\\site-packages (from matplotlib>=2.2->seaborn) (0.10.0)\n",
      "Requirement already satisfied: pytz>=2017.2 in d:\\python38\\lib\\site-packages (from pandas>=0.23->seaborn) (2020.1)\n",
      "Requirement already satisfied: six>=1.5 in d:\\python38\\lib\\site-packages (from python-dateutil>=2.1->matplotlib>=2.2->seaborn) (1.15.0)\n"
     ]
    }
   ],
   "source": [
    "!pip install pandas\n",
    "!pip install seaborn"
   ]
  },
  {
   "cell_type": "markdown",
   "metadata": {},
   "source": [
    "##### Conversion"
   ]
  },
  {
   "cell_type": "code",
   "execution_count": 1,
   "metadata": {},
   "outputs": [
    {
     "data": {
      "text/plain": [
       "0     cat\n",
       "1     dog\n",
       "2    duck\n",
       "3     cat\n",
       "4     cat\n",
       "5    bird\n",
       "6     cat\n",
       "7     dog\n",
       "dtype: object"
      ]
     },
     "execution_count": 1,
     "metadata": {},
     "output_type": "execute_result"
    }
   ],
   "source": [
    "import pandas as pd\n",
    "import numpy as np\n",
    "import seaborn as sns\n",
    "\n",
    "animals = pd.Series(['cat', 'dog', 'duck', 'cat', 'cat', 'bird', 'cat', 'dog'])\n",
    "animals\n",
    "\n",
    "# animals.unique()\n",
    "# pd.unique(animals)\n",
    "\n",
    "# animals.value_counts()\n",
    "# pd.value_counts(animals)\n"
   ]
  },
  {
   "cell_type": "code",
   "execution_count": 7,
   "metadata": {},
   "outputs": [
    {
     "data": {
      "text/plain": [
       "Index(['bird', 'cat', 'dog', 'duck'], dtype='object')"
      ]
     },
     "execution_count": 7,
     "metadata": {},
     "output_type": "execute_result"
    }
   ],
   "source": [
    "df = pd.DataFrame({'animals':animals})\n",
    "df.animals \n",
    "# df.animals.hist()\n",
    "\n",
    "ser = df.animals.astype('category') # Cast a pandas object to a specified dtype\n",
    "type(ser.values) # categorical\n",
    "ser.values\n",
    "\n",
    "# ser.values.categories # Index (ordered, sliceable)\n",
    "# ser.values.categories[:2]\n",
    "# ser.values.codes # array of integers which are the positions of the actual values in the categories array, dtype=int8\n",
    "\n",
    "# change code list to values\n",
    "# ser.values.categories.take([0,1,0,1])\n",
    "# ser.values.categories.take(ser.values.codes) \n"
   ]
  },
  {
   "cell_type": "code",
   "execution_count": 4,
   "metadata": {},
   "outputs": [],
   "source": [
    "# specifing dtype\n",
    "\n",
    "# animals = pd.Series(['cat', 'dog', 'duck', 'cat', 'cat', 'bird', 'cat', 'dog'], dtype=\"category\") # dtype=category\n",
    "# animals.values # values is categories\n",
    "\n",
    "# df = pd.DataFrame({'animals':animals}) \n",
    "# df.animals.values # category\n"
   ]
  },
  {
   "cell_type": "markdown",
   "metadata": {},
   "source": [
    "##### Creation"
   ]
  },
  {
   "cell_type": "code",
   "execution_count": 5,
   "metadata": {},
   "outputs": [],
   "source": [
    "categoryList = ['child', 'adult', 'elderly']\n",
    "# categoryIntList = [1,2,3] # cateogry data type could be integer, float, etc., but less meaningful\n",
    "\n",
    "# method 1\n",
    "# ageGroup = pd.Categorical(categoryList)\n",
    "# ageGroup\n",
    "\n",
    "# ageCodes = [0,1,2,0,1,2,0,0,1,1,2]\n",
    "# ageGroup.take(ageCodes)\n",
    "\n",
    "# method 2\n",
    "\n",
    "# ageGroup2 = pd.Categorical.from_codes(ageCodes, categoryList)\n",
    "# ageGroup2 # same categorical data\n",
    "\n",
    "# ageGroupOrder = pd.Categorical.from_codes(ageCodes, categoryList, ordered=True)\n",
    "# ageGroupOrder\n"
   ]
  },
  {
   "cell_type": "markdown",
   "metadata": {},
   "source": [
    "#### <font color='blue'>1) Column to Nominal Data</font>"
   ]
  },
  {
   "cell_type": "code",
   "execution_count": 6,
   "metadata": {},
   "outputs": [
    {
     "name": "stdout",
     "output_type": "stream",
     "text": [
      "Memory: 2080 -> 468 bytes, 22.50% of original size\n"
     ]
    }
   ],
   "source": [
    "url = 'https://raw.github.com/pandas-dev/pandas/master/pandas/tests/io/data/csv/tips.csv'\n",
    "tips = pd.read_csv(url)   # tips dataset\n",
    "\n",
    "# tips.info()\n",
    "# tips.total_bill.describe() # min 3.07, max 50.81\n",
    "\n",
    "# Column to nominal\n",
    "byteBeforeConvert = tips.time.memory_usage()\n",
    "tips['time'] = tips['time'].astype('category') # time: Dinner, Lunch\n",
    "byteAfterConvert = tips.time.memory_usage()\n",
    "\n",
    "print(f'Memory: {byteBeforeConvert} -> {byteAfterConvert} bytes, {byteAfterConvert/byteBeforeConvert*100:.2f}% of original size')\n"
   ]
  },
  {
   "cell_type": "markdown",
   "metadata": {},
   "source": [
    "#### <font color='blue'>2) Column to Ordinal Data</font>"
   ]
  },
  {
   "cell_type": "code",
   "execution_count": 7,
   "metadata": {},
   "outputs": [
    {
     "name": "stdout",
     "output_type": "stream",
     "text": [
      "Memory: 2080 -> 748 bytes, 35.96% of original size\n"
     ]
    }
   ],
   "source": [
    "# Column to ordinal\n",
    "# tips['day'].unique()\n",
    "\n",
    "byteBeforeConvert = tips.day.memory_usage()\n",
    "dayCatType = pd.api.types.CategoricalDtype(categories = ['Mon', 'Tue', 'Wed', 'Thur', 'Fri', 'Sat', 'Sun'], ordered=True)\n",
    "tips['day'] = tips['day'].astype(dayCatType) \n",
    "byteAfterConvert = tips.day.memory_usage()\n",
    "\n",
    "print(f'Memory: {byteBeforeConvert} -> {byteAfterConvert} bytes, {byteAfterConvert/byteBeforeConvert*100:.2f}% of original size')\n",
    "\n",
    "# tips.info()\n",
    "# tips.day.cat.categories\n",
    "# tips.day.cat.codes\n",
    "tips.day.cat.remove_unused_categories(inplace=True) # remove unused category item\n",
    "# tips.day.cat.categories\n"
   ]
  },
  {
   "cell_type": "markdown",
   "metadata": {},
   "source": [
    "##### Categorical methods (cat methods)"
   ]
  },
  {
   "cell_type": "code",
   "execution_count": 8,
   "metadata": {},
   "outputs": [],
   "source": [
    "animals = pd.Series(['cat', 'dog', 'duck', 'cat', 'cat', 'bird', 'cat', 'dog'], dtype=\"category\") # dtype=category\n",
    "# animals.values # values is categories\n",
    "# animals.values.categories\n",
    "\n",
    "# animals.cat\n",
    "# animals.cat.add_categories(['horse', 'tiger', 'zebra', 'lion'], inplace=True) # add categories to animal\n",
    "# animals.cat.remove_categories(['cat'], inplace=True) # remove categories, if this is in use, set to NaN\n",
    "\n",
    "# animals.cat.as_ordered(inplace=True) # ordered\n",
    "# animals.cat.reorder_categories(['lion', 'tiger', 'horse', 'zebra', 'dog', 'bird', 'duck'], inplace=True) # change order\n",
    "# animals.cat.as_unordered(inplace=True) # unordered\n",
    "\n",
    "# animals.cat.remove_unused_categories(inplace=True) # remove unused\n",
    "\n",
    "# animals\n"
   ]
  },
  {
   "cell_type": "markdown",
   "metadata": {},
   "source": [
    "#### <font color='blue'>3) Continous value to Ordinal Data</font>"
   ]
  },
  {
   "cell_type": "code",
   "execution_count": 9,
   "metadata": {},
   "outputs": [],
   "source": [
    "url = 'https://raw.github.com/pandas-dev/pandas/master/pandas/tests/io/data/csv/tips.csv'\n",
    "tips = pd.read_csv(url)   # tips dataset\n",
    "\n",
    "labels = ['cheap','normal','expensive']\n",
    "# bins = pd.cut(tips.total_bill, 3) # Bin values into discrete intervals\n",
    "bins = pd.cut(tips.total_bill, 3, labels=labels) # Bin values into discrete intervals\n",
    "# bins = pd.cut(tips.total_bill, bins=[0,10,20,30]) # custom bin cut position\n",
    "# pd.qcut() => Discretize variable into equal-sized buckets based, check => bins.values.describe()\n",
    "\n",
    "# type(bins) # series\n",
    "\n",
    "# type(tips.total_bill.values) # before\n",
    "# type(bins.values) # after: categorical\n",
    "\n",
    "# bins.values.codes\n",
    "# bins.values.categories\n",
    "# bins.cat.codes\n",
    "# bins.cat.categories\n",
    "\n",
    "# bins.values.describe() # not work with bins.cat\n",
    "# bins.values.value_counts() # not work with bins.cat\n",
    "# tips.total_bill.groupby(bins).agg(['count','min','max'])"
   ]
  },
  {
   "cell_type": "markdown",
   "metadata": {},
   "source": [
    "##### Query"
   ]
  },
  {
   "cell_type": "code",
   "execution_count": 10,
   "metadata": {},
   "outputs": [
    {
     "data": {
      "text/html": [
       "<div>\n",
       "<style scoped>\n",
       "    .dataframe tbody tr th:only-of-type {\n",
       "        vertical-align: middle;\n",
       "    }\n",
       "\n",
       "    .dataframe tbody tr th {\n",
       "        vertical-align: top;\n",
       "    }\n",
       "\n",
       "    .dataframe thead th {\n",
       "        text-align: right;\n",
       "    }\n",
       "</style>\n",
       "<table border=\"1\" class=\"dataframe\">\n",
       "  <thead>\n",
       "    <tr style=\"text-align: right;\">\n",
       "      <th></th>\n",
       "      <th>total_bill</th>\n",
       "      <th>tip</th>\n",
       "      <th>sex</th>\n",
       "      <th>smoker</th>\n",
       "      <th>day</th>\n",
       "      <th>time</th>\n",
       "      <th>size</th>\n",
       "    </tr>\n",
       "  </thead>\n",
       "  <tbody>\n",
       "    <tr>\n",
       "      <th>96</th>\n",
       "      <td>27.28</td>\n",
       "      <td>4.00</td>\n",
       "      <td>Male</td>\n",
       "      <td>Yes</td>\n",
       "      <td>Fri</td>\n",
       "      <td>Dinner</td>\n",
       "      <td>2</td>\n",
       "    </tr>\n",
       "    <tr>\n",
       "      <th>101</th>\n",
       "      <td>15.38</td>\n",
       "      <td>3.00</td>\n",
       "      <td>Female</td>\n",
       "      <td>Yes</td>\n",
       "      <td>Fri</td>\n",
       "      <td>Dinner</td>\n",
       "      <td>2</td>\n",
       "    </tr>\n",
       "    <tr>\n",
       "      <th>98</th>\n",
       "      <td>21.01</td>\n",
       "      <td>3.00</td>\n",
       "      <td>Male</td>\n",
       "      <td>Yes</td>\n",
       "      <td>Fri</td>\n",
       "      <td>Dinner</td>\n",
       "      <td>2</td>\n",
       "    </tr>\n",
       "    <tr>\n",
       "      <th>97</th>\n",
       "      <td>12.03</td>\n",
       "      <td>1.50</td>\n",
       "      <td>Male</td>\n",
       "      <td>Yes</td>\n",
       "      <td>Fri</td>\n",
       "      <td>Dinner</td>\n",
       "      <td>2</td>\n",
       "    </tr>\n",
       "    <tr>\n",
       "      <th>95</th>\n",
       "      <td>40.17</td>\n",
       "      <td>4.73</td>\n",
       "      <td>Male</td>\n",
       "      <td>Yes</td>\n",
       "      <td>Fri</td>\n",
       "      <td>Dinner</td>\n",
       "      <td>4</td>\n",
       "    </tr>\n",
       "    <tr>\n",
       "      <th>...</th>\n",
       "      <td>...</td>\n",
       "      <td>...</td>\n",
       "      <td>...</td>\n",
       "      <td>...</td>\n",
       "      <td>...</td>\n",
       "      <td>...</td>\n",
       "      <td>...</td>\n",
       "    </tr>\n",
       "    <tr>\n",
       "      <th>132</th>\n",
       "      <td>11.17</td>\n",
       "      <td>1.50</td>\n",
       "      <td>Female</td>\n",
       "      <td>No</td>\n",
       "      <td>Thur</td>\n",
       "      <td>Lunch</td>\n",
       "      <td>2</td>\n",
       "    </tr>\n",
       "    <tr>\n",
       "      <th>131</th>\n",
       "      <td>20.27</td>\n",
       "      <td>2.83</td>\n",
       "      <td>Female</td>\n",
       "      <td>No</td>\n",
       "      <td>Thur</td>\n",
       "      <td>Lunch</td>\n",
       "      <td>2</td>\n",
       "    </tr>\n",
       "    <tr>\n",
       "      <th>130</th>\n",
       "      <td>19.08</td>\n",
       "      <td>1.50</td>\n",
       "      <td>Male</td>\n",
       "      <td>No</td>\n",
       "      <td>Thur</td>\n",
       "      <td>Lunch</td>\n",
       "      <td>2</td>\n",
       "    </tr>\n",
       "    <tr>\n",
       "      <th>128</th>\n",
       "      <td>11.38</td>\n",
       "      <td>2.00</td>\n",
       "      <td>Female</td>\n",
       "      <td>No</td>\n",
       "      <td>Thur</td>\n",
       "      <td>Lunch</td>\n",
       "      <td>2</td>\n",
       "    </tr>\n",
       "    <tr>\n",
       "      <th>243</th>\n",
       "      <td>18.78</td>\n",
       "      <td>3.00</td>\n",
       "      <td>Female</td>\n",
       "      <td>No</td>\n",
       "      <td>Thur</td>\n",
       "      <td>Dinner</td>\n",
       "      <td>2</td>\n",
       "    </tr>\n",
       "  </tbody>\n",
       "</table>\n",
       "<p>244 rows × 7 columns</p>\n",
       "</div>"
      ],
      "text/plain": [
       "     total_bill   tip     sex smoker   day    time  size\n",
       "96        27.28  4.00    Male    Yes   Fri  Dinner     2\n",
       "101       15.38  3.00  Female    Yes   Fri  Dinner     2\n",
       "98        21.01  3.00    Male    Yes   Fri  Dinner     2\n",
       "97        12.03  1.50    Male    Yes   Fri  Dinner     2\n",
       "95        40.17  4.73    Male    Yes   Fri  Dinner     4\n",
       "..          ...   ...     ...    ...   ...     ...   ...\n",
       "132       11.17  1.50  Female     No  Thur   Lunch     2\n",
       "131       20.27  2.83  Female     No  Thur   Lunch     2\n",
       "130       19.08  1.50    Male     No  Thur   Lunch     2\n",
       "128       11.38  2.00  Female     No  Thur   Lunch     2\n",
       "243       18.78  3.00  Female     No  Thur  Dinner     2\n",
       "\n",
       "[244 rows x 7 columns]"
      ]
     },
     "execution_count": 10,
     "metadata": {},
     "output_type": "execute_result"
    }
   ],
   "source": [
    "mask = bins.values.isin(['expensive','cheap']) # expensive bills\n",
    "mask\n",
    "# tips[mask]\n",
    "\n",
    "# bins is a series\n",
    "# tips[bins.values == 'expensive']\n",
    "# tips[bins.values > 'normal']\n",
    "\n",
    "# sorting\n",
    "# bins.sort_values(ascending=True)\n",
    "#tips.sort_values(by=['day','time'], ascending=[True, True])\n",
    "tips.sort_values(by=['day'], ascending=[True])\n",
    "\n",
    "# tips.total_bill[bins.values == 'cheap'].plot.hist()"
   ]
  },
  {
   "cell_type": "markdown",
   "metadata": {},
   "source": [
    "##### Plot with categorical data\n",
    "* https://seaborn.pydata.org/tutorial/categorical.html"
   ]
  },
  {
   "cell_type": "code",
   "execution_count": 11,
   "metadata": {},
   "outputs": [
    {
     "data": {
      "text/plain": [
       "<seaborn.axisgrid.PairGrid at 0x1f688093160>"
      ]
     },
     "execution_count": 11,
     "metadata": {},
     "output_type": "execute_result"
    },
    {
     "data": {
      "image/png": "[encoded data removed]",
      "text/plain": [
       "<Figure size 626.75x540 with 12 Axes>"
      ]
     },
     "metadata": {
      "needs_background": "light"
     },
     "output_type": "display_data"
    }
   ],
   "source": [
    "# Using matplotlib\n",
    "\n",
    "# plot the histogram\n",
    "# tips.total_bill.plot.hist(bins=5) #bins: number of histogram bins to be used\n",
    "# bins.hist()\n",
    "# bins.value_counts().plot(kind='bar')\n",
    "# bins.value_counts().plot(kind='barh') # horizontal\n",
    "\n",
    "# tips.plot.scatter(x='total_bill', y='tip')\n",
    "# tips.plot.scatter(y='total_bill', x='tip')\n",
    "\n",
    "\n",
    "# Using seaborn\n",
    "tips['bins'] = bins # add a new column\n",
    "\n",
    "# count plot\n",
    "# sns.countplot(x='day', data=tips)\n",
    "# sns.countplot(x='day', hue='size', data=tips)\n",
    "\n",
    "\n",
    "# cat plot\n",
    "# sns.catplot(x='day', y='total_bill', data=tips)\n",
    "# sns.catplot(x='day', y='total_bill', hue=\"sex\", data=tips)\n",
    "# sns.catplot(x='bins', y='tip', hue=\"sex\", data=tips)\n",
    "\n",
    "# bar plot\n",
    "# sns.catplot(x='bins', y='tip', hue='day', kind='bar', data=tips) \n",
    "\n",
    "# box plot\n",
    "# sns.catplot(x='bins', y='tip', hue='sex', kind='box', data=tips) \n",
    "\n",
    "# regression plot\n",
    "# sns.regplot(x='total_bill', y='tip', data=tips)\n",
    "\n",
    "# pairplot\n",
    "# sns.pairplot(tips, vars=['total_bill', 'tip'])\n",
    "# sns.pairplot(tips)\n",
    "sns.pairplot(tips, kind='reg', hue='bins')\n",
    "\n",
    "# sns.pairplot?"
   ]
  }
 ],
 "metadata": {
  "kernelspec": {
   "display_name": "Python 3",
   "language": "python",
   "name": "python3"
  },
  "language_info": {
   "codemirror_mode": {
    "name": "ipython",
    "version": 3
   },
   "file_extension": ".py",
   "mimetype": "text/x-python",
   "name": "python",
   "nbconvert_exporter": "python",
   "pygments_lexer": "ipython3",
   "version": "3.8.5"
  }
 },
 "nbformat": 4,
 "nbformat_minor": 4
}
