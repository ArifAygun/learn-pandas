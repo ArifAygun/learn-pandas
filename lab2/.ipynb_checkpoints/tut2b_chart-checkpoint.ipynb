{
 "cells": [
  {
   "cell_type": "markdown",
   "metadata": {},
   "source": [
    "# <font color=red>**Charts**</font>\n",
    "\n",
    "* https://pandas.pydata.org/pandas-docs/stable/user_guide/visualization.html\n",
    "* https://matplotlib.org/contents.html\n",
    "* https://github.com/matplotlib/mplfinance"
   ]
  },
  {
   "cell_type": "markdown",
   "metadata": {},
   "source": [
    "### Install pandas_datareader\n",
    "\n",
    "* https://pydata.github.io/pandas-datareader/\n"
   ]
  },
  {
   "cell_type": "code",
   "execution_count": null,
   "metadata": {},
   "outputs": [],
   "source": [
    "!pip install pandas_datareader\n",
    "!pip install seaborn\n",
    "!pip install mplfinance"
   ]
  },
  {
   "cell_type": "code",
   "execution_count": null,
   "metadata": {},
   "outputs": [],
   "source": [
    "import pandas_datareader as pdr\n",
    "\n",
    "# data_source: yahoo, quandl (https://www.quandl.com/)\n",
    "stock = pdr.DataReader('0700.hk', start='2000', data_source='yahoo')\n",
    "stock\n",
    "# stock['Volume']\n"
   ]
  },
  {
   "cell_type": "code",
   "execution_count": null,
   "metadata": {},
   "outputs": [],
   "source": [
    "# stock.index\n",
    "# stock.Close.index\n",
    "\n",
    "# by label based indexer (loc)\n",
    "# stock.loc['2020'] # dataframe\n",
    "# stock.loc['2020-1':'2020-8'] # dataframe\n",
    "# stock['2020']\n",
    "\n",
    "# stock.Close['2020-1':'2020-8'] # summer\n",
    "# stock.Close['2020-1':'2020-8'].plot()"
   ]
  },
  {
   "cell_type": "markdown",
   "metadata": {},
   "source": [
    "##### Resample based on a frequency (something like groupby a frequency)\n",
    "* Frequency: https://pandas.pydata.org/pandas-docs/stable/user_guide/timeseries.html#timeseries-offset-aliases\n",
    "\n",
    "##### plot doc\n",
    "+ https://matplotlib.org/3.3.2/api/_as_gen/matplotlib.pyplot.plot.html"
   ]
  },
  {
   "cell_type": "code",
   "execution_count": null,
   "metadata": {},
   "outputs": [],
   "source": [
    "# stock.Close.resample('W') # DatetimeIndexResampler -> do aggregate function\n",
    "\n",
    "# stock.Close.resample('W').mean() # resample every\n",
    "# stock.Close['2020-1'].resample('B').max() # B: business day (mon - friday), max price of each business day\n",
    "# stock.Close['2020'].resample('W').mean() # W: week, average price of each week\n",
    "# stock.Close['2020'].resample('Q').mean() # Q: quarter end, average price of each quarter\n",
    "# stock.Close['2020'].resample('M').mean() # M: month end\n",
    "# stock.Close.resample('BA').mean().head() # BA: business year end, average price of each year\n",
    "\n",
    "import matplotlib.pyplot as plt\n",
    "import seaborn; seaborn.set()\n",
    "\n",
    "fig, ax = plt.subplots(2) # row, col\n",
    "\n",
    "stock.Close['2019'].resample('Q').mean().plot(ax=ax[0], style='--')\n",
    "stock.Close['2019'].resample('Q').median().plot(ax=ax[0], color='purple', marker='o') # purple color\n",
    "\n",
    "stock.Close['2019'].resample('Q').min().plot(ax=ax[1], style=':')\n",
    "stock.Close['2019'].resample('Q').max().plot(ax=ax[1], style='s-')\n"
   ]
  },
  {
   "cell_type": "markdown",
   "metadata": {},
   "source": [
    "##### Change Frequency (變更頻率):  asfreq()\n",
    "+ https://pandas.pydata.org/pandas-docs/stable/reference/api/pandas.DataFrame.asfreq.html\n",
    "\n",
    "##### plot doc\n",
    "+ https://matplotlib.org/3.3.2/api/_as_gen/matplotlib.pyplot.plot.html"
   ]
  },
  {
   "cell_type": "code",
   "execution_count": null,
   "metadata": {},
   "outputs": [],
   "source": [
    "# stock.asfreq('Q') # change frequency to quarter\n",
    "# stock.asfreq('M') # change frequency to month, return a dataframe\n",
    "\n",
    "stock.asfreq('M', ).Close.plot(color='green', title='Change frequency plot')\n",
    "stock.asfreq('M', method='ffill').Close.plot(color='blue', title='Change frequency plot', alpha=0.2)\n",
    "# stock.asfreq('M', method='bfill').Close.plot(color='red', marker=\"o\", title='Change frequency plot')\n"
   ]
  },
  {
   "cell_type": "markdown",
   "metadata": {},
   "source": [
    "##### Shift data: shift() \n",
    "##### Shift index: tshift()"
   ]
  },
  {
   "cell_type": "code",
   "execution_count": null,
   "metadata": {},
   "outputs": [],
   "source": [
    "# stock.loc['2019'].Close.shift(3) # shift forward, fill NaN\n",
    "# stock.loc['2019'].Close.shift(2, fill_value='0') # shift forward, fill with a value\n",
    "\n",
    "stock.loc['2019'].Close.plot() # normal\n",
    "stock.loc['2019'].Close.shift(30).plot(style=':', alpha=0.5) # shift forward\n",
    "stock.loc['2019'].Close.shift(-30).plot(style='--', alpha=0.5) # shift backward\n",
    "\n"
   ]
  },
  {
   "cell_type": "markdown",
   "metadata": {},
   "source": [
    "##### Moving Average"
   ]
  },
  {
   "cell_type": "code",
   "execution_count": null,
   "metadata": {},
   "outputs": [],
   "source": [
    "# stock['MA100'] = stock.Close.rolling(window=100).mean()\n",
    "stock['MA10'] = stock.Close.rolling(window=10).mean()\n",
    "stock['MA50'] = stock.Close.rolling(window=50).mean()\n",
    "stock['MA100'] = stock.Close.rolling(window=100).mean()\n",
    "stock['MA250'] = stock.Close.rolling(window=250).mean()\n",
    "\n",
    "stock['2020'].Close.plot()\n",
    "stock['2020'].MA10.plot(style=':')\n",
    "stock['2020'].MA50.plot(style=':')\n",
    "stock['2020'].MA100.plot(style=':')\n",
    "stock['2020'].MA250.plot()\n",
    "\n",
    "plt.legend(['Close', 'MA10', 'MA50', 'MA100', 'MA250'])\n"
   ]
  },
  {
   "cell_type": "markdown",
   "metadata": {},
   "source": [
    "* https://www.fidelity.com/learning-center/trading-investing/technical-analysis/technical-indicator-guide/bollinger-bands"
   ]
  },
  {
   "cell_type": "code",
   "execution_count": null,
   "metadata": {},
   "outputs": [],
   "source": [
    "def bband(price, maSize, numStd):\n",
    "\n",
    "    mean = price.rolling(window=maSize).mean()\n",
    "    std = price.rolling(window=maSize).std()\n",
    "    upper = mean + (std * numStd)\n",
    "    lower = mean - (std * numStd)\n",
    "\n",
    "    return mean, upper, lower\n",
    "\n",
    "\n",
    "stock['MA20'], stock['UPPER'], stock['LOWER'] = bband(stock.Close, 20, 2)\n",
    "\n",
    "stock.loc['2020':, ['Close', 'MA20','UPPER', 'LOWER']].plot(style=['-','--', ':', ':'], title='Stock analysis')\n",
    "\n",
    "plt.fill_between(stock.loc['2020':].index, stock.loc['2020':].UPPER, stock.loc['2020':].LOWER, color='#E3F2FD')"
   ]
  },
  {
   "cell_type": "markdown",
   "metadata": {},
   "source": [
    "##### Candlestick chart \n",
    "+ https://github.com/matplotlib/mplfinance"
   ]
  },
  {
   "cell_type": "code",
   "execution_count": null,
   "metadata": {},
   "outputs": [],
   "source": [
    "import mplfinance as mpf\n",
    "\n",
    "mpf.plot(stock['2020'], type='candle', style='charles', title='Candlestick chart',\n",
    "            ylabel='Price (HKD)',\n",
    "            ylabel_lower='Volume',\n",
    "            volume=True, \n",
    "            mav=(10,20))\n"
   ]
  }
 ],
 "metadata": {
  "kernelspec": {
   "display_name": "Python 3",
   "language": "python",
   "name": "python3"
  },
  "language_info": {
   "codemirror_mode": {
    "name": "ipython",
    "version": 3
   },
   "file_extension": ".py",
   "mimetype": "text/x-python",
   "name": "python",
   "nbconvert_exporter": "python",
   "pygments_lexer": "ipython3",
   "version": "3.8.5"
  }
 },
 "nbformat": 4,
 "nbformat_minor": 4
}
