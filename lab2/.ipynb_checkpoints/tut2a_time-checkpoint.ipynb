{
 "cells": [
  {
   "cell_type": "markdown",
   "metadata": {},
   "source": [
    "# <font color=red>**Pandas - Time**</font>\n",
    "1. ***Time API***\n",
    "    1. Python: **datetime**\n",
    "    1. Numpy: **datetime64** (faster)\n",
    "    1. Pandas: **timestamp** (combine datetime & datetime64)\n",
    "1. ***Time Index***\n",
    "    1. **DatetimeIndex** (Timestamp / time point)\n",
    "    1. **PeriodIndex** (Period of time - *with start time*)\n",
    "    1. **TimedeltaIndex** (Time difference - *no start time*)\n",
    "\n",
    "---"
   ]
  },
  {
   "cell_type": "markdown",
   "metadata": {},
   "source": [
    "## **Time API**"
   ]
  },
  {
   "cell_type": "markdown",
   "metadata": {},
   "source": [
    "##### Native Python Time API: **datetime**\n",
    "* https://docs.python.org/3/library/datetime.html#strftime-and-strptime-format-codes\n",
    "* easy to use, but **slow** for large volume of data"
   ]
  },
  {
   "cell_type": "code",
   "execution_count": null,
   "metadata": {},
   "outputs": [],
   "source": [
    "from datetime import datetime, timedelta\n",
    "\n",
    "now = datetime.now()\n",
    "now\n",
    "\n",
    "# now.year\n",
    "# now.month\n",
    "# now.day\n",
    "# now.weekday() # monday:0, sunday:6\n",
    "# now.ctime() # e.g. Mon Sep 28 14:45:33 2020\n",
    "\n",
    "# strftime: format date object (output format): \n",
    "# now.strftime(\"%A %d - %b %Y\") # format time\n",
    "\n",
    "# strptime: parse time string with a time format (read time string, and output a datetime object)\n",
    "# datetime.strptime('Mon Sep 28 2020', \"%a %b %d %Y\")\n"
   ]
  },
  {
   "cell_type": "markdown",
   "metadata": {},
   "source": [
    "##### Create datetime object"
   ]
  },
  {
   "cell_type": "code",
   "execution_count": 2,
   "metadata": {},
   "outputs": [
    {
     "data": {
      "text/plain": [
       "datetime.timedelta(days=29, seconds=46315, microseconds=518567)"
      ]
     },
     "execution_count": 2,
     "metadata": {},
     "output_type": "execute_result"
    }
   ],
   "source": [
    "# datetime?\n",
    "\n",
    "date = datetime(year=2020, month=10, day=30)\n",
    "date\n",
    "\n",
    "# or simply\n",
    "datetime(2020,10,30)\n",
    "\n",
    "# type(date)\n",
    "\n",
    "\n",
    "# add / substract a timedelta\n",
    "# now + timedelta(days=10)\n",
    "# now + timedelta(hours=20)\n",
    "\n",
    "# date + now # not working! adding two date is not supported\n",
    "date - now # subtraction is okay\n"
   ]
  },
  {
   "cell_type": "markdown",
   "metadata": {},
   "source": [
    "##### Numpy Time API: **datetime64**\n",
    "* https://numpy.org/doc/stable/reference/arrays.datetime.html\n",
    "* **fast** but less function than native python datetime API"
   ]
  },
  {
   "cell_type": "code",
   "execution_count": 3,
   "metadata": {},
   "outputs": [
    {
     "data": {
      "text/plain": [
       "numpy.datetime64('2020-10-30')"
      ]
     },
     "execution_count": 3,
     "metadata": {},
     "output_type": "execute_result"
    }
   ],
   "source": [
    "import numpy as np\n",
    "d = np.datetime64('2020-10-30')\n",
    "d"
   ]
  },
  {
   "cell_type": "code",
   "execution_count": 4,
   "metadata": {},
   "outputs": [
    {
     "data": {
      "text/plain": [
       "array(['2020-10-29', '2020-10-30', '2020-10-31', '2020-11-01',\n",
       "       '2020-11-02', '2020-11-03', '2020-11-04', '2020-11-05',\n",
       "       '2020-11-06', '2020-11-07', '2020-11-08', '2020-11-09',\n",
       "       '2020-11-10', '2020-11-11', '2020-11-12', '2020-11-13',\n",
       "       '2020-11-14', '2020-11-15', '2020-11-16', '2020-11-17',\n",
       "       '2020-11-18', '2020-11-19', '2020-11-20', '2020-11-21',\n",
       "       '2020-11-22', '2020-11-23', '2020-11-24', '2020-11-25',\n",
       "       '2020-11-26', '2020-11-27', '2020-11-28', '2020-11-29',\n",
       "       '2020-11-30', '2020-12-01', '2020-12-02', '2020-12-03',\n",
       "       '2020-12-04', '2020-12-05', '2020-12-06', '2020-12-07',\n",
       "       '2020-12-08', '2020-12-09', '2020-12-10', '2020-12-11',\n",
       "       '2020-12-12', '2020-12-13', '2020-12-14', '2020-12-15',\n",
       "       '2020-12-16', '2020-12-17', '2020-12-18', '2020-12-19',\n",
       "       '2020-12-20', '2020-12-21', '2020-12-22', '2020-12-23',\n",
       "       '2020-12-24', '2020-12-25', '2020-12-26', '2020-12-27',\n",
       "       '2020-12-28', '2020-12-29', '2020-12-30', '2020-12-31',\n",
       "       '2021-01-01', '2021-01-02', '2021-01-03', '2021-01-04',\n",
       "       '2021-01-05', '2021-01-06', '2021-01-07', '2021-01-08',\n",
       "       '2021-01-09', '2021-01-10', '2021-01-11', '2021-01-12',\n",
       "       '2021-01-13', '2021-01-14', '2021-01-15', '2021-01-16',\n",
       "       '2021-01-17', '2021-01-18', '2021-01-19', '2021-01-20',\n",
       "       '2021-01-21', '2021-01-22', '2021-01-23', '2021-01-24',\n",
       "       '2021-01-25', '2021-01-26', '2021-01-27', '2021-01-28',\n",
       "       '2021-01-29', '2021-01-30', '2021-01-31', '2021-02-01',\n",
       "       '2021-02-02', '2021-02-03', '2021-02-04', '2021-02-05'],\n",
       "      dtype='datetime64[D]')"
      ]
     },
     "execution_count": 4,
     "metadata": {},
     "output_type": "execute_result"
    }
   ],
   "source": [
    "date = np.array(['2020-10-29', '2020-10-30', '2020-10-31'], dtype=np.datetime64)\n",
    "# date\n",
    "# date[0]\n",
    "\n",
    "datelist = date + 10\n",
    "datelist\n",
    "\n",
    "list = np.arange(100)\n",
    "list\n",
    "# type(list)\n",
    "list + date[0]"
   ]
  },
  {
   "cell_type": "markdown",
   "metadata": {},
   "source": [
    "##### Pandas Time API: **timestamp** (python.datetime ＋ numpy.datetime64)"
   ]
  },
  {
   "cell_type": "code",
   "execution_count": 5,
   "metadata": {},
   "outputs": [
    {
     "data": {
      "text/plain": [
       "Timestamp('2020-11-01 00:00:00')"
      ]
     },
     "execution_count": 5,
     "metadata": {},
     "output_type": "execute_result"
    }
   ],
   "source": [
    "import pandas as pd\n",
    "\n",
    "# pd.to_datetime?\n",
    "ts = pd.to_datetime(\"31 Oct 2020\")\n",
    "ts # return a time delta\n",
    "\n",
    "# ts + ts # not working, not meaningful\n",
    "ts + pd.Timedelta(days=1)\n",
    "\n",
    "# ts - ts # meaning\n",
    "\n",
    "# same as python's native datetime api (flexible & easy to use)\n",
    "# ts.year\n",
    "# ts.month\n",
    "# ts.day\n",
    "# ts.weekday()\n",
    "\n",
    "# ts.strftime (\"%A %d - %b %Y\")\n"
   ]
  },
  {
   "cell_type": "markdown",
   "metadata": {},
   "source": [
    "##### **timestamp + timedelta**"
   ]
  },
  {
   "cell_type": "code",
   "execution_count": 6,
   "metadata": {},
   "outputs": [
    {
     "data": {
      "text/plain": [
       "DatetimeIndex(['2020-10-31 00:00:00', '2020-10-31 01:00:00',\n",
       "               '2020-10-31 02:00:00', '2020-10-31 03:00:00',\n",
       "               '2020-10-31 04:00:00', '2020-10-31 05:00:00',\n",
       "               '2020-10-31 06:00:00', '2020-10-31 07:00:00',\n",
       "               '2020-10-31 08:00:00', '2020-10-31 09:00:00'],\n",
       "              dtype='datetime64[ns]', freq=None)"
      ]
     },
     "execution_count": 6,
     "metadata": {},
     "output_type": "execute_result"
    }
   ],
   "source": [
    "# timestamp + timedelta (but not date+1 -> 1day? 1 month?)\n",
    "delta = pd.to_timedelta(np.arange(10), 'h') # time delta (just 1 hour, no time info, no start time)\n",
    "delta # TimedeltaIndex\n",
    "\n",
    "# timestamp PLUS timedelta\n",
    "ts + delta # return a DatetimeIndex\n",
    "\n",
    "# warning: you cannot just add an integer to a timestamp or timestamp array\n",
    "# ts + 1 # not working, TypeError\n"
   ]
  },
  {
   "cell_type": "markdown",
   "metadata": {},
   "source": [
    "##### <font color=green>**Time Index**</font>\n",
    "\n",
    "1. **DatetimeIndex** (Timestamp / time point)\n",
    "1. **PeriodIndex** (Period of time - *with start time*)\n",
    "1. **TimedeltaIndex** (Time difference - *no start time*)\n",
    "\n"
   ]
  },
  {
   "cell_type": "markdown",
   "metadata": {},
   "source": [
    "##### **Creating Index**\n",
    "\n",
    "* DatetimeIndex => **pd.DatetimeIndex([...])** OR **pd.to_datetime([...])**  => index with ts values\n",
    "* PeriodIndex => **datetimeIndex.to_period([...])**\n",
    "* TimedeltaIndex => **pd.TimedeltaIndex([...])** OR **datetimeindex - datetimeindex** => index with timedelta values\n",
    "\n",
    "##### **Conversions**\n",
    "\n",
    "1. timestamp - timestamp => **timedelta**\n",
    "1. timestamp +/- **timedelta** => timestamp\n",
    "    \n",
    "* <font color=grey>Timestamp could be single value timestamp / datetimeIndex*</font><br>\n",
    "* <font color=grey>Timedelta could be single value timedelta / timedeltaIndex</font>*\n",
    "    \n"
   ]
  },
  {
   "cell_type": "markdown",
   "metadata": {},
   "source": [
    "**<font color=red>DatetimeIndex [store timestamps]</font>** "
   ]
  },
  {
   "cell_type": "code",
   "execution_count": 7,
   "metadata": {},
   "outputs": [
    {
     "data": {
      "text/plain": [
       "2020-10-01    1\n",
       "2020-10-02    2\n",
       "2020-11-01    3\n",
       "2020-11-02    4\n",
       "2021-10-01    5\n",
       "2022-10-01    6\n",
       "dtype: int64"
      ]
     },
     "execution_count": 7,
     "metadata": {},
     "output_type": "execute_result"
    }
   ],
   "source": [
    "# method 1) use pd.DatetimeIndex()\n",
    "index = pd.DatetimeIndex(['2020-10-01', '2020-10-02', '2020-11-01', '2020-11-02', '2021-10-01', '2022-10-01']) # all timestamp\n",
    "# index - pd.Timedelta(days=2)\n",
    "index\n",
    "# method 2) use pd.to_datetime()\n",
    "# index = pd.to_datetime([datetime(2020,10,1), datetime(2020,10,2), datetime(2020,11,1), '2020-11-02', '2021-10-01', '2022-10-01']) # you can also use different time list for input \n",
    "# index # dtype is datetime64[ns]\n",
    "\n",
    "# remember when you create a series, you can specify an index\n",
    "ser = pd.Series([1,2,3,4,5,6], index=index)\n",
    "ser # dtype is int64\n",
    "\n",
    "# Selections\n",
    "# ser['2020'] # filter by year\n",
    "# ser['2020-10'] # filter by month\n",
    "# ser['2020':'2021'] # slice by year\n",
    "# ser['2020-01-01':'2021-10-1'] # slice by date\n",
    "\n",
    "# other formats\n",
    "# ser['20201002':]\n",
    "# ser['11/2020'] \n",
    "# ser['jan 2020':'oct 2020']\n",
    "# ser[datetime(2020,10,1):datetime(2020,11,1)]\n",
    "# ser[datetime.now():] # python datetime now\n",
    "# ser[datetime.now()+timedelta(days=3):] # 3 days later\n",
    "# ser[pd.Timestamp.now():pd.Timestamp(2020,12,31)] # pandas timestamp now slice"
   ]
  },
  {
   "cell_type": "markdown",
   "metadata": {},
   "source": [
    "**<font color=red>PeriodIndex</font>** "
   ]
  },
  {
   "cell_type": "code",
   "execution_count": 8,
   "metadata": {},
   "outputs": [
    {
     "data": {
      "text/plain": [
       "PeriodIndex(['2020-10-01', '2020-10-02', '2020-11-01', '2020-11-02',\n",
       "             '2021-10-01', '2022-10-01'],\n",
       "            dtype='period[D]', freq='D')"
      ]
     },
     "execution_count": 8,
     "metadata": {},
     "output_type": "execute_result"
    }
   ],
   "source": [
    "datetimeIndex = pd.DatetimeIndex(['2020-10-01', '2020-10-02', '2020-11-01', '2020-11-02', '2021-10-01', '2022-10-01']) # all timestamp\n",
    "# datetimeIndex # dtype is datetime64[ns]\n",
    "\n",
    "# convert a DateTimeIndex to PeriodIndex\n",
    "datetimeIndex.to_period('D') # period is a period of time, with start time\n"
   ]
  },
  {
   "cell_type": "markdown",
   "metadata": {},
   "source": [
    "**<font color=red>TimeDeltaIndex</font>**"
   ]
  },
  {
   "cell_type": "code",
   "execution_count": 9,
   "metadata": {},
   "outputs": [
    {
     "data": {
      "text/plain": [
       "TimedeltaIndex(['1 days', '2 days', '3 days'], dtype='timedelta64[ns]', freq=None)"
      ]
     },
     "execution_count": 9,
     "metadata": {},
     "output_type": "execute_result"
    }
   ],
   "source": [
    "# DateTimeIndex is all TS, TS can do + / - with other TS\n",
    "datetimeIndex = pd.DatetimeIndex(['2020-10-01', '2020-10-02', '2020-11-01', '2020-11-02', '2021-10-01', '2022-10-01']) # all timestamp\n",
    "# datetimeIndex # dtype is datetime64[ns]\n",
    "\n",
    "# datetimeIndex - datetimeIndex # return timedeltaIndex\n",
    "# datetimeIndex - datetimeIndex[0] # return timedeltaIndex\n",
    "# datetimeIndex + pd.Timedelta(days=1) # return datetimeindex\n",
    "\n",
    "# OR\n",
    "timedeltaIndex = pd.TimedeltaIndex([pd.Timedelta(days=1), pd.Timedelta(days=2), pd.Timedelta(days=3)])\n",
    "timedeltaIndex\n"
   ]
  },
  {
   "cell_type": "markdown",
   "metadata": {},
   "source": [
    "##### <font color=green>**Range functions**</font>\n",
    "\n",
    "1. Python - Range()\n",
    "1. Numpy  - np.arange()\n",
    "1. Pandas \n",
    "    1. pd.**date_range**(start, end, periods, freq) => **DatetimeIndex**\n",
    "    1. pd.**period_range**(start, end, periods, freq) => **PeriodIndex**\n",
    "    1. pd.**timedelta_range**(start, end, periods, freq) => **TimedeltaIndex**\n",
    "   "
   ]
  },
  {
   "cell_type": "code",
   "execution_count": 10,
   "metadata": {},
   "outputs": [],
   "source": [
    "# date range\n",
    "# pd.date_range('2020-10-1', '2020-10-10') # every day in range\n",
    "# pd.date_range('2020-10-1', '2020-10-10', freq='h') # every hour in range\n",
    "# pd.date_range('2020-10-1', '2020-10-10', periods=3) # divide into 3 sections\n",
    "# pd.date_range('2020-10-1', periods=10, freq='d') # start, end, periods, freq (at most 3 of them)\n",
    "\n",
    "# period range\n",
    "# pd.period_range('2020-10-1', periods=10)\n",
    "# pd.period_range('2020-10-1', periods=10, freq='h')\n",
    "# pd.period_range('2020-1', '2020-12', freq='M')\n",
    "\n",
    "# timedelta index\n",
    "# pd.timedelta_range(start='1d', end='10D')\n",
    "# pd.timedelta_range(start='1d', periods=10, freq='2d')\n",
    "# pd.timedelta_range(start='1d 12:00:00', periods=12, freq='1h')\n"
   ]
  },
  {
   "cell_type": "code",
   "execution_count": 11,
   "metadata": {},
   "outputs": [],
   "source": [
    "# when you know how to create time index, you can use it to create the series\n",
    "serTs = pd.Series(np.arange(10), index = pd.date_range('2020-10-1', periods=10))\n",
    "serPeriod = pd.Series(np.arange(10), index = pd.period_range('2020-10-1', periods=10))\n",
    "serDelta = pd.Series(np.arange(10), index = pd.timedelta_range(start='1d', end='10D'))\n"
   ]
  },
  {
   "cell_type": "markdown",
   "metadata": {},
   "source": [
    "##### Time in Pandas\n",
    "1. Timestamp -> DatetimeIndex\n",
    "2. Period -> PeriodIndex\n",
    "3. Timedelta -> TimedeltaIndex\n"
   ]
  },
  {
   "cell_type": "code",
   "execution_count": 1,
   "metadata": {},
   "outputs": [],
   "source": [
    "# time = pd.Timestamp(2020,11,11)\n",
    "# delta = pd.Timedelta(days=3)\n",
    "# period = pd.Period('2020', freq='A-MAR')\n",
    "\n",
    "# periodMonth = pd.Period('2021-10') # create a month period\n",
    "# periodDay = periodMonth.asfreq('D','s') # change to D, put it at the beginning of the period\n",
    "# periodDay.start_time # there is a start time\n",
    "# periodDay.end_time # there is a end time\n",
    "# periodMonth+2 # since period has a duration, you can add a number to it\n",
    "\n",
    "# PeriodIndex use\n",
    "# serPeriod['2020-10-02':'2020-10-05'] # basic record retrieval operations \n",
    "\n",
    "# Use start / end time of period to create a new DatetimeIndex\n",
    "# serPeriod.index.map(lambda x: x.start_time) \n",
    "\n",
    "\n",
    "# All types of time index can be used as regular column as well, not just for index\n",
    "# df = pd.DataFrame({'date':pd.date_range('2020-10-1', periods=10), \n",
    "#                    'period':pd.period_range('2021-10-1', periods=10),  \n",
    "#                    'delta':pd.timedelta_range(start='1d', end='10D') })\n",
    "# df\n",
    "\n",
    "# Date query with a date variable\n",
    "# deadline = pd.Timestamp.now() + pd.Timedelta(days=5)\n",
    "# df.query('date > @deadline')\n",
    "\n",
    "# Between date query\n",
    "# fromDate = pd.Timestamp.now()\n",
    "# toDate = fromDate + pd.Timedelta(days=3)\n",
    "# df[ (df['date'] > fromDate) & (df['date'] < toDate) ] # boolean mask method\n",
    "# df.query('date > @fromDate & date < @toDate') # query function equivalent\n",
    "\n",
    "# Between time query (select based on time)\n",
    "# dfDate = pd.DataFrame({'A': [1, 2, 3, 4, 5]}, index=pd.date_range('2020-10-20', periods=5, freq='1D3H'))\n",
    "# dfDate\n",
    "# dfDate.between_time('9:00', '18:00') # use between_time to select office hour\n"
   ]
  }
 ],
 "metadata": {
  "kernelspec": {
   "display_name": "Python 3",
   "language": "python",
   "name": "python3"
  },
  "language_info": {
   "codemirror_mode": {
    "name": "ipython",
    "version": 3
   },
   "file_extension": ".py",
   "mimetype": "text/x-python",
   "name": "python",
   "nbconvert_exporter": "python",
   "pygments_lexer": "ipython3",
   "version": "3.8.5"
  }
 },
 "nbformat": 4,
 "nbformat_minor": 4
}
