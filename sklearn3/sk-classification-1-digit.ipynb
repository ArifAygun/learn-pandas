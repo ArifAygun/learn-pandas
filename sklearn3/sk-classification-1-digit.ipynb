{
 "cells": [
  {
   "cell_type": "markdown",
   "metadata": {},
   "source": [
    "# Machine Learning\n",
    "\n",
    "1. Supervised Learning\n",
    "    1. Regression (predict value)\n",
    "    1. **Classification (predict label)**\n",
    "1. Unsupervised Learning\n",
    "    1. Clustering \n",
    "    1. Dimensionality reduction"
   ]
  },
  {
   "cell_type": "markdown",
   "metadata": {},
   "source": [
    "---"
   ]
  },
  {
   "cell_type": "markdown",
   "metadata": {},
   "source": [
    "# Classification\n",
    "* Step 1: **Training** - Input labeled data to a classification algorithm\n",
    "* Step 2: **Prediction** - Based on trained algorithm, make a prediction on unseen data"
   ]
  },
  {
   "cell_type": "markdown",
   "metadata": {},
   "source": [
    "#### Problems in classification"
   ]
  },
  {
   "cell_type": "markdown",
   "metadata": {},
   "source": [
    "##### Read the Dataset"
   ]
  },
  {
   "cell_type": "code",
   "execution_count": 1,
   "metadata": {},
   "outputs": [
    {
     "data": {
      "text/plain": [
       "dict_keys(['data', 'target', 'frame', 'feature_names', 'target_names', 'images', 'DESCR'])"
      ]
     },
     "execution_count": 1,
     "metadata": {},
     "output_type": "execute_result"
    }
   ],
   "source": [
    "# Read the digits dataset\n",
    "\n",
    "from sklearn.datasets import load_digits\n",
    "digits = load_digits() # load digits dataset (bundled with sklearn for learning / testing purpose)\n",
    "\n",
    "digits.keys()\n",
    "\n",
    "# Step 1: \n",
    "# Step 2: classification task is to accept unseen data and predict the label "
   ]
  },
  {
   "cell_type": "code",
   "execution_count": 11,
   "metadata": {},
   "outputs": [],
   "source": [
    "# use dot notation or [] to access the key\n",
    "# print(digits['DESCR'])\n",
    "# digits.data # column(s) for training (attributes / features / inputs - X)\n",
    "# digits.data.shape\n",
    "# digits.target # label of a class (label / outcome / output / response - y)\n",
    "\n",
    "# digits.images.shape\n",
    "# digits.feature_names # column names of X"
   ]
  },
  {
   "cell_type": "code",
   "execution_count": 12,
   "metadata": {},
   "outputs": [
    {
     "name": "stdout",
     "output_type": "stream",
     "text": [
      "digits.data:\n",
      " [[ 0.  0.  5. ...  0.  0.  0.]\n",
      " [ 0.  0.  0. ... 10.  0.  0.]\n",
      " [ 0.  0.  0. ... 16.  9.  0.]\n",
      " ...\n",
      " [ 0.  0.  1. ...  6.  0.  0.]\n",
      " [ 0.  0.  2. ... 12.  0.  0.]\n",
      " [ 0.  0. 10. ... 12.  1.  0.]]\n",
      "\n",
      "digits.data.shape:\n",
      " (1797, 64)\n",
      "\n",
      "digits.target:\n",
      " [0 1 2 ... 8 9 8]\n",
      "digits.target.shape:\n",
      " (1797,)\n"
     ]
    }
   ],
   "source": [
    "print(f'digits.data:\\n {digits.data}\\n') # numpy array (1797, 64) => 1797 rows, 64 column (pixels) => 1 image in a row (64)\n",
    "print(f'digits.data.shape:\\n {digits.data.shape}\\n')\n",
    "\n",
    "print(f'digits.target:\\n {digits.target}') # numpy array\n",
    "print(f'digits.target.shape:\\n {digits.target.shape}') # numpy array\n",
    "\n",
    "# print(f'digits.images.shape:\\n {digits.images.shape}') # numpy array (1797, 8, 8) => images (8x8)\n",
    "\n",
    "# print(type(digits.images))\n",
    "# print(digits.feature_names) # feature name / column name"
   ]
  },
  {
   "cell_type": "markdown",
   "metadata": {},
   "source": [
    "##### Visualize the dataset"
   ]
  },
  {
   "cell_type": "code",
   "execution_count": 13,
   "metadata": {},
   "outputs": [
    {
     "data": {
      "text/plain": [
       "<matplotlib.image.AxesImage at 0x23d1a466c70>"
      ]
     },
     "execution_count": 13,
     "metadata": {},
     "output_type": "execute_result"
    },
    {
     "data": {
      "image/png": "[encoded data removed]",
      "text/plain": [
       "<Figure size 432x288 with 1 Axes>"
      ]
     },
     "metadata": {
      "needs_background": "light"
     },
     "output_type": "display_data"
    }
   ],
   "source": [
    "# show single digit\n",
    "import matplotlib.pyplot as plt\n",
    "\n",
    "digit_index = 0\n",
    "dig_img = digits.images[digit_index]\n",
    "plt.axis('off')\n",
    "plt.imshow(dig_img, cmap='binary') # imshow - display data as image"
   ]
  },
  {
   "cell_type": "code",
   "execution_count": 14,
   "metadata": {},
   "outputs": [
    {
     "data": {
      "image/png": "[encoded data removed]",
      "text/plain": [
       "<Figure size 576x576 with 100 Axes>"
      ]
     },
     "metadata": {
      "needs_background": "light"
     },
     "output_type": "display_data"
    }
   ],
   "source": [
    "# show first 100 digits\n",
    "import matplotlib.pyplot as plt\n",
    "\n",
    "fig, axes = plt.subplots(10, 10, figsize=(8,8)) # print first 100 digits\n",
    "\n",
    "for i, ax in enumerate(axes.flat):\n",
    "    dig_img = digits.images[i]\n",
    "    ax.axis('off')\n",
    "    ax.text(0, 0, digits.target[i], color='blue')\n",
    "    ax.imshow(dig_img, cmap='binary')"
   ]
  },
  {
   "cell_type": "markdown",
   "metadata": {},
   "source": [
    "---"
   ]
  },
  {
   "cell_type": "markdown",
   "metadata": {},
   "source": [
    "### <font color=red>**Don't use ALL DATA for training**</font>"
   ]
  },
  {
   "cell_type": "markdown",
   "metadata": {},
   "source": [
    "### Split the dataset\n",
    "* Split the data into **Training set** & **Testing set**\n",
    "* **Training set** for training\n",
    "* **Testing set** for performance evaluation\n",
    "\n",
    "(You may can it train set / test set)"
   ]
  },
  {
   "cell_type": "code",
   "execution_count": 15,
   "metadata": {},
   "outputs": [],
   "source": [
    "X, y = digits.data, digits.target"
   ]
  },
  {
   "cell_type": "code",
   "execution_count": 16,
   "metadata": {},
   "outputs": [],
   "source": [
    "# divide the data into TRAINING SET AND TESTING SET\n",
    "# TRAINING SET is for training / learning / fit\n",
    "# TESTING SET is for checking the accuracy of prediction\n",
    "\n",
    "from sklearn.model_selection import train_test_split\n",
    "X_train, X_test, y_train, y_test = train_test_split(X, y, random_state=1)"
   ]
  },
  {
   "cell_type": "markdown",
   "metadata": {},
   "source": [
    "---"
   ]
  },
  {
   "cell_type": "markdown",
   "metadata": {},
   "source": [
    "##### Candidate 1: **SVC (Linear)**"
   ]
  },
  {
   "cell_type": "markdown",
   "metadata": {},
   "source": [
    "<img src='SVM.png' width=250> <img src='knn.png' width=250>\n",
    "\n",
    "<hr>\n",
    "\n",
    "<img src='svm_error.png' width=800>\n",
    "\n",
    "<hr>\n",
    "\n",
    "<img src='svm_kernel.png' width=500>\n",
    "\n",
    "**Kernel trick for non-linear boundary**\n",
    "* https://scikit-learn.org/stable/auto_examples/svm/plot_iris_svc.html"
   ]
  },
  {
   "cell_type": "code",
   "execution_count": 17,
   "metadata": {},
   "outputs": [
    {
     "name": "stdout",
     "output_type": "stream",
     "text": [
      "Wall time: 122 ms\n"
     ]
    },
    {
     "data": {
      "text/plain": [
       "SVC(C=1, kernel='linear', random_state=0)"
      ]
     },
     "execution_count": 17,
     "metadata": {},
     "output_type": "execute_result"
    }
   ],
   "source": [
    "%%time\n",
    "from sklearn.svm import SVC\n",
    "svc = SVC(kernel='linear', C=1, random_state=0)\n",
    "svc.fit(X_train, y_train)  # NOT svc.fit(X, y) - cannot use all data for training"
   ]
  },
  {
   "cell_type": "code",
   "execution_count": 18,
   "metadata": {},
   "outputs": [
    {
     "name": "stdout",
     "output_type": "stream",
     "text": [
      "Wall time: 7 ms\n"
     ]
    }
   ],
   "source": [
    "%%time\n",
    "svc_pred = svc.predict(X_test) # this is slow of large amount of data"
   ]
  },
  {
   "cell_type": "code",
   "execution_count": 19,
   "metadata": {},
   "outputs": [
    {
     "data": {
      "text/plain": [
       "0.9844444444444445"
      ]
     },
     "execution_count": 19,
     "metadata": {},
     "output_type": "execute_result"
    }
   ],
   "source": [
    "from sklearn.metrics import accuracy_score\n",
    "accuracy_score(y_test, svc_pred) # TEST SET accuracy"
   ]
  },
  {
   "cell_type": "code",
   "execution_count": 20,
   "metadata": {},
   "outputs": [
    {
     "name": "stdout",
     "output_type": "stream",
     "text": [
      "              precision    recall  f1-score   support\n",
      "\n",
      "           0       1.00      1.00      1.00        53\n",
      "           1       1.00      1.00      1.00        42\n",
      "           2       1.00      1.00      1.00        41\n",
      "           3       0.98      0.98      0.98        52\n",
      "           4       1.00      1.00      1.00        47\n",
      "           5       0.95      0.97      0.96        39\n",
      "           6       1.00      1.00      1.00        43\n",
      "           7       1.00      0.98      0.99        48\n",
      "           8       0.95      0.97      0.96        37\n",
      "           9       0.96      0.94      0.95        48\n",
      "\n",
      "    accuracy                           0.98       450\n",
      "   macro avg       0.98      0.98      0.98       450\n",
      "weighted avg       0.98      0.98      0.98       450\n",
      "\n"
     ]
    }
   ],
   "source": [
    "from sklearn import metrics\n",
    "print(metrics.classification_report(y_test, svc_pred))\n",
    "\n",
    "# support: # of true sample of this class\n",
    "# precision: tp / (tp + fp) \n",
    "# recall: tp / (tp + fn)\n",
    "# f1-score: 2 * (precision * recall) / (precision + recall) => weighted average of the precision and recall"
   ]
  },
  {
   "cell_type": "code",
   "execution_count": 21,
   "metadata": {},
   "outputs": [
    {
     "data": {
      "image/png": "[encoded data removed]",
      "text/plain": [
       "<Figure size 432x288 with 2 Axes>"
      ]
     },
     "metadata": {
      "needs_background": "light"
     },
     "output_type": "display_data"
    }
   ],
   "source": [
    "##### Confusion matrix\n",
    "import seaborn as sns\n",
    "from sklearn.metrics import confusion_matrix\n",
    "conf_mat = confusion_matrix(y_test, svc_pred)\n",
    "\n",
    "res = sns.heatmap(conf_mat, square=True, annot=True, fmt='d',cmap='Reds')"
   ]
  },
  {
   "cell_type": "markdown",
   "metadata": {},
   "source": [
    "---"
   ]
  },
  {
   "cell_type": "markdown",
   "metadata": {},
   "source": [
    "##### **Evaluate multiple classifiers**"
   ]
  },
  {
   "cell_type": "markdown",
   "metadata": {},
   "source": [
    "<img src='logistic_regression.png' width=520>"
   ]
  },
  {
   "cell_type": "code",
   "execution_count": 22,
   "metadata": {},
   "outputs": [
    {
     "name": "stdout",
     "output_type": "stream",
     "text": [
      " 1. KNeighborsClassifier                        0.99333\n",
      "-------------------------------------------------------\n",
      "                precision    recall  f1-score   support\n",
      "\n",
      "           0       1.00      1.00      1.00        53\n",
      "           1       1.00      1.00      1.00        42\n",
      "           2       1.00      0.98      0.99        41\n",
      "           3       1.00      1.00      1.00        52\n",
      "           4       1.00      1.00      1.00        47\n",
      "           5       1.00      0.97      0.99        39\n",
      "           6       1.00      1.00      1.00        43\n",
      "           7       0.98      0.98      0.98        48\n",
      "           8       1.00      1.00      1.00        37\n",
      "           9       0.96      1.00      0.98        48\n",
      "\n",
      "    accuracy                           0.99       450\n",
      "   macro avg       0.99      0.99      0.99       450\n",
      "weighted avg       0.99      0.99      0.99       450\n",
      "\n",
      " 2. SVC                                         0.98444\n",
      "-------------------------------------------------------\n",
      "                precision    recall  f1-score   support\n",
      "\n",
      "           0       1.00      1.00      1.00        53\n",
      "           1       1.00      1.00      1.00        42\n",
      "           2       1.00      1.00      1.00        41\n",
      "           3       0.98      0.98      0.98        52\n",
      "           4       1.00      1.00      1.00        47\n",
      "           5       0.95      0.97      0.96        39\n",
      "           6       1.00      1.00      1.00        43\n",
      "           7       1.00      0.98      0.99        48\n",
      "           8       0.95      0.97      0.96        37\n",
      "           9       0.96      0.94      0.95        48\n",
      "\n",
      "    accuracy                           0.98       450\n",
      "   macro avg       0.98      0.98      0.98       450\n",
      "weighted avg       0.98      0.98      0.98       450\n",
      "\n",
      " 3. RandomForestClassifier                      0.97778\n",
      "-------------------------------------------------------\n",
      "                precision    recall  f1-score   support\n",
      "\n",
      "           0       1.00      0.96      0.98        53\n",
      "           1       1.00      1.00      1.00        42\n",
      "           2       1.00      1.00      1.00        41\n",
      "           3       1.00      0.92      0.96        52\n",
      "           4       0.96      1.00      0.98        47\n",
      "           5       0.97      0.97      0.97        39\n",
      "           6       1.00      1.00      1.00        43\n",
      "           7       0.98      0.98      0.98        48\n",
      "           8       0.95      0.97      0.96        37\n",
      "           9       0.92      0.98      0.95        48\n",
      "\n",
      "    accuracy                           0.98       450\n",
      "   macro avg       0.98      0.98      0.98       450\n",
      "weighted avg       0.98      0.98      0.98       450\n",
      "\n",
      " 4. LogisticRegression                          0.96889\n",
      "-------------------------------------------------------\n",
      "                precision    recall  f1-score   support\n",
      "\n",
      "           0       1.00      0.98      0.99        53\n",
      "           1       0.98      1.00      0.99        42\n",
      "           2       1.00      1.00      1.00        41\n",
      "           3       0.96      0.94      0.95        52\n",
      "           4       0.96      1.00      0.98        47\n",
      "           5       0.90      0.92      0.91        39\n",
      "           6       1.00      1.00      1.00        43\n",
      "           7       0.98      0.96      0.97        48\n",
      "           8       0.92      0.95      0.93        37\n",
      "           9       0.98      0.94      0.96        48\n",
      "\n",
      "    accuracy                           0.97       450\n",
      "   macro avg       0.97      0.97      0.97       450\n",
      "weighted avg       0.97      0.97      0.97       450\n",
      "\n",
      " 5. DecisionTreeClassifier                      0.85111\n",
      "-------------------------------------------------------\n",
      "                precision    recall  f1-score   support\n",
      "\n",
      "           0       1.00      0.91      0.95        53\n",
      "           1       0.97      0.81      0.88        42\n",
      "           2       0.95      0.85      0.90        41\n",
      "           3       0.81      0.65      0.72        52\n",
      "           4       0.78      0.91      0.84        47\n",
      "           5       0.76      0.90      0.82        39\n",
      "           6       0.91      0.93      0.92        43\n",
      "           7       0.84      0.90      0.87        48\n",
      "           8       0.77      0.81      0.79        37\n",
      "           9       0.77      0.85      0.81        48\n",
      "\n",
      "    accuracy                           0.85       450\n",
      "   macro avg       0.86      0.85      0.85       450\n",
      "weighted avg       0.86      0.85      0.85       450\n",
      "\n",
      "Wall time: 6.33 s\n"
     ]
    },
    {
     "data": {
      "image/png": "[encoded data removed]",
      "text/plain": [
       "<Figure size 1080x576 with 13 Axes>"
      ]
     },
     "metadata": {},
     "output_type": "display_data"
    }
   ],
   "source": [
    "%%time\n",
    "import seaborn as sns\n",
    "from sklearn.metrics import confusion_matrix\n",
    "from sklearn.metrics import accuracy_score\n",
    "\n",
    "from sklearn.svm import SVC\n",
    "from sklearn.neighbors import KNeighborsClassifier\n",
    "from sklearn.linear_model import LogisticRegression # for classification\n",
    "from sklearn.tree import DecisionTreeClassifier\n",
    "from sklearn.ensemble import RandomForestClassifier\n",
    "\n",
    "import collections, operator\n",
    "RunResult = collections.namedtuple('RunResult', 'model pred accuracy clf_report conf_mat')\n",
    "\n",
    "# try some models\n",
    "rand_state = 1\n",
    "model_list = [\n",
    "             SVC(kernel='linear'),\n",
    "             KNeighborsClassifier(n_neighbors=5),\n",
    "             LogisticRegression(max_iter=5000),\n",
    "             DecisionTreeClassifier(),\n",
    "             RandomForestClassifier(),\n",
    "             ]\n",
    "\n",
    "result_list = []\n",
    "for model in model_list:\n",
    "    model.fit(X_train, y_train) # training - fit()\n",
    "    pred = model.predict(X_test)\n",
    "    accuracy = accuracy_score(y_test, pred)  # TEST SET accuracy of this model\n",
    "    clf_report = metrics.classification_report(y_test, pred)\n",
    "    conf_mat = confusion_matrix(y_test, pred)\n",
    "    \n",
    "    result_list.append(RunResult(model, pred, accuracy, clf_report, conf_mat))\n",
    "\n",
    "# sort the results by accuracy \n",
    "result_list.sort(key=operator.attrgetter('accuracy'), reverse=True)\n",
    "\n",
    "# figure = plt.figure(figsize=(10, 10))\n",
    "space=' '\n",
    "sns.set(font_scale=0.9)\n",
    "\n",
    "fig, axes = plt.subplots(2, 4, figsize=(15,8))\n",
    "axes = axes.ravel()\n",
    "for i, result in enumerate(result_list):\n",
    "    model_name = type(result.model).__name__\n",
    "    print(f'{i+1:2}. {model_name:30}              {result.accuracy:6.5f}')\n",
    "    print('-'*55)\n",
    "    print(f'  {result.clf_report}')\n",
    "    sns.heatmap(result.conf_mat, square=True, annot=True, fmt='d', cmap='Reds',\\\n",
    "                ax=axes[i]).set_title(model_name)\n",
    "    axes[i].set_xlabel('Predict')\n",
    "    axes[i].set_ylabel('Actual')\n",
    "\n",
    "# keep the best model\n",
    "best_model = result_list[0].model"
   ]
  },
  {
   "cell_type": "markdown",
   "metadata": {},
   "source": [
    "---"
   ]
  },
  {
   "cell_type": "markdown",
   "metadata": {},
   "source": [
    "##### Cross Validation\n",
    "* k-fold CV - Randomly split the data into k equal parts and use 1 part as a validation set at a time to check the performance of that run\n",
    "* Repeat K times to get the average score of runs"
   ]
  },
  {
   "cell_type": "code",
   "execution_count": 26,
   "metadata": {},
   "outputs": [
    {
     "data": {
      "text/plain": [
       "array([0.97037037, 0.97037037, 0.97037037, 0.97777778, 0.99259259,\n",
       "       0.99259259, 0.98518519, 0.98507463, 0.99253731, 0.99253731])"
      ]
     },
     "execution_count": 26,
     "metadata": {},
     "output_type": "execute_result"
    }
   ],
   "source": [
    "# K-fold validation\n",
    "\n",
    "from sklearn.model_selection import cross_val_score\n",
    "from sklearn.neighbors import KNeighborsClassifier\n",
    "knn = KNeighborsClassifier()\n",
    "scores = cross_val_score(knn, X_train, y_train, scoring='accuracy', cv=10) \n",
    "scores\n",
    "\n",
    "# scores.mean()\n",
    "\n",
    "# import sklearn.metrics\n",
    "# sorted(sklearn.metrics.SCORERS.keys())"
   ]
  },
  {
   "cell_type": "code",
   "execution_count": 27,
   "metadata": {},
   "outputs": [
    {
     "name": "stdout",
     "output_type": "stream",
     "text": [
      "dict_keys(['fit_time', 'score_time', 'test_score'])\n",
      "Fit time:[0.01400352 0.01400328 0.01300335 0.01300335 0.01400304 0.01300263\n",
      " 0.01400328 0.01300263 0.01300359 0.01300287]\n",
      "Score time:[0.01500273 0.01400304 0.01400232 0.01400304 0.01400352 0.01500297\n",
      " 0.01400352 0.01400328 0.01400232 0.01400328]\n",
      "Accuracy: [0.97037037 0.97037037 0.97037037 0.97777778 0.99259259 0.99259259\n",
      " 0.98518519 0.98507463 0.99253731 0.99253731]\n"
     ]
    }
   ],
   "source": [
    "from sklearn.model_selection import cross_validate\n",
    "knn = KNeighborsClassifier()\n",
    "\n",
    "cv_results = cross_validate(knn, X_train, y_train, scoring='accuracy', cv=10)\n",
    "\n",
    "print(cv_results.keys())\n",
    "print('Fit time:' + str(cv_results['fit_time']))  # fit time of each split \n",
    "print('Score time:' + str(cv_results['score_time'])) # score time of each split\n",
    "print('Accuracy: ' + str(cv_results['test_score'])) # score of each split"
   ]
  },
  {
   "cell_type": "markdown",
   "metadata": {},
   "source": [
    "---"
   ]
  },
  {
   "cell_type": "markdown",
   "metadata": {},
   "source": [
    "### Hyperparameters tuning\n",
    "* there are many combinations\n",
    "* use cross validation\n",
    "* it could be slow!"
   ]
  },
  {
   "cell_type": "markdown",
   "metadata": {},
   "source": [
    "**GridSearchCV**"
   ]
  },
  {
   "cell_type": "code",
   "execution_count": 28,
   "metadata": {},
   "outputs": [
    {
     "data": {
      "text/plain": [
       "GridSearchCV(cv=5, estimator=KNeighborsClassifier(),\n",
       "             param_grid=[{'n_neighbors': range(2, 21),\n",
       "                          'weights': ['uniform', 'distance']}],\n",
       "             return_train_score=True, scoring='accuracy')"
      ]
     },
     "execution_count": 28,
     "metadata": {},
     "output_type": "execute_result"
    }
   ],
   "source": [
    "# KNeighborsClassifier(n_neighbors=3)\n",
    "from sklearn.model_selection import GridSearchCV\n",
    "params = [\n",
    "    {'n_neighbors':range(2,21),\n",
    "     'weights':['uniform','distance'],},  # 19*2=38 combinations\n",
    "]\n",
    "\n",
    "# weights: weight function used in prediction\n",
    "# Possible values: ‘uniform’ : uniform weights. All points in each neighborhood are weighted equally.\n",
    "#                  ‘distance’ : weight points by the inverse of their distance \n",
    "\n",
    "clf = KNeighborsClassifier()\n",
    "search_cv = GridSearchCV(clf, params, cv=5, scoring='accuracy', return_train_score=True)\n",
    "search_cv.fit(X_train, y_train)"
   ]
  },
  {
   "cell_type": "code",
   "execution_count": 29,
   "metadata": {},
   "outputs": [
    {
     "data": {
      "text/plain": [
       "KNeighborsClassifier(n_neighbors=2, weights='distance')"
      ]
     },
     "execution_count": 29,
     "metadata": {},
     "output_type": "execute_result"
    }
   ],
   "source": [
    "search_cv.best_estimator_"
   ]
  },
  {
   "cell_type": "code",
   "execution_count": 30,
   "metadata": {},
   "outputs": [
    {
     "name": "stdout",
     "output_type": "stream",
     "text": [
      "GridSearchCV results:\n",
      "\n",
      "  1      0.97848, {'n_neighbors': 2, 'weights': 'uniform'}\n",
      "  2 *    0.98442, {'n_neighbors': 2, 'weights': 'distance'}\n",
      "  3      0.98294, {'n_neighbors': 3, 'weights': 'uniform'}\n",
      "  4      0.98368, {'n_neighbors': 3, 'weights': 'distance'}\n",
      "  5      0.98071, {'n_neighbors': 4, 'weights': 'uniform'}\n",
      "  6      0.98368, {'n_neighbors': 4, 'weights': 'distance'}\n",
      "  7      0.98145, {'n_neighbors': 5, 'weights': 'uniform'}\n",
      "  8      0.98294, {'n_neighbors': 5, 'weights': 'distance'}\n",
      "  9      0.97700, {'n_neighbors': 6, 'weights': 'uniform'}\n",
      " 10      0.98220, {'n_neighbors': 6, 'weights': 'distance'}\n",
      " 11      0.97700, {'n_neighbors': 7, 'weights': 'uniform'}\n",
      " 12      0.97922, {'n_neighbors': 7, 'weights': 'distance'}\n",
      " 13      0.97774, {'n_neighbors': 8, 'weights': 'uniform'}\n",
      " 14      0.97922, {'n_neighbors': 8, 'weights': 'distance'}\n",
      " 15      0.97551, {'n_neighbors': 9, 'weights': 'uniform'}\n",
      " 16      0.97699, {'n_neighbors': 9, 'weights': 'distance'}\n",
      " 17      0.97402, {'n_neighbors': 10, 'weights': 'uniform'}\n",
      " 18      0.97625, {'n_neighbors': 10, 'weights': 'distance'}\n",
      " 19      0.97031, {'n_neighbors': 11, 'weights': 'uniform'}\n",
      " 20      0.97402, {'n_neighbors': 11, 'weights': 'distance'}\n",
      " 21      0.96957, {'n_neighbors': 12, 'weights': 'uniform'}\n",
      " 22      0.97179, {'n_neighbors': 12, 'weights': 'distance'}\n",
      " 23      0.96809, {'n_neighbors': 13, 'weights': 'uniform'}\n",
      " 24      0.96957, {'n_neighbors': 13, 'weights': 'distance'}\n",
      " 25      0.96512, {'n_neighbors': 14, 'weights': 'uniform'}\n",
      " 26      0.96957, {'n_neighbors': 14, 'weights': 'distance'}\n",
      " 27      0.96438, {'n_neighbors': 15, 'weights': 'uniform'}\n",
      " 28      0.96661, {'n_neighbors': 15, 'weights': 'distance'}\n",
      " 29      0.96215, {'n_neighbors': 16, 'weights': 'uniform'}\n",
      " 30      0.96661, {'n_neighbors': 16, 'weights': 'distance'}\n",
      " 31      0.96216, {'n_neighbors': 17, 'weights': 'uniform'}\n",
      " 32      0.96661, {'n_neighbors': 17, 'weights': 'distance'}\n",
      " 33      0.96067, {'n_neighbors': 18, 'weights': 'uniform'}\n",
      " 34      0.96438, {'n_neighbors': 18, 'weights': 'distance'}\n",
      " 35      0.96141, {'n_neighbors': 19, 'weights': 'uniform'}\n",
      " 36      0.96512, {'n_neighbors': 19, 'weights': 'distance'}\n",
      " 37      0.96141, {'n_neighbors': 20, 'weights': 'uniform'}\n",
      " 38      0.96438, {'n_neighbors': 20, 'weights': 'distance'}\n"
     ]
    }
   ],
   "source": [
    "print(\"GridSearchCV results:\\n\")\n",
    "for i, (mean, params) in enumerate(zip(search_cv.cv_results_['mean_test_score'], search_cv.cv_results_['params'])):\n",
    "    if search_cv.best_score_ == mean:\n",
    "        print(f' {i+1:2} * {mean:10.5f}, {params}')\n",
    "    else:\n",
    "        print(f' {i+1:2}   {mean:10.5f}, {params}')    "
   ]
  },
  {
   "cell_type": "markdown",
   "metadata": {},
   "source": [
    "**GridSearchCV (another example)**"
   ]
  },
  {
   "cell_type": "code",
   "execution_count": 31,
   "metadata": {},
   "outputs": [
    {
     "name": "stdout",
     "output_type": "stream",
     "text": [
      "GridSearchCV results:\n",
      "\n",
      "  1      0.97700, {'kernel': 'linear'}\n",
      "  2      0.98441, {'kernel': 'rbf'}\n",
      "  3 *    0.98739, {'kernel': 'poly'}\n",
      "  4      0.91019, {'kernel': 'sigmoid'}\n"
     ]
    }
   ],
   "source": [
    "# another example\n",
    "\n",
    "from sklearn.model_selection import GridSearchCV\n",
    "from sklearn.svm import SVC\n",
    "\n",
    "params = [\n",
    "    {'kernel': ['linear', 'rbf', 'poly', 'sigmoid'] }, # which kernel perform better (with default hyperparams)\n",
    "]\n",
    "\n",
    "model = SVC()\n",
    "\n",
    "search_cv = GridSearchCV(model, params, cv=5, scoring='accuracy', return_train_score=True)\n",
    "search_cv.fit(X_train, y_train)\n",
    "\n",
    "# print scores of each param\n",
    "print(\"GridSearchCV results:\\n\")\n",
    "for i, (mean, params) in enumerate(zip(search_cv.cv_results_['mean_test_score'], search_cv.cv_results_['params'])):\n",
    "    if search_cv.best_score_ == mean:\n",
    "        print(f' {i+1:2} * {mean:10.5f}, {params}')\n",
    "    else:\n",
    "        print(f' {i+1:2}   {mean:10.5f}, {params}')    "
   ]
  },
  {
   "cell_type": "markdown",
   "metadata": {},
   "source": [
    "**RandomizedSearchCV**"
   ]
  },
  {
   "cell_type": "code",
   "execution_count": 35,
   "metadata": {},
   "outputs": [
    {
     "data": {
      "text/plain": [
       "RandomizedSearchCV(cv=5, estimator=KNeighborsClassifier(),\n",
       "                   param_distributions=[{'n_neighbors': range(2, 21),\n",
       "                                         'weights': ['uniform', 'distance']}],\n",
       "                   return_train_score=True, scoring='accuracy')"
      ]
     },
     "execution_count": 35,
     "metadata": {},
     "output_type": "execute_result"
    }
   ],
   "source": [
    "from sklearn.model_selection import RandomizedSearchCV\n",
    "params = [\n",
    "    {'n_neighbors':range(2,21), \n",
    "     'weights':['uniform','distance'],},  # ? combinations\n",
    "]\n",
    "\n",
    "clf = KNeighborsClassifier()\n",
    "# n_iter -> just randomly pick n combinations for evaluation! (default = 10)\n",
    "search_rand = RandomizedSearchCV(clf, params, cv=5, n_iter=10, scoring='accuracy', return_train_score=True)\n",
    "search_rand.fit(X_train, y_train)"
   ]
  },
  {
   "cell_type": "code",
   "execution_count": 36,
   "metadata": {},
   "outputs": [
    {
     "data": {
      "text/plain": [
       "KNeighborsClassifier(n_neighbors=2, weights='distance')"
      ]
     },
     "execution_count": 36,
     "metadata": {},
     "output_type": "execute_result"
    }
   ],
   "source": [
    "search_rand.best_estimator_"
   ]
  },
  {
   "cell_type": "code",
   "execution_count": 37,
   "metadata": {},
   "outputs": [
    {
     "name": "stdout",
     "output_type": "stream",
     "text": [
      "RandomizeSearchCV results:\n",
      "\n",
      "  1      0.98368, {'weights': 'distance', 'n_neighbors': 3}\n",
      "  2      0.97922, {'weights': 'distance', 'n_neighbors': 7}\n",
      "  3      0.98368, {'weights': 'distance', 'n_neighbors': 4}\n",
      "  4      0.96215, {'weights': 'uniform', 'n_neighbors': 16}\n",
      "  5 *    0.98442, {'weights': 'distance', 'n_neighbors': 2}\n",
      "  6      0.97031, {'weights': 'uniform', 'n_neighbors': 11}\n",
      "  7      0.97700, {'weights': 'uniform', 'n_neighbors': 7}\n",
      "  8      0.96438, {'weights': 'distance', 'n_neighbors': 18}\n",
      "  9      0.97551, {'weights': 'uniform', 'n_neighbors': 9}\n",
      " 10      0.97625, {'weights': 'distance', 'n_neighbors': 10}\n"
     ]
    }
   ],
   "source": [
    "print(\"RandomizeSearchCV results:\\n\")\n",
    "for i, (mean, params) in enumerate(zip(search_rand.cv_results_['mean_test_score'], search_rand.cv_results_['params'])):\n",
    "    if search_rand.best_score_ == mean:\n",
    "        print(f' {i+1:2} * {mean:10.5f}, {params}')\n",
    "    else:\n",
    "        print(f' {i+1:2}   {mean:10.5f}, {params}')    "
   ]
  }
 ],
 "metadata": {
  "kernelspec": {
   "display_name": "Python 3",
   "language": "python",
   "name": "python3"
  },
  "language_info": {
   "codemirror_mode": {
    "name": "ipython",
    "version": 3
   },
   "file_extension": ".py",
   "mimetype": "text/x-python",
   "name": "python",
   "nbconvert_exporter": "python",
   "pygments_lexer": "ipython3",
   "version": "3.8.5"
  }
 },
 "nbformat": 4,
 "nbformat_minor": 4
}
