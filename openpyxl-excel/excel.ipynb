{
 "cells": [
  {
   "cell_type": "markdown",
   "metadata": {},
   "source": [
    "# openpyxl"
   ]
  },
  {
   "cell_type": "markdown",
   "metadata": {},
   "source": [
    "#### Packages that can read / write excel files:\n",
    "* openpyxl (READ/WRITE xlsx)\n",
    "* xlrd (READ xls/xlsx)\n",
    "* xlwt (WRITE xls)\n",
    "* xlsxwriter (WRITE xlsx)"
   ]
  },
  {
   "cell_type": "markdown",
   "metadata": {},
   "source": [
    "# Install openpyxl"
   ]
  },
  {
   "cell_type": "code",
   "execution_count": 1,
   "metadata": {},
   "outputs": [
    {
     "name": "stdout",
     "output_type": "stream",
     "text": [
      "Requirement already satisfied: openpyxl in d:\\python38\\lib\\site-packages (3.0.4)\n",
      "Requirement already satisfied: jdcal in d:\\python38\\lib\\site-packages (from openpyxl) (1.4.1)\n",
      "Requirement already satisfied: et-xmlfile in d:\\python38\\lib\\site-packages (from openpyxl) (1.0.1)\n"
     ]
    }
   ],
   "source": [
    "!pip install openpyxl"
   ]
  },
  {
   "cell_type": "markdown",
   "metadata": {},
   "source": [
    "# Read xlsx"
   ]
  },
  {
   "cell_type": "markdown",
   "metadata": {},
   "source": [
    "### Workbook & Worksheet"
   ]
  },
  {
   "cell_type": "code",
   "execution_count": 2,
   "metadata": {},
   "outputs": [
    {
     "data": {
      "text/plain": [
       "['population']"
      ]
     },
     "execution_count": 2,
     "metadata": {},
     "output_type": "execute_result"
    }
   ],
   "source": [
    "import openpyxl\n",
    "\n",
    "# load xlsx document\n",
    "# https://zh.wikipedia.org/wiki/2011%E5%B9%B4%E9%A6%99%E6%B8%AF%E4%BA%BA%E5%8F%A3%E6%99%AE%E6%9F%A5\n",
    "wb = openpyxl.load_workbook('population.xlsx') \n",
    "\n",
    "# show all available sheets\n",
    "wb.sheetnames"
   ]
  },
  {
   "cell_type": "code",
   "execution_count": 3,
   "metadata": {},
   "outputs": [
    {
     "data": {
      "text/plain": [
       "'population'"
      ]
     },
     "execution_count": 3,
     "metadata": {},
     "output_type": "execute_result"
    }
   ],
   "source": [
    "# get sheet name by index position (zero-based)\n",
    "wb.sheetnames[0]"
   ]
  },
  {
   "cell_type": "code",
   "execution_count": 4,
   "metadata": {},
   "outputs": [
    {
     "data": {
      "text/plain": [
       "openpyxl.worksheet.worksheet.Worksheet"
      ]
     },
     "execution_count": 4,
     "metadata": {},
     "output_type": "execute_result"
    }
   ],
   "source": [
    "# access a sheet by name \n",
    "ws = wb['population'] # by sheet name\n",
    "type(ws)"
   ]
  },
  {
   "cell_type": "code",
   "execution_count": 5,
   "metadata": {},
   "outputs": [
    {
     "data": {
      "text/plain": [
       "openpyxl.cell.cell.Cell"
      ]
     },
     "execution_count": 5,
     "metadata": {},
     "output_type": "execute_result"
    }
   ],
   "source": [
    "# access a cell\n",
    "cell = ws['A2'] # OR workbook['Sheet1']['A1']\n",
    "type(cell)"
   ]
  },
  {
   "cell_type": "markdown",
   "metadata": {},
   "source": [
    "### Cell"
   ]
  },
  {
   "cell_type": "code",
   "execution_count": 6,
   "metadata": {},
   "outputs": [
    {
     "data": {
      "text/plain": [
       "'農業及漁業'"
      ]
     },
     "execution_count": 6,
     "metadata": {},
     "output_type": "execute_result"
    }
   ],
   "source": [
    "cell.value # get value of a cell"
   ]
  },
  {
   "cell_type": "code",
   "execution_count": 7,
   "metadata": {},
   "outputs": [
    {
     "data": {
      "text/plain": [
       "2"
      ]
     },
     "execution_count": 7,
     "metadata": {},
     "output_type": "execute_result"
    }
   ],
   "source": [
    "cell.row # row of current cell (start from 1)"
   ]
  },
  {
   "cell_type": "code",
   "execution_count": 8,
   "metadata": {},
   "outputs": [
    {
     "data": {
      "text/plain": [
       "1"
      ]
     },
     "execution_count": 8,
     "metadata": {},
     "output_type": "execute_result"
    }
   ],
   "source": [
    "cell.column # column of current cell (start from 1)"
   ]
  },
  {
   "cell_type": "code",
   "execution_count": 9,
   "metadata": {},
   "outputs": [
    {
     "data": {
      "text/plain": [
       "'A2'"
      ]
     },
     "execution_count": 9,
     "metadata": {},
     "output_type": "execute_result"
    }
   ],
   "source": [
    "cell.coordinate # e.g. A1, B2"
   ]
  },
  {
   "cell_type": "code",
   "execution_count": 10,
   "metadata": {},
   "outputs": [
    {
     "data": {
      "text/plain": [
       "'行業'"
      ]
     },
     "execution_count": 10,
     "metadata": {},
     "output_type": "execute_result"
    }
   ],
   "source": [
    "ws['A1'].value # cell of a value at the same time"
   ]
  },
  {
   "cell_type": "code",
   "execution_count": 11,
   "metadata": {},
   "outputs": [
    {
     "data": {
      "text/plain": [
       "'行業'"
      ]
     },
     "execution_count": 11,
     "metadata": {},
     "output_type": "execute_result"
    }
   ],
   "source": [
    "# get a cell with numbers \n",
    "cell = ws.cell(1,1) # row, column, ONE-BASED!!!!!!!!!!!\n",
    "cell.value"
   ]
  },
  {
   "cell_type": "code",
   "execution_count": 12,
   "metadata": {},
   "outputs": [],
   "source": [
    "# update value of a cell\n",
    "cell.value = '各行業'"
   ]
  },
  {
   "cell_type": "code",
   "execution_count": 13,
   "metadata": {},
   "outputs": [
    {
     "name": "stdout",
     "output_type": "stream",
     "text": [
      "農業及漁業： 4504\n",
      "採礦及採石業： 190\n",
      "製造業： 142973\n",
      "電力、燃氣及自來水供應： 22497\n",
      "建造業： 275517\n",
      "進出口、批發及零售業： 805269\n",
      "運輸、倉庫、郵政及速遞服務業： 316597\n",
      "住宿及膳食服務業： 278939\n",
      "資訊及通訊業： 116757\n",
      "金融及保險業： 219564\n",
      "地產業： 135878\n",
      "專業、科學及技術服務業： 171763\n",
      "行政及支援服務業： 154434\n",
      "公共行政： 106643\n",
      "教育： 178097\n",
      "醫療保健及社工活動： 169469\n",
      "藝術、娛樂及休閒服務業： 59115\n",
      "其他服務業： 103296\n",
      "家庭住戶內部工作活動： 285251\n"
     ]
    }
   ],
   "source": [
    "# working with loop\n",
    "\n",
    "for i in range(2, 100):\n",
    "    job = ws.cell(i, 1).value\n",
    "    population = ws.cell(i, 2).value\n",
    "    \n",
    "    if job is None:\n",
    "        break\n",
    "    else:\n",
    "        print(f'{job}： {population}')"
   ]
  },
  {
   "cell_type": "code",
   "execution_count": 14,
   "metadata": {},
   "outputs": [
    {
     "name": "stdout",
     "output_type": "stream",
     "text": [
      "1 -> A\n",
      "2 -> B\n",
      "3 -> C\n",
      "4 -> D\n",
      "5 -> E\n",
      "6 -> F\n",
      "7 -> G\n",
      "8 -> H\n",
      "9 -> I\n",
      "10 -> J\n",
      "11 -> K\n",
      "12 -> L\n",
      "13 -> M\n",
      "14 -> N\n",
      "15 -> O\n",
      "16 -> P\n",
      "17 -> Q\n",
      "18 -> R\n",
      "19 -> S\n",
      "20 -> T\n",
      "21 -> U\n",
      "22 -> V\n",
      "23 -> W\n",
      "24 -> X\n",
      "25 -> Y\n",
      "26 -> Z\n",
      "27 -> AA\n",
      "28 -> AB\n",
      "29 -> AC\n"
     ]
    }
   ],
   "source": [
    "from openpyxl.utils import get_column_letter\n",
    "\n",
    "for i in range(1, 30):\n",
    "    print(f'{i} -> {get_column_letter(i)}')"
   ]
  },
  {
   "cell_type": "code",
   "execution_count": 15,
   "metadata": {},
   "outputs": [
    {
     "data": {
      "text/plain": [
       "1"
      ]
     },
     "execution_count": 15,
     "metadata": {},
     "output_type": "execute_result"
    }
   ],
   "source": [
    "from openpyxl.utils import column_index_from_string\n",
    "\n",
    "column_index_from_string('A') # do the opposite lookup"
   ]
  },
  {
   "cell_type": "code",
   "execution_count": 16,
   "metadata": {},
   "outputs": [],
   "source": [
    "# ws['A1'] # access a cell, remember?\n",
    "\n",
    "ws['A2':'B20'] # access a range of cell (tuple of tuple)\n",
    "ws['A2':'B20']\n",
    "\n",
    "# method 1\n",
    "for row in ws['A2':'B20']:\n",
    "    for cell in row:\n",
    "        print(f'{cell.coordinate} ({cell.row}, {cell.column}) : {cell.value}')   \n",
    "        \n",
    "# method 2    \n",
    "# for row in ws['A2':'C20']:\n",
    "#     job = row[0].value\n",
    "#     population = row[1].value\n",
    "\n",
    "#     print(f'{job}：{population}')    "
   ]
  },
  {
   "cell_type": "code",
   "execution_count": 17,
   "metadata": {},
   "outputs": [
    {
     "data": {
      "text/plain": [
       "'=SUM(B2:B20)'"
      ]
     },
     "execution_count": 17,
     "metadata": {},
     "output_type": "execute_result"
    }
   ],
   "source": [
    "cell = ws['B22'] # formula\n",
    "cell.value # =SUM(B2:B20)"
   ]
  },
  {
   "cell_type": "markdown",
   "metadata": {},
   "source": [
    "# Update xlsx"
   ]
  },
  {
   "cell_type": "code",
   "execution_count": 18,
   "metadata": {},
   "outputs": [
    {
     "data": {
      "text/plain": [
       "['population', 'population Copy']"
      ]
     },
     "execution_count": 18,
     "metadata": {},
     "output_type": "execute_result"
    }
   ],
   "source": [
    "wb = openpyxl.load_workbook('population.xlsx')\n",
    "\n",
    "# create a copy of worksheet\n",
    "wb.copy_worksheet(wb.active) # pass the active worksheet as parameter\n",
    "wb.sheetnames"
   ]
  },
  {
   "cell_type": "code",
   "execution_count": 19,
   "metadata": {},
   "outputs": [
    {
     "data": {
      "text/plain": [
       "['population', 'population modified']"
      ]
     },
     "execution_count": 19,
     "metadata": {},
     "output_type": "execute_result"
    }
   ],
   "source": [
    "wb['population Copy'].title = 'population modified'\n",
    "wb.sheetnames"
   ]
  },
  {
   "cell_type": "code",
   "execution_count": 20,
   "metadata": {},
   "outputs": [],
   "source": [
    "wb.active = wb['population modified']\n",
    "# wb.active"
   ]
  },
  {
   "cell_type": "code",
   "execution_count": 21,
   "metadata": {},
   "outputs": [
    {
     "data": {
      "text/plain": [
       "3546753"
      ]
     },
     "execution_count": 21,
     "metadata": {},
     "output_type": "execute_result"
    }
   ],
   "source": [
    "from openpyxl.styles import PatternFill, Font\n",
    "\n",
    "# add header\n",
    "ws = wb.active\n",
    "ws['C1'].value = '百分比%' # header\n",
    "ws['C1'].fill = PatternFill(start_color=\"DEE7E5\", fill_type = \"solid\")\n",
    "ws['C1'].font = Font(name='Times New Roman', size=10, bold=True)\n",
    "\n",
    "# compute total\n",
    "total = 0\n",
    "for row in ws['B2':'B20']:\n",
    "    for cell in row:\n",
    "        total = total + cell.value\n",
    "\n",
    "total"
   ]
  },
  {
   "cell_type": "code",
   "execution_count": 22,
   "metadata": {},
   "outputs": [
    {
     "name": "stdout",
     "output_type": "stream",
     "text": [
      "農業及漁業：4504 (0.13%)\n",
      "採礦及採石業：190 (0.01%)\n",
      "製造業：142973 (4.03%)\n",
      "電力、燃氣及自來水供應：22497 (0.63%)\n",
      "建造業：275517 (7.77%)\n",
      "進出口、批發及零售業：805269 (22.70%)\n",
      "運輸、倉庫、郵政及速遞服務業：316597 (8.93%)\n",
      "住宿及膳食服務業：278939 (7.86%)\n",
      "資訊及通訊業：116757 (3.29%)\n",
      "金融及保險業：219564 (6.19%)\n",
      "地產業：135878 (3.83%)\n",
      "專業、科學及技術服務業：171763 (4.84%)\n",
      "行政及支援服務業：154434 (4.35%)\n",
      "公共行政：106643 (3.01%)\n",
      "教育：178097 (5.02%)\n",
      "醫療保健及社工活動：169469 (4.78%)\n",
      "藝術、娛樂及休閒服務業：59115 (1.67%)\n",
      "其他服務業：103296 (2.91%)\n",
      "家庭住戶內部工作活動：285251 (8.04%)\n"
     ]
    }
   ],
   "source": [
    "from openpyxl.styles import Alignment\n",
    "from openpyxl.styles.numbers import FORMAT_PERCENTAGE_00, FORMAT_NUMBER_00\n",
    "\n",
    "for i in range(2, 100):\n",
    "    job = wb.active.cell(i, 1).value\n",
    "    population = wb.active.cell(i, 2).value\n",
    "   \n",
    "    if job is None:\n",
    "        break\n",
    "    else:\n",
    "        percent = population / total * 100\n",
    "#         wb.active.cell(i, 3).value = \"{:.2f}%\".format(percent) # update 3rd column cell here\n",
    "        wb.active.cell(i, 3).value = percent\n",
    "        wb.active.cell(i, 3).alignment = Alignment(horizontal='right') \n",
    "        wb.active.cell(i, 3).number_format = FORMAT_NUMBER_00 \n",
    "        \n",
    "        print(f'{job}：{population} ({percent:.2f}%)')    "
   ]
  },
  {
   "cell_type": "code",
   "execution_count": 23,
   "metadata": {},
   "outputs": [],
   "source": [
    "wb.active['C22'] = '=SUM(C2:C20)' # add formula to a cell"
   ]
  },
  {
   "cell_type": "code",
   "execution_count": 24,
   "metadata": {},
   "outputs": [],
   "source": [
    "wb.save('population_modified.xlsx')"
   ]
  },
  {
   "cell_type": "markdown",
   "metadata": {},
   "source": [
    "### Worksheet to Dataframe (pandas)"
   ]
  },
  {
   "cell_type": "code",
   "execution_count": 25,
   "metadata": {},
   "outputs": [
    {
     "name": "stdout",
     "output_type": "stream",
     "text": [
      "Requirement already satisfied: pandas in d:\\python38\\lib\\site-packages (1.1.0)\n",
      "Requirement already satisfied: python-dateutil>=2.7.3 in d:\\python38\\lib\\site-packages (from pandas) (2.8.1)\n",
      "Requirement already satisfied: pytz>=2017.2 in d:\\python38\\lib\\site-packages (from pandas) (2020.1)\n",
      "Requirement already satisfied: numpy>=1.15.4 in d:\\python38\\lib\\site-packages (from pandas) (1.18.5)\n",
      "Requirement already satisfied: six>=1.5 in d:\\python38\\lib\\site-packages (from python-dateutil>=2.7.3->pandas) (1.15.0)\n"
     ]
    }
   ],
   "source": [
    "!pip install pandas"
   ]
  },
  {
   "cell_type": "code",
   "execution_count": 41,
   "metadata": {},
   "outputs": [],
   "source": [
    "import pandas as pd\n",
    "\n",
    "ws = wb.active\n",
    "\n",
    "df = pd.DataFrame(ws.values)\n",
    "df.drop([0, 20, 21], inplace=True)\n",
    "df.drop(columns=[3,4], inplace=True)\n",
    "df.columns = ['industry', 'population', '%']\n",
    "\n",
    "# df.population.mean() # mean population\n",
    "# df.population.sum() # sum population"
   ]
  },
  {
   "cell_type": "markdown",
   "metadata": {},
   "source": [
    "# New workbook"
   ]
  },
  {
   "cell_type": "code",
   "execution_count": 44,
   "metadata": {},
   "outputs": [],
   "source": [
    "import openpyxl\n",
    "\n",
    "wb = openpyxl.Workbook()\n",
    "\n",
    "# by default one worksheet named 'Sheet' is available\n",
    "# so you don't have to create a new worksheet \n",
    "# wb.active  # default active worksheet is Sheet\n",
    "\n",
    "wb.create_sheet('Sheet 2') # create a new worksheet manually\n",
    "wb.sheetnames # now you have two worksheets\n",
    "\n",
    "wb.active = wb['Sheet'] # switch active worksheet\n",
    "wb.active['A1'] = 'Sheet content'\n",
    "\n",
    "wb.active = wb['Sheet 2'] # switch active worksheet\n",
    "wb.active['A1'] = 'Sheet 2 content'\n",
    "\n",
    "wb.save('new_workbook.xlsx')"
   ]
  }
 ],
 "metadata": {
  "kernelspec": {
   "display_name": "Python 3",
   "language": "python",
   "name": "python3"
  },
  "language_info": {
   "codemirror_mode": {
    "name": "ipython",
    "version": 3
   },
   "file_extension": ".py",
   "mimetype": "text/x-python",
   "name": "python",
   "nbconvert_exporter": "python",
   "pygments_lexer": "ipython3",
   "version": "3.8.5"
  }
 },
 "nbformat": 4,
 "nbformat_minor": 4
}
