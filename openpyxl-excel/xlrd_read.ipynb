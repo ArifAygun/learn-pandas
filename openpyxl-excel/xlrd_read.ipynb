{
 "cells": [
  {
   "cell_type": "markdown",
   "metadata": {},
   "source": [
    "# xlrd\n",
    "* https://github.com/python-excel/xlrd"
   ]
  },
  {
   "cell_type": "code",
   "execution_count": 5,
   "metadata": {},
   "outputs": [
    {
     "name": "stdout",
     "output_type": "stream",
     "text": [
      "Row(0)\n",
      "  Col(0): 行業\n",
      "  Col(1): 人口\n",
      "Row(1)\n",
      "  Col(0): 農業及漁業\n",
      "  Col(1): 4504.0\n",
      "Row(2)\n",
      "  Col(0): 採礦及採石業\n",
      "  Col(1): 190.0\n",
      "Row(3)\n",
      "  Col(0): 製造業\n",
      "  Col(1): 142973.0\n",
      "Row(4)\n",
      "  Col(0): 電力、燃氣及自來水供應\n",
      "  Col(1): 22497.0\n",
      "Row(5)\n",
      "  Col(0): 建造業\n",
      "  Col(1): 275517.0\n",
      "Row(6)\n",
      "  Col(0): 進出口、批發及零售業\n",
      "  Col(1): 805269.0\n",
      "Row(7)\n",
      "  Col(0): 運輸、倉庫、郵政及速遞服務業\n",
      "  Col(1): 316597.0\n",
      "Row(8)\n",
      "  Col(0): 住宿及膳食服務業\n",
      "  Col(1): 278939.0\n",
      "Row(9)\n",
      "  Col(0): 資訊及通訊業\n",
      "  Col(1): 116757.0\n",
      "Row(10)\n",
      "  Col(0): 金融及保險業\n",
      "  Col(1): 219564.0\n",
      "Row(11)\n",
      "  Col(0): 地產業\n",
      "  Col(1): 135878.0\n",
      "Row(12)\n",
      "  Col(0): 專業、科學及技術服務業\n",
      "  Col(1): 171763.0\n",
      "Row(13)\n",
      "  Col(0): 行政及支援服務業\n",
      "  Col(1): 154434.0\n",
      "Row(14)\n",
      "  Col(0): 公共行政\n",
      "  Col(1): 106643.0\n",
      "Row(15)\n",
      "  Col(0): 教育\n",
      "  Col(1): 178097.0\n",
      "Row(16)\n",
      "  Col(0): 醫療保健及社工活動\n",
      "  Col(1): 169469.0\n",
      "Row(17)\n",
      "  Col(0): 藝術、娛樂及休閒服務業\n",
      "  Col(1): 59115.0\n",
      "Row(18)\n",
      "  Col(0): 其他服務業\n",
      "  Col(1): 103296.0\n",
      "Row(19)\n",
      "  Col(0): 家庭住戶內部工作活動\n",
      "  Col(1): 285251.0\n",
      "Row(20)\n",
      "  Col(0): \n",
      "  Col(1): \n",
      "Row(21)\n",
      "  Col(0): 總計\n",
      "  Col(1): 3546753.0\n"
     ]
    }
   ],
   "source": [
    "import xlrd\n",
    "\n",
    "wb = xlrd.open_workbook(\"population.xlsx\")\n",
    "\n",
    "# get all sheet names\n",
    "sheetsName = wb.sheet_names()\n",
    "\n",
    "# get sheet by sheet name\n",
    "ws = wb.sheet_by_name('population')\n",
    "\n",
    "# # get sheet by index\n",
    "ws = wb.sheet_by_index(0) # zero-based index\n",
    "\n",
    "# ws.ncols # number of colums\n",
    "# ws.nrows # number of rows\n",
    "\n",
    "for row in range(0, ws.nrows):    # for each row\n",
    "    \n",
    "    print (f'Row({row})')  \n",
    "    for col in range(0, ws.ncols):  \n",
    "        cell = ws.cell(row, col) # ws.cell(row, col)  \n",
    "        print (f'  Col({col}): {cell.value}')"
   ]
  }
 ],
 "metadata": {
  "kernelspec": {
   "display_name": "Python 3",
   "language": "python",
   "name": "python3"
  },
  "language_info": {
   "codemirror_mode": {
    "name": "ipython",
    "version": 3
   },
   "file_extension": ".py",
   "mimetype": "text/x-python",
   "name": "python",
   "nbconvert_exporter": "python",
   "pygments_lexer": "ipython3",
   "version": "3.8.5"
  }
 },
 "nbformat": 4,
 "nbformat_minor": 4
}
